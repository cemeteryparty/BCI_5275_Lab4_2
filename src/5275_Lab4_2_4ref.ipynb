{
  "nbformat": 4,
  "nbformat_minor": 0,
  "metadata": {
    "colab": {
      "name": "5275_Lab4_2_4ref.ipynb",
      "provenance": [],
      "collapsed_sections": []
    },
    "kernelspec": {
      "name": "python3",
      "display_name": "Python 3"
    },
    "language_info": {
      "name": "python"
    },
    "accelerator": "GPU"
  },
  "cells": [
    {
      "cell_type": "code",
      "metadata": {
        "id": "8dLUI5Hg-oXz",
        "colab": {
          "base_uri": "https://localhost:8080/"
        },
        "outputId": "f54b4b27-b303-4445-e0fb-12240f7dd352"
      },
      "source": [
        "#!ls -al /content/drive/MyDrive/lab4\n",
        "!nvidia-smi"
      ],
      "execution_count": null,
      "outputs": [
        {
          "output_type": "stream",
          "text": [
            "Mon May 17 07:17:52 2021       \n",
            "+-----------------------------------------------------------------------------+\n",
            "| NVIDIA-SMI 465.19.01    Driver Version: 460.32.03    CUDA Version: 11.2     |\n",
            "|-------------------------------+----------------------+----------------------+\n",
            "| GPU  Name        Persistence-M| Bus-Id        Disp.A | Volatile Uncorr. ECC |\n",
            "| Fan  Temp  Perf  Pwr:Usage/Cap|         Memory-Usage | GPU-Util  Compute M. |\n",
            "|                               |                      |               MIG M. |\n",
            "|===============================+======================+======================|\n",
            "|   0  Tesla T4            Off  | 00000000:00:04.0 Off |                    0 |\n",
            "| N/A   66C    P8    12W /  70W |      0MiB / 15109MiB |      0%      Default |\n",
            "|                               |                      |                  N/A |\n",
            "+-------------------------------+----------------------+----------------------+\n",
            "                                                                               \n",
            "+-----------------------------------------------------------------------------+\n",
            "| Processes:                                                                  |\n",
            "|  GPU   GI   CI        PID   Type   Process name                  GPU Memory |\n",
            "|        ID   ID                                                   Usage      |\n",
            "|=============================================================================|\n",
            "|  No running processes found                                                 |\n",
            "+-----------------------------------------------------------------------------+\n"
          ],
          "name": "stdout"
        }
      ]
    },
    {
      "cell_type": "code",
      "metadata": {
        "id": "NGvhNc-R77KO"
      },
      "source": [
        "import torch\n",
        "import torch.nn as nn\n",
        "import torch.optim as optim\n",
        "import torch.nn.functional as F\n",
        "from torch.utils.data import DataLoader\n",
        "from torch.utils.data import TensorDataset\n",
        "from torchsummary import summary\n",
        "\n",
        "from matplotlib import pyplot as plt\n",
        "from scipy.io import loadmat\n",
        "import math, sys, os, time\n",
        "import numpy as np\n",
        "\n",
        "DATASET_DIR = \"/content/drive/MyDrive/AE-4-EEG-Artifact-Removal/BCICIV2a/\"\n",
        "BASE_DIR = \"/content/drive/MyDrive/lab4/\"\n",
        "device = torch.device(\"cuda\" if torch.cuda.is_available() else \"cpu\")\n",
        "# torch shape: (batch_size, chan (depth), h, w)"
      ],
      "execution_count": null,
      "outputs": []
    },
    {
      "cell_type": "code",
      "metadata": {
        "id": "ucxAR2cT8yFz"
      },
      "source": [
        "class EEGNet(nn.Module):\n",
        "    def __init__(self):\n",
        "        super(EEGNet, self).__init__()\n",
        "\n",
        "        self.F1 = 8\n",
        "        self.F2 = 16\n",
        "        self.D = 2\n",
        "\n",
        "        self.conv1 = nn.Sequential(\n",
        "            nn.Conv2d(1, self.F1, (1, 64), padding=(0, 32), bias=False),\n",
        "            nn.BatchNorm2d(self.F1)\n",
        "        )\n",
        "\n",
        "        self.conv2 = nn.Sequential(\n",
        "            nn.Conv2d(self.F1, self.D*self.F1, (22, 1), groups=self.F1, bias=False),\n",
        "            nn.BatchNorm2d(self.D*self.F1),\n",
        "            nn.ELU(),\n",
        "            nn.AvgPool2d((1, 4)),\n",
        "            nn.Dropout(0.5)\n",
        "        )\n",
        "\n",
        "        self.Conv3 = nn.Sequential(\n",
        "            nn.Conv2d(self.D*self.F1, self.D*self.F1, (1, 16), padding=(0, 8), groups=self.D*self.F1, bias=False),\n",
        "            nn.Conv2d(self.D*self.F1, self.F2, (1, 1), bias=False),\n",
        "            nn.BatchNorm2d(self.F2),\n",
        "            nn.ELU(),\n",
        "            nn.AvgPool2d((1, 8)),\n",
        "            nn.Dropout(0.5)\n",
        "        )\n",
        "\n",
        "        self.classifier = nn.Linear(16*17, 4, bias=True)\n",
        "        #self.softmax = nn.Softmax()\n",
        "\n",
        "    def forward(self, x):\n",
        "        x = self.conv1(x)\n",
        "        x = self.conv2(x)\n",
        "        x = self.Conv3(x)\n",
        "        \n",
        "        x = x.view(-1, 16*17)\n",
        "        x = self.classifier(x)\n",
        "        #x = self.softmax(x)\n",
        "        return x"
      ],
      "execution_count": null,
      "outputs": []
    },
    {
      "cell_type": "code",
      "metadata": {
        "id": "J3tl_gY69J50"
      },
      "source": [
        "class ShallowConvNet(nn.Module):\n",
        "    def __init__(self):\n",
        "        super(ShallowConvNet, self).__init__()\n",
        "\n",
        "        self.conv1 = nn.Conv2d(1, 40, (1, 13), bias=False)\n",
        "        self.conv2 = nn.Conv2d(40, 40, (22, 1), bias=False)\n",
        "        self.Bn1   = nn.BatchNorm2d(40)\n",
        "        # self.SquareLayer = square_layer()\n",
        "        self.AvgPool1 = nn.AvgPool2d((1, 35), stride=(1, 7))\n",
        "        # self.LogLayer = Log_layer()\n",
        "        self.Drop1 = nn.Dropout(0.25)\n",
        "        self.classifier = nn.Linear(40*74, 4, bias=True)\n",
        "        #self.softmax = nn.Softmax()\n",
        "\n",
        "    def forward(self, x):\n",
        "        x = self.conv1(x)\n",
        "        x = self.conv2(x)\n",
        "        x = self.Bn1(x)\n",
        "        x = x ** 2\n",
        "        x = self.AvgPool1(x)\n",
        "        x = torch.log(x)\n",
        "        x = self.Drop1(x)\n",
        "        x = x.view(-1, 40*74)\n",
        "        x = self.classifier(x)\n",
        "\n",
        "        #x = self.softmax(x)\n",
        "        return x"
      ],
      "execution_count": null,
      "outputs": []
    },
    {
      "cell_type": "code",
      "metadata": {
        "id": "GVO_wSNW9MaK"
      },
      "source": [
        "class SCCNet(nn.Module):\n",
        "    def __init__(self):\n",
        "        super(SCCNet, self).__init__()\n",
        "        # bs, 1, channel, sample\n",
        "        self.conv1 = nn.Conv2d(1, 22, (22, 1))\n",
        "        self.Bn1 = nn.BatchNorm2d(22)\n",
        "        # bs, 22, 1, sample\n",
        "        self.conv2 = nn.Conv2d(22, 20, (1, 12), padding=(0, 6))\n",
        "        self.Bn2   = nn.BatchNorm2d(20)\n",
        "        # self.SquareLayer = square_layer()\n",
        "        self.Drop1 = nn.Dropout(0.5)\n",
        "        self.AvgPool1 = nn.AvgPool2d((1, 62), stride=(1, 12))\n",
        "        self.classifier = nn.Linear(840, 4, bias=True)\n",
        "        #self.softmax = nn.Softmax()\n",
        "\n",
        "    def forward(self, x):\n",
        "        x = self.conv1(x)\n",
        "        x = self.Bn1(x)\n",
        "        x = self.conv2(x)\n",
        "        x = self.Bn2(x)\n",
        "        x = x ** 2\n",
        "        x = self.Drop1(x)\n",
        "        x = self.AvgPool1(x)\n",
        "        x = torch.log(x)\n",
        "        x = x.view(-1, 840)\n",
        "        x = self.classifier(x)\n",
        "\n",
        "        #x = self.softmax(x)\n",
        "        return x"
      ],
      "execution_count": null,
      "outputs": []
    },
    {
      "cell_type": "code",
      "metadata": {
        "id": "UyFvsxUJ9PCU"
      },
      "source": [
        "class TSception(nn.Module):\n",
        "    def conv_block(self, in_chan, out_chan, kernel, step, pool):\n",
        "        return nn.Sequential(\n",
        "            nn.Conv2d(in_channels=in_chan, out_channels=out_chan,\n",
        "                      kernel_size=kernel, stride=step, padding=0),\n",
        "            nn.LeakyReLU(),\n",
        "            nn.AvgPool2d(kernel_size=(1, pool), stride=(1, pool)))\n",
        "\n",
        "    def __init__(self, num_classes, input_size, sampling_rate, num_T, num_S, hidden, dropout_rate):\n",
        "        # input_size: 1 x EEG channel x datapoint\n",
        "        super(TSception, self).__init__()\n",
        "        self.inception_window = [0.5, 0.25, 0.125]\n",
        "        self.pool = 8\n",
        "        # by setting the convolutional kernel being (1,lenght) and the strids being 1 we can use conv2d to\n",
        "        # achieve the 1d convolution operation\n",
        "        self.Tception1 = self.conv_block(1, num_T, (1, int(self.inception_window[0] * sampling_rate)), 1, self.pool)\n",
        "        self.Tception2 = self.conv_block(1, num_T, (1, int(self.inception_window[1] * sampling_rate)), 1, self.pool)\n",
        "        self.Tception3 = self.conv_block(1, num_T, (1, int(self.inception_window[2] * sampling_rate)), 1, self.pool)\n",
        "\n",
        "        self.Sception1 = self.conv_block(num_T, num_S, (int(input_size[1]), 1), 1, int(self.pool*0.25))\n",
        "        self.Sception2 = self.conv_block(num_T, num_S, (int(input_size[1] * 0.5), 1), (int(input_size[1] * 0.5), 1),\n",
        "                                         int(self.pool*0.25))\n",
        "        self.fusion_layer = self.conv_block(num_S, num_S, (3, 1), 1, 2)\n",
        "        self.BN_t = nn.BatchNorm2d(num_T)\n",
        "        self.BN_s = nn.BatchNorm2d(num_S)\n",
        "        self.BN_fusion = nn.BatchNorm2d(num_S)\n",
        "\n",
        "        size = self.get_size(input_size)\n",
        "        self.fc = nn.Sequential(\n",
        "            nn.Linear(size[1], hidden),\n",
        "            nn.ReLU(),\n",
        "            nn.Dropout(dropout_rate),\n",
        "            nn.Linear(hidden, num_classes),\n",
        "            nn.LogSoftmax(dim=1)\n",
        "        )\n",
        "\n",
        "    def forward(self, x):\n",
        "        y = self.Tception1(x)\n",
        "        out = y\n",
        "        y = self.Tception2(x)\n",
        "        out = torch.cat((out, y), dim=-1)\n",
        "        y = self.Tception3(x)\n",
        "        out = torch.cat((out, y), dim=-1)\n",
        "        out = self.BN_t(out)\n",
        "        z = self.Sception1(out)\n",
        "        out_ = z\n",
        "        z = self.Sception2(out)\n",
        "        out_ = torch.cat((out_, z), dim=2)\n",
        "\n",
        "        out = self.BN_s(out_)\n",
        "        out = self.fusion_layer(out)\n",
        "        out = self.BN_fusion(out)\n",
        "        out = out.view(out.size()[0], -1)\n",
        "        out = self.fc(out)\n",
        "        return out\n",
        "\n",
        "    def get_size(self, input_size):\n",
        "        # here we use an array with the shape being\n",
        "        # (1(mini-batch),1(convolutional channel),EEG channel,time data point)\n",
        "        # to simulate the input data and get the output size\n",
        "        data = torch.ones((1, input_size[0], input_size[1], int(input_size[2])))\n",
        "        y = self.Tception1(data)\n",
        "        out = y\n",
        "        y = self.Tception2(data)\n",
        "        out = torch.cat((out, y), dim=-1)\n",
        "        y = self.Tception3(data)\n",
        "        out = torch.cat((out, y), dim=-1)\n",
        "        out = self.BN_t(out)\n",
        "        z = self.Sception1(out)\n",
        "        out_final = z\n",
        "        z = self.Sception2(out)\n",
        "        out_final = torch.cat((out_final, z), dim=2)\n",
        "        out = self.BN_s(out_final)\n",
        "        out = self.fusion_layer(out)\n",
        "        out = self.BN_fusion(out)\n",
        "        out = out.view(out.size()[0], -1)\n",
        "        return out.size()"
      ],
      "execution_count": null,
      "outputs": []
    },
    {
      "cell_type": "code",
      "metadata": {
        "id": "xD01PDKmv2zz"
      },
      "source": [
        "class Model(object):\n",
        "    def __init__(self, model=None, lr=0.001):\n",
        "        super(Model, self).__init__()\n",
        "        self.model = model\n",
        "        self.losses = nn.CrossEntropyLoss()\n",
        "        self.optimizer = optim.Adam(model.parameters(), lr=lr)\n",
        "    def fit(self, trainloader=None, validloader=None, epochs=1, monitor=None):\n",
        "        doValid = False if validloader == None else True\n",
        "        pre_ck_point = [float(\"inf\"), 0.0, float(\"inf\"), 0.0, 0] # loss, acc, val_loss, val_acc, epoch\n",
        "        history = {\"loss\": [], \"acc\": [], \"val_loss\": [], \"val_acc\": []}\n",
        "        for ep in range(1, epochs + 1):\n",
        "            proc_start = time.time() # timer start\n",
        "            if (not (ep % 10)) or (ep == 1):\n",
        "                print(f\"Epoch {ep}/{epochs}\")\n",
        "            self.model.train()\n",
        "            step = 1\n",
        "            for x_batch, y_batch in trainloader:\n",
        "                x_batch, y_batch = x_batch.to(device, dtype=torch.float), y_batch.to(device)\n",
        "                pred = self.model(x_batch)\n",
        "                loss = self.losses(pred, y_batch)\n",
        "                loss.backward()\n",
        "                self.optimizer.step()\n",
        "                self.optimizer.zero_grad()\n",
        "\n",
        "                if (not (ep % 10)) or (ep == 1):\n",
        "                    pbar = int(step * 30 / len(trainloader))\n",
        "                    print(\"\\r{}/{} [{}{}]\".format(\n",
        "                        step, len(trainloader), \">\" * pbar, \" \" * (30 - pbar)), \n",
        "                        end=\"\")\n",
        "                step += 1\n",
        "            # evaluate\n",
        "            loss, acc = self.evaluate(trainloader)\n",
        "            val_loss, val_acc = self.evaluate(validloader) if doValid else (0, 0)\n",
        "            history[\"loss\"] = np.append(history[\"loss\"], loss)\n",
        "            history[\"acc\"] = np.append(history[\"acc\"], acc)\n",
        "            history[\"val_loss\"] = np.append(history[\"val_loss\"], val_loss)\n",
        "            history[\"val_acc\"] = np.append(history[\"val_acc\"], val_acc)\n",
        "            # dump message\n",
        "            if (not (ep % 10)) or (ep == 1):\n",
        "                print(\" {:.4f}s - loss: {:.4f} - acc: {:.4f} - val_loss: {:.4f} - val_acc: {:.4f}\".format(\n",
        "                    time.time()-proc_start, history[\"loss\"][-1], \n",
        "                    history[\"acc\"][-1], history[\"val_loss\"][-1], history[\"val_acc\"][-1])\n",
        "                )\n",
        "            # model check point\n",
        "            if self.__updateCheckpoint(monitor, pre_ck_point, [loss, acc, val_loss, val_acc, ep]):\n",
        "                if not os.path.exists(\"./model\"):\n",
        "                    os.mkdir(\"./model\")\n",
        "                print(f\"save model/checkpoint_model_ep-{ep}.pt\")\n",
        "                self.save(f\"model/checkpoint_model_ep-{ep}.pt\")\n",
        "                pre_ck_point = [loss, acc, val_loss, val_acc, ep]\n",
        "        return history\n",
        "    def evaluate(self, dataloader):\n",
        "        total, acc = 0, 0\n",
        "        self.model.eval()\n",
        "        for x_batch, y_batch in dataloader:\n",
        "            x_batch, y_batch = x_batch.to(device, dtype=torch.float), y_batch.to(device)\n",
        "            pred = self.model(x_batch)\n",
        "            loss = self.losses(pred, y_batch).item()\n",
        "            total += y_batch.shape[0]\n",
        "            acc += (torch.sum(pred.argmax(dim=1)==y_batch)).item()\n",
        "        acc /= total\n",
        "\n",
        "        return (loss, acc)\n",
        "    def predict(self, dataloader):\n",
        "        prediction = []\n",
        "        self.model.eval()\n",
        "        for x_batch, y_batch in dataloader:\n",
        "            x_batch, y_batch = x_batch.to(device, dtype=torch.float), y_batch.to(device)\n",
        "            pred = self.model(x_batch).cpu()\n",
        "            prediction = np.append(prediction, pred.argmax(dim=1).numpy())\n",
        "        return prediction\n",
        "    def save(self, filepath):\n",
        "        torch.save(self.model, filepath)\n",
        "    @classmethod\n",
        "    def load(cls, filepath):\n",
        "        return cls(torch.load(filepath))\n",
        "    def __updateCheckpoint(self, monitor, pre_ck_point, evaluation):\n",
        "        if type(monitor) is int:\n",
        "            return True if evaluation[4] % monitor == 0 else False\n",
        "        elif type(monitor) is list:\n",
        "            for _ in monitor:\n",
        "                if not _ in [\"loss\", \"acc\", \"val_loss\", \"val_acc\"]:\n",
        "                    raise Exception(f\"\\\"{_}\\\" is not a valid monitor condition.\")\n",
        "                elif _ == \"loss\" and pre_ck_point[0] < evaluation[0]:\n",
        "                    return False # present epoch loss > history loss\n",
        "                elif _ == \"acc\" and pre_ck_point[1] > evaluation[1]:\n",
        "                    return False # present epoch acc < history acc\n",
        "                elif _ == \"val_loss\" and pre_ck_point[2] < evaluation[2]:\n",
        "                    return False # present epoch val_loss > history val_loss\n",
        "                elif _ == \"val_acc\" and pre_ck_point[3] > evaluation[3]:\n",
        "                    return False # present epoch val_acc < history val_acc        \n",
        "        return True"
      ],
      "execution_count": null,
      "outputs": []
    },
    {
      "cell_type": "markdown",
      "metadata": {
        "id": "rP1nxpOF5QNZ"
      },
      "source": [
        "BATCH_SIZE, Learning_Rate, Epochs"
      ]
    },
    {
      "cell_type": "code",
      "metadata": {
        "id": "kJd93WR55PXS"
      },
      "source": [
        "BATCH_SIZE = 32\n",
        "Learning_Rate = 0.001\n",
        "EPOCHS = 200"
      ],
      "execution_count": null,
      "outputs": []
    },
    {
      "cell_type": "code",
      "metadata": {
        "id": "o7rgfaiJ-LQU"
      },
      "source": [
        "train_raw = loadmat(DATASET_DIR + \"BCIC_S01_T.mat\")\n",
        "test_raw = loadmat(DATASET_DIR + \"BCIC_S01_E.mat\")\n",
        "trX, trY, teX, teY = train_raw[\"x_train\"], train_raw[\"y_train\"], test_raw[\"x_test\"], test_raw[\"y_test\"]"
      ],
      "execution_count": null,
      "outputs": []
    },
    {
      "cell_type": "code",
      "metadata": {
        "colab": {
          "base_uri": "https://localhost:8080/"
        },
        "id": "-tqCpBDxUY1i",
        "outputId": "af844543-dc3c-44e8-c0e1-6eda961b31c2"
      },
      "source": [
        "x_train = torch.from_numpy(np.expand_dims(trX, axis=1))\n",
        "y_train = torch.from_numpy(np.reshape(trY, (trY.size, ))).long()\n",
        "x_test = torch.from_numpy(np.expand_dims(teX, axis=1))\n",
        "y_test = torch.from_numpy(np.reshape(teY, (teY.size, ))).long()\n",
        "\n",
        "print(x_train.shape, y_train.shape)\n",
        "print(x_test.shape, y_test.shape)\n",
        "trainset, testset = TensorDataset(x_train, y_train), TensorDataset(x_test, y_test)\n",
        "\n",
        "\"\"\" create dataloader \"\"\"\n",
        "trainloader = DataLoader(dataset=trainset, batch_size=BATCH_SIZE, shuffle=True)\n",
        "testloader = DataLoader(dataset=testset, batch_size=BATCH_SIZE, shuffle=True)"
      ],
      "execution_count": null,
      "outputs": [
        {
          "output_type": "stream",
          "text": [
            "torch.Size([288, 1, 22, 562]) torch.Size([288])\n",
            "torch.Size([288, 1, 22, 562]) torch.Size([288])\n"
          ],
          "name": "stdout"
        }
      ]
    },
    {
      "cell_type": "code",
      "metadata": {
        "colab": {
          "base_uri": "https://localhost:8080/"
        },
        "id": "ivZTvIlyG_0a",
        "outputId": "2c2de30b-dfcc-4725-d918-cc43a7c6b240"
      },
      "source": [
        "eegnet = EEGNet().to(device)\n",
        "summary(eegnet, (1, 22, 562))\n",
        "model = Model(eegnet, lr=Learning_Rate)\n",
        "# save checkpoint model each 20 epochs\n",
        "history = model.fit(trainloader=trainloader, validloader=testloader, epochs=EPOCHS, monitor=20)"
      ],
      "execution_count": null,
      "outputs": [
        {
          "output_type": "stream",
          "text": [
            "----------------------------------------------------------------\n",
            "        Layer (type)               Output Shape         Param #\n",
            "================================================================\n",
            "            Conv2d-1           [-1, 8, 22, 563]             512\n",
            "       BatchNorm2d-2           [-1, 8, 22, 563]              16\n",
            "            Conv2d-3           [-1, 16, 1, 563]             352\n",
            "       BatchNorm2d-4           [-1, 16, 1, 563]              32\n",
            "               ELU-5           [-1, 16, 1, 563]               0\n",
            "         AvgPool2d-6           [-1, 16, 1, 140]               0\n",
            "           Dropout-7           [-1, 16, 1, 140]               0\n",
            "            Conv2d-8           [-1, 16, 1, 141]             256\n",
            "            Conv2d-9           [-1, 16, 1, 141]             256\n",
            "      BatchNorm2d-10           [-1, 16, 1, 141]              32\n",
            "              ELU-11           [-1, 16, 1, 141]               0\n",
            "        AvgPool2d-12            [-1, 16, 1, 17]               0\n",
            "          Dropout-13            [-1, 16, 1, 17]               0\n",
            "           Linear-14                    [-1, 4]           1,092\n",
            "================================================================\n",
            "Total params: 2,548\n",
            "Trainable params: 2,548\n",
            "Non-trainable params: 0\n",
            "----------------------------------------------------------------\n",
            "Input size (MB): 0.05\n",
            "Forward/backward pass size (MB): 1.83\n",
            "Params size (MB): 0.01\n",
            "Estimated Total Size (MB): 1.88\n",
            "----------------------------------------------------------------\n",
            "Epoch 1/200\n",
            "9/9 [>>>>>>>>>>>>>>>>>>>>>>>>>>>>>>] 0.2282s - loss: 1.3840 - acc: 0.2951 - val_loss: 1.3895 - val_acc: 0.2882\n",
            "Epoch 10/200\n",
            "9/9 [>>>>>>>>>>>>>>>>>>>>>>>>>>>>>>] 0.2134s - loss: 0.9277 - acc: 0.5590 - val_loss: 0.9556 - val_acc: 0.4653\n",
            "Epoch 20/200\n",
            "9/9 [>>>>>>>>>>>>>>>>>>>>>>>>>>>>>>] 0.2049s - loss: 0.7847 - acc: 0.6736 - val_loss: 0.8186 - val_acc: 0.5694\n",
            "save model/checkpoint_model_ep-20.pt\n",
            "Epoch 30/200\n",
            "9/9 [>>>>>>>>>>>>>>>>>>>>>>>>>>>>>>] 0.2082s - loss: 0.4999 - acc: 0.7257 - val_loss: 0.5954 - val_acc: 0.6076\n",
            "Epoch 40/200\n",
            "9/9 [>>>>>>>>>>>>>>>>>>>>>>>>>>>>>>] 0.2109s - loss: 0.4583 - acc: 0.7708 - val_loss: 0.5907 - val_acc: 0.6597\n",
            "save model/checkpoint_model_ep-40.pt\n",
            "Epoch 50/200\n",
            "9/9 [>>>>>>>>>>>>>>>>>>>>>>>>>>>>>>] 0.2141s - loss: 0.3360 - acc: 0.8264 - val_loss: 0.6890 - val_acc: 0.7083\n",
            "Epoch 60/200\n",
            "9/9 [>>>>>>>>>>>>>>>>>>>>>>>>>>>>>>] 0.2128s - loss: 0.4484 - acc: 0.8264 - val_loss: 0.7669 - val_acc: 0.7188\n",
            "save model/checkpoint_model_ep-60.pt\n",
            "Epoch 70/200\n",
            "9/9 [>>>>>>>>>>>>>>>>>>>>>>>>>>>>>>] 0.2110s - loss: 0.4231 - acc: 0.8507 - val_loss: 0.7986 - val_acc: 0.7292\n",
            "Epoch 80/200\n",
            "9/9 [>>>>>>>>>>>>>>>>>>>>>>>>>>>>>>] 0.2010s - loss: 0.2606 - acc: 0.8438 - val_loss: 0.5245 - val_acc: 0.7153\n",
            "save model/checkpoint_model_ep-80.pt\n",
            "Epoch 90/200\n",
            "9/9 [>>>>>>>>>>>>>>>>>>>>>>>>>>>>>>] 0.2134s - loss: 0.4703 - acc: 0.8854 - val_loss: 0.3863 - val_acc: 0.7431\n",
            "Epoch 100/200\n",
            "9/9 [>>>>>>>>>>>>>>>>>>>>>>>>>>>>>>] 0.2196s - loss: 0.1910 - acc: 0.9167 - val_loss: 0.4601 - val_acc: 0.7778\n",
            "save model/checkpoint_model_ep-100.pt\n",
            "Epoch 110/200\n",
            "9/9 [>>>>>>>>>>>>>>>>>>>>>>>>>>>>>>] 0.2046s - loss: 0.2616 - acc: 0.9062 - val_loss: 0.6612 - val_acc: 0.7396\n",
            "Epoch 120/200\n",
            "9/9 [>>>>>>>>>>>>>>>>>>>>>>>>>>>>>>] 0.2068s - loss: 0.2406 - acc: 0.9167 - val_loss: 0.5071 - val_acc: 0.7604\n",
            "save model/checkpoint_model_ep-120.pt\n",
            "Epoch 130/200\n",
            "9/9 [>>>>>>>>>>>>>>>>>>>>>>>>>>>>>>] 0.2112s - loss: 0.2477 - acc: 0.9132 - val_loss: 0.3757 - val_acc: 0.7708\n",
            "Epoch 140/200\n",
            "9/9 [>>>>>>>>>>>>>>>>>>>>>>>>>>>>>>] 0.2028s - loss: 0.1854 - acc: 0.9444 - val_loss: 0.4980 - val_acc: 0.7778\n",
            "save model/checkpoint_model_ep-140.pt\n",
            "Epoch 150/200\n",
            "9/9 [>>>>>>>>>>>>>>>>>>>>>>>>>>>>>>] 0.2048s - loss: 0.2872 - acc: 0.9306 - val_loss: 0.5701 - val_acc: 0.7639\n",
            "Epoch 160/200\n",
            "9/9 [>>>>>>>>>>>>>>>>>>>>>>>>>>>>>>] 0.2011s - loss: 0.1685 - acc: 0.9549 - val_loss: 0.5260 - val_acc: 0.7812\n",
            "save model/checkpoint_model_ep-160.pt\n",
            "Epoch 170/200\n",
            "9/9 [>>>>>>>>>>>>>>>>>>>>>>>>>>>>>>] 0.1977s - loss: 0.1868 - acc: 0.9410 - val_loss: 0.3608 - val_acc: 0.7604\n",
            "Epoch 180/200\n",
            "9/9 [>>>>>>>>>>>>>>>>>>>>>>>>>>>>>>] 0.2052s - loss: 0.2052 - acc: 0.9375 - val_loss: 0.4499 - val_acc: 0.7500\n",
            "save model/checkpoint_model_ep-180.pt\n",
            "Epoch 190/200\n",
            "9/9 [>>>>>>>>>>>>>>>>>>>>>>>>>>>>>>] 0.2039s - loss: 0.1983 - acc: 0.9583 - val_loss: 0.6065 - val_acc: 0.7708\n",
            "Epoch 200/200\n",
            "9/9 [>>>>>>>>>>>>>>>>>>>>>>>>>>>>>>] 0.2051s - loss: 0.0970 - acc: 0.9826 - val_loss: 0.4279 - val_acc: 0.7535\n",
            "save model/checkpoint_model_ep-200.pt\n"
          ],
          "name": "stdout"
        }
      ]
    },
    {
      "cell_type": "code",
      "metadata": {
        "colab": {
          "base_uri": "https://localhost:8080/"
        },
        "id": "MfO79LPQhaoM",
        "outputId": "ce405162-fc5a-4337-933a-e2ff9b26d74b"
      },
      "source": [
        "sconnet = ShallowConvNet().to(device)\n",
        "model = Model(sconnet, lr=Learning_Rate)\n",
        "# save checkpoint model when both trainset and validset get new min loss\n",
        "history = model.fit(trainloader=trainloader, validloader=testloader, epochs=EPOCHS, monitor=[\"loss\", \"val_loss\"])"
      ],
      "execution_count": null,
      "outputs": [
        {
          "output_type": "stream",
          "text": [
            "Epoch 1/200\n",
            "9/9 [>>>>>>>>>>>>>>>>>>>>>>>>>>>>>>] 0.4388s - loss: 1.5659 - acc: 0.4410 - val_loss: 1.7534 - val_acc: 0.3958\n",
            "save model/checkpoint_model_ep-1.pt\n",
            "save model/checkpoint_model_ep-2.pt\n",
            "save model/checkpoint_model_ep-3.pt\n",
            "save model/checkpoint_model_ep-4.pt\n",
            "save model/checkpoint_model_ep-6.pt\n",
            "save model/checkpoint_model_ep-8.pt\n",
            "Epoch 10/200\n",
            "9/9 [>>>>>>>>>>>>>>>>>>>>>>>>>>>>>>] 0.3717s - loss: 0.0907 - acc: 1.0000 - val_loss: 0.7078 - val_acc: 0.5833\n",
            "Epoch 20/200\n",
            "9/9 [>>>>>>>>>>>>>>>>>>>>>>>>>>>>>>] 0.3774s - loss: 0.0141 - acc: 1.0000 - val_loss: 1.2383 - val_acc: 0.6493\n",
            "save model/checkpoint_model_ep-21.pt\n",
            "Epoch 30/200\n",
            "9/9 [>>>>>>>>>>>>>>>>>>>>>>>>>>>>>>] 0.3812s - loss: 0.0071 - acc: 1.0000 - val_loss: 0.6839 - val_acc: 0.6389\n",
            "Epoch 40/200\n",
            "9/9 [>>>>>>>>>>>>>>>>>>>>>>>>>>>>>>] 0.3769s - loss: 0.0035 - acc: 1.0000 - val_loss: 0.8536 - val_acc: 0.6493\n",
            "Epoch 50/200\n",
            "9/9 [>>>>>>>>>>>>>>>>>>>>>>>>>>>>>>] 0.3782s - loss: 0.0024 - acc: 1.0000 - val_loss: 1.1612 - val_acc: 0.6736\n",
            "Epoch 60/200\n",
            "9/9 [>>>>>>>>>>>>>>>>>>>>>>>>>>>>>>] 0.3750s - loss: 0.0012 - acc: 1.0000 - val_loss: 1.4123 - val_acc: 0.6736\n",
            "Epoch 70/200\n",
            "9/9 [>>>>>>>>>>>>>>>>>>>>>>>>>>>>>>] 0.3699s - loss: 0.0014 - acc: 1.0000 - val_loss: 0.4850 - val_acc: 0.6771\n",
            "save model/checkpoint_model_ep-70.pt\n",
            "save model/checkpoint_model_ep-71.pt\n",
            "Epoch 80/200\n",
            "9/9 [>>>>>>>>>>>>>>>>>>>>>>>>>>>>>>] 0.3689s - loss: 0.0010 - acc: 1.0000 - val_loss: 1.3032 - val_acc: 0.6875\n",
            "Epoch 90/200\n",
            "9/9 [>>>>>>>>>>>>>>>>>>>>>>>>>>>>>>] 0.3645s - loss: 0.0007 - acc: 1.0000 - val_loss: 0.9954 - val_acc: 0.6944\n",
            "Epoch 100/200\n",
            "9/9 [>>>>>>>>>>>>>>>>>>>>>>>>>>>>>>] 0.3616s - loss: 0.0006 - acc: 1.0000 - val_loss: 1.2496 - val_acc: 0.7083\n",
            "Epoch 110/200\n",
            "9/9 [>>>>>>>>>>>>>>>>>>>>>>>>>>>>>>] 0.3616s - loss: 0.0003 - acc: 1.0000 - val_loss: 1.3693 - val_acc: 0.6910\n",
            "Epoch 120/200\n",
            "9/9 [>>>>>>>>>>>>>>>>>>>>>>>>>>>>>>] 0.3620s - loss: 0.0003 - acc: 1.0000 - val_loss: 1.7326 - val_acc: 0.7049\n",
            "Epoch 130/200\n",
            "9/9 [>>>>>>>>>>>>>>>>>>>>>>>>>>>>>>] 0.3717s - loss: 0.0004 - acc: 1.0000 - val_loss: 1.0098 - val_acc: 0.7049\n",
            "Epoch 140/200\n",
            "9/9 [>>>>>>>>>>>>>>>>>>>>>>>>>>>>>>] 0.3607s - loss: 0.0004 - acc: 1.0000 - val_loss: 1.2989 - val_acc: 0.6840\n",
            "Epoch 150/200\n",
            "9/9 [>>>>>>>>>>>>>>>>>>>>>>>>>>>>>>] 0.3619s - loss: 0.0003 - acc: 1.0000 - val_loss: 1.4549 - val_acc: 0.7049\n",
            "Epoch 160/200\n",
            "9/9 [>>>>>>>>>>>>>>>>>>>>>>>>>>>>>>] 0.3600s - loss: 0.0002 - acc: 1.0000 - val_loss: 1.3294 - val_acc: 0.7118\n",
            "Epoch 170/200\n",
            "9/9 [>>>>>>>>>>>>>>>>>>>>>>>>>>>>>>] 0.3623s - loss: 0.0002 - acc: 1.0000 - val_loss: 1.5916 - val_acc: 0.7118\n",
            "save model/checkpoint_model_ep-177.pt\n",
            "Epoch 180/200\n",
            "9/9 [>>>>>>>>>>>>>>>>>>>>>>>>>>>>>>] 0.3697s - loss: 0.0001 - acc: 1.0000 - val_loss: 2.0389 - val_acc: 0.7188\n",
            "Epoch 190/200\n",
            "9/9 [>>>>>>>>>>>>>>>>>>>>>>>>>>>>>>] 0.3578s - loss: 0.0001 - acc: 1.0000 - val_loss: 0.6656 - val_acc: 0.7118\n",
            "Epoch 200/200\n",
            "9/9 [>>>>>>>>>>>>>>>>>>>>>>>>>>>>>>] 0.3612s - loss: 0.0001 - acc: 1.0000 - val_loss: 0.7781 - val_acc: 0.7188\n"
          ],
          "name": "stdout"
        }
      ]
    },
    {
      "cell_type": "code",
      "metadata": {
        "colab": {
          "base_uri": "https://localhost:8080/"
        },
        "id": "AqDquEQfTF1a",
        "outputId": "25d3b95b-e30f-40f5-a6aa-224a47c50bb8"
      },
      "source": [
        "sccnet = SCCNet().to(device)\n",
        "model = Model(sccnet, lr=Learning_Rate)\n",
        "# save checkpoint model when both trainset and validset get new max acc\n",
        "history = model.fit(trainloader=trainloader, validloader=testloader, epochs=EPOCHS, monitor=[\"acc\", \"val_acc\"])"
      ],
      "execution_count": null,
      "outputs": [
        {
          "output_type": "stream",
          "text": [
            "Epoch 1/200\n",
            "\r1/9 [>>>                           ]\r2/9 [>>>>>>                        ]\r3/9 [>>>>>>>>>>                    ]\r4/9 [>>>>>>>>>>>>>                 ]\r5/9 [>>>>>>>>>>>>>>>>              ]\r6/9 [>>>>>>>>>>>>>>>>>>>>          ]\r7/9 [>>>>>>>>>>>>>>>>>>>>>>>       ]\r8/9 [>>>>>>>>>>>>>>>>>>>>>>>>>>    ]\r9/9 [>>>>>>>>>>>>>>>>>>>>>>>>>>>>>>] 0.1837s - loss: 1.3172 - acc: 0.3611 - val_loss: 1.7161 - val_acc: 0.3368\n",
            "save model/checkpoint_model_ep-1.pt\n",
            "save model/checkpoint_model_ep-2.pt\n",
            "save model/checkpoint_model_ep-3.pt\n",
            "save model/checkpoint_model_ep-4.pt\n",
            "save model/checkpoint_model_ep-5.pt\n",
            "save model/checkpoint_model_ep-6.pt\n",
            "save model/checkpoint_model_ep-7.pt\n",
            "save model/checkpoint_model_ep-8.pt\n",
            "Epoch 10/200\n",
            "9/9 [>>>>>>>>>>>>>>>>>>>>>>>>>>>>>>] 0.1826s - loss: 0.2695 - acc: 0.9479 - val_loss: 0.8528 - val_acc: 0.7153\n",
            "save model/checkpoint_model_ep-10.pt\n",
            "save model/checkpoint_model_ep-12.pt\n",
            "save model/checkpoint_model_ep-16.pt\n",
            "Epoch 20/200\n",
            "9/9 [>>>>>>>>>>>>>>>>>>>>>>>>>>>>>>] 0.1922s - loss: 0.1207 - acc: 1.0000 - val_loss: 0.5902 - val_acc: 0.7361\n",
            "save model/checkpoint_model_ep-20.pt\n",
            "save model/checkpoint_model_ep-22.pt\n",
            "save model/checkpoint_model_ep-26.pt\n",
            "Epoch 30/200\n",
            "9/9 [>>>>>>>>>>>>>>>>>>>>>>>>>>>>>>] 0.1887s - loss: 0.0476 - acc: 1.0000 - val_loss: 0.5824 - val_acc: 0.7465\n",
            "save model/checkpoint_model_ep-30.pt\n",
            "save model/checkpoint_model_ep-31.pt\n",
            "save model/checkpoint_model_ep-32.pt\n",
            "Epoch 40/200\n",
            "9/9 [>>>>>>>>>>>>>>>>>>>>>>>>>>>>>>] 0.1694s - loss: 0.0149 - acc: 1.0000 - val_loss: 0.5855 - val_acc: 0.7326\n",
            "save model/checkpoint_model_ep-41.pt\n",
            "Epoch 50/200\n",
            "9/9 [>>>>>>>>>>>>>>>>>>>>>>>>>>>>>>] 0.1778s - loss: 0.0110 - acc: 1.0000 - val_loss: 0.6200 - val_acc: 0.7604\n",
            "Epoch 60/200\n",
            "9/9 [>>>>>>>>>>>>>>>>>>>>>>>>>>>>>>] 0.1812s - loss: 0.0051 - acc: 1.0000 - val_loss: 0.5642 - val_acc: 0.7604\n",
            "Epoch 70/200\n",
            "9/9 [>>>>>>>>>>>>>>>>>>>>>>>>>>>>>>] 0.1677s - loss: 0.0075 - acc: 1.0000 - val_loss: 0.9553 - val_acc: 0.7465\n",
            "Epoch 80/200\n",
            "9/9 [>>>>>>>>>>>>>>>>>>>>>>>>>>>>>>] 0.1767s - loss: 0.0046 - acc: 1.0000 - val_loss: 0.9609 - val_acc: 0.7500\n",
            "Epoch 90/200\n",
            "9/9 [>>>>>>>>>>>>>>>>>>>>>>>>>>>>>>] 0.1725s - loss: 0.0035 - acc: 1.0000 - val_loss: 0.6462 - val_acc: 0.7535\n",
            "Epoch 100/200\n",
            "9/9 [>>>>>>>>>>>>>>>>>>>>>>>>>>>>>>] 0.1773s - loss: 0.0028 - acc: 1.0000 - val_loss: 1.1157 - val_acc: 0.7396\n",
            "save model/checkpoint_model_ep-101.pt\n",
            "save model/checkpoint_model_ep-104.pt\n",
            "Epoch 110/200\n",
            "9/9 [>>>>>>>>>>>>>>>>>>>>>>>>>>>>>>] 0.1665s - loss: 0.0048 - acc: 1.0000 - val_loss: 0.8178 - val_acc: 0.7361\n",
            "save model/checkpoint_model_ep-112.pt\n",
            "save model/checkpoint_model_ep-113.pt\n",
            "save model/checkpoint_model_ep-114.pt\n",
            "Epoch 120/200\n",
            "9/9 [>>>>>>>>>>>>>>>>>>>>>>>>>>>>>>] 0.1766s - loss: 0.0026 - acc: 1.0000 - val_loss: 0.6043 - val_acc: 0.7604\n",
            "Epoch 130/200\n",
            "9/9 [>>>>>>>>>>>>>>>>>>>>>>>>>>>>>>] 0.1880s - loss: 0.0010 - acc: 1.0000 - val_loss: 0.5977 - val_acc: 0.7569\n",
            "save model/checkpoint_model_ep-134.pt\n",
            "Epoch 140/200\n",
            "9/9 [>>>>>>>>>>>>>>>>>>>>>>>>>>>>>>] 0.1736s - loss: 0.0006 - acc: 1.0000 - val_loss: 0.4602 - val_acc: 0.7743\n",
            "save model/checkpoint_model_ep-143.pt\n",
            "Epoch 150/200\n",
            "9/9 [>>>>>>>>>>>>>>>>>>>>>>>>>>>>>>] 0.1716s - loss: 0.0066 - acc: 1.0000 - val_loss: 0.5937 - val_acc: 0.7500\n",
            "Epoch 160/200\n",
            "9/9 [>>>>>>>>>>>>>>>>>>>>>>>>>>>>>>] 0.1792s - loss: 0.0010 - acc: 1.0000 - val_loss: 0.4379 - val_acc: 0.7743\n",
            "Epoch 170/200\n",
            "9/9 [>>>>>>>>>>>>>>>>>>>>>>>>>>>>>>] 0.1819s - loss: 0.0009 - acc: 1.0000 - val_loss: 0.3818 - val_acc: 0.7847\n",
            "save model/checkpoint_model_ep-170.pt\n",
            "save model/checkpoint_model_ep-171.pt\n",
            "Epoch 180/200\n",
            "9/9 [>>>>>>>>>>>>>>>>>>>>>>>>>>>>>>] 0.1740s - loss: 0.0007 - acc: 1.0000 - val_loss: 0.6981 - val_acc: 0.7743\n",
            "Epoch 190/200\n",
            "9/9 [>>>>>>>>>>>>>>>>>>>>>>>>>>>>>>] 0.1775s - loss: 0.0010 - acc: 1.0000 - val_loss: 1.4135 - val_acc: 0.7743\n",
            "Epoch 200/200\n",
            "9/9 [>>>>>>>>>>>>>>>>>>>>>>>>>>>>>>] 0.1737s - loss: 0.0006 - acc: 1.0000 - val_loss: 1.0291 - val_acc: 0.7674\n"
          ],
          "name": "stdout"
        }
      ]
    },
    {
      "cell_type": "code",
      "metadata": {
        "colab": {
          "base_uri": "https://localhost:8080/",
          "height": 314
        },
        "id": "xXYWpvykISLI",
        "outputId": "caf80bc1-af60-42d8-9598-0403eaaef07f"
      },
      "source": [
        "eva_train = model.evaluate(dataloader=trainloader)\n",
        "print(f\"Train Accuracy: {eva_train[1]:.4f}\\tTrain Loss: {eva_train[0]:.4f}\")\n",
        "eva_test = model.evaluate(dataloader=testloader)\n",
        "print(f\"Test Accuracy: {eva_test[1]:.4f}\\tTest Loss: {eva_test[0]:.4f}\")\n",
        "\n",
        "plt.figure(figsize = (10, 4))\n",
        "plt.subplot(1, 2, 1)\n",
        "plt.title(\"Acc\")\n",
        "plt.plot(history[\"acc\"], color=\"red\")\n",
        "plt.plot(history[\"val_acc\"], color=\"blue\")\n",
        "plt.subplot(1, 2, 2)\n",
        "plt.title(\"Loss\")\n",
        "plt.plot(history[\"loss\"], color=\"red\")\n",
        "plt.plot(history[\"val_loss\"], color=\"blue\")\n",
        "plt.show()"
      ],
      "execution_count": null,
      "outputs": [
        {
          "output_type": "stream",
          "text": [
            "Train Accuracy: 1.0000\tTrain Loss: 0.0013\n",
            "Test Accuracy: 0.8021\tTest Loss: 0.5645\n"
          ],
          "name": "stdout"
        },
        {
          "output_type": "display_data",
          "data": {
            "image/png": "[encoded data removed]",
            "text/plain": [
              "<Figure size 720x288 with 2 Axes>"
            ]
          },
          "metadata": {
            "tags": [],
            "needs_background": "light"
          }
        }
      ]
    },
    {
      "cell_type": "code",
      "metadata": {
        "colab": {
          "base_uri": "https://localhost:8080/"
        },
        "id": "atUZyoi1WFqN",
        "outputId": "3610b3cb-a005-4813-91a3-42d1bbe19411"
      },
      "source": [
        "\"\"\" save model \"\"\"\n",
        "model.save(\"/content/sccnet.pt\")\n",
        "\"\"\" load model \"\"\"\n",
        "m = Model.load(\"/content/sccnet.pt\")\n",
        "eva_train = m.evaluate(dataloader=trainloader)\n",
        "print(f\"Train Accuracy: {eva_train[1]:.4f}\\tTrain Loss: {eva_train[0]:.4f}\")\n",
        "eva_test = m.evaluate(dataloader=testloader)\n",
        "print(f\"Test Accuracy: {eva_test[1]:.4f}\\tTest Loss: {eva_test[0]:.4f}\")"
      ],
      "execution_count": null,
      "outputs": [
        {
          "output_type": "stream",
          "text": [
            "Train Accuracy: 1.0000\tTrain Loss: 0.0011\n",
            "Test Accuracy: 0.8021\tTest Loss: 0.8313\n"
          ],
          "name": "stdout"
        }
      ]
    },
    {
      "cell_type": "code",
      "metadata": {
        "colab": {
          "base_uri": "https://localhost:8080/"
        },
        "id": "yLF6tUZlmU74",
        "outputId": "5e01f719-ca7a-43ac-ef56-35c193157716"
      },
      "source": [
        "\"\"\" prediction \"\"\"\n",
        "# Warning: close shuffle first before predict\n",
        "pred = model.predict(dataloader=DataLoader(dataset=testset, batch_size=BATCH_SIZE, shuffle=False))\n",
        "real = trY.reshape(trY.size)"
      ],
      "execution_count": null,
      "outputs": [
        {
          "output_type": "stream",
          "text": [
            "[1. 3. 2. 1. 2. 1. 3. 3. 1. 3. 2. 0. 3. 2. 1. 2. 0. 3. 0. 3. 3. 0. 2. 1.\n",
            " 0. 3. 1. 0. 0. 1. 1. 1. 3. 2. 0. 1. 0. 2. 1. 3. 1. 0. 2. 1. 2. 0. 0. 1.\n",
            " 3. 0. 2. 2. 2. 2. 3. 3. 2. 2. 2. 0. 3. 0. 0. 3. 1. 1. 1. 0. 2. 0. 0. 3.\n",
            " 3. 0. 3. 0. 2. 3. 3. 0. 3. 1. 0. 3. 3. 0. 3. 2. 0. 3. 1. 0. 3. 0. 2. 2.\n",
            " 0. 3. 1. 2. 0. 1. 1. 1. 2. 0. 3. 0. 1. 0. 1. 3. 2. 2. 0. 2. 1. 3. 1. 1.\n",
            " 3. 0. 0. 3. 1. 2. 0. 1. 3. 3. 1. 3. 3. 0. 3. 3. 3. 3. 3. 1. 2. 1. 0. 3.\n",
            " 0. 1. 0. 0. 2. 3. 2. 2. 3. 0. 3. 2. 3. 2. 0. 2. 2. 3. 0. 0. 3. 1. 3. 3.\n",
            " 3. 2. 1. 2. 3. 0. 3. 3. 0. 1. 0. 0. 2. 0. 1. 2. 0. 3. 0. 1. 0. 1. 3. 2.\n",
            " 1. 1. 3. 3. 2. 0. 1. 2. 0. 3. 2. 0. 0. 2. 2. 0. 1. 0. 3. 1. 0. 0. 3. 3.\n",
            " 0. 3. 1. 3. 0. 0. 0. 1. 2. 0. 2. 3. 1. 3. 3. 1. 3. 2. 1. 2. 1. 2. 1. 0.\n",
            " 3. 2. 3. 3. 3. 1. 1. 0. 2. 0. 0. 2. 2. 1. 3. 0. 0. 0. 1. 3. 2. 3. 3. 0.\n",
            " 3. 0. 3. 3. 0. 3. 1. 2. 0. 0. 3. 1. 0. 3. 2. 3. 2. 0. 0. 1. 0. 2. 0. 3.]\n",
            "tensor([0, 1, 1, 0, 1, 0, 1, 2, 1, 3, 0, 2, 1, 0, 3, 3, 3, 3, 3, 0, 2, 1, 0, 0,\n",
            "        2, 3, 0, 2, 2, 2, 0, 1, 0, 1, 1, 0, 1, 2, 1, 2, 2, 3, 2, 2, 3, 3, 3, 3,\n",
            "        3, 2, 1, 0, 0, 1, 2, 3, 1, 2, 0, 0, 0, 3, 1, 1, 0, 0, 2, 0, 1, 3, 3, 2,\n",
            "        0, 3, 3, 1, 3, 3, 1, 0, 1, 2, 2, 2, 3, 2, 0, 3, 1, 2, 1, 2, 3, 1, 2, 0,\n",
            "        0, 0, 3, 1, 0, 2, 0, 2, 1, 3, 0, 2, 2, 0, 2, 1, 3, 3, 3, 2, 0, 3, 1, 3,\n",
            "        1, 0, 2, 1, 0, 2, 2, 0, 2, 3, 3, 1, 0, 1, 3, 1, 3, 2, 1, 1, 1, 2, 3, 0,\n",
            "        1, 3, 0, 2, 2, 3, 0, 0, 2, 1, 3, 3, 3, 1, 0, 2, 1, 3, 0, 3, 2, 1, 3, 3,\n",
            "        0, 1, 1, 2, 3, 1, 0, 0, 3, 1, 0, 2, 1, 1, 2, 0, 3, 2, 2, 2, 2, 0, 1, 0,\n",
            "        1, 0, 0, 2, 2, 1, 2, 3, 0, 3, 0, 0, 1, 3, 2, 1, 3, 2, 3, 2, 3, 1, 1, 3,\n",
            "        0, 1, 1, 1, 2, 3, 0, 3, 0, 2, 0, 3, 0, 2, 0, 1, 2, 2, 3, 0, 1, 3, 1, 2,\n",
            "        2, 0, 3, 1, 3, 0, 0, 2, 2, 1, 3, 1, 1, 0, 1, 3, 3, 1, 1, 1, 1, 3, 3, 2,\n",
            "        3, 0, 1, 2, 1, 0, 3, 0, 3, 0, 0, 0, 0, 2, 2, 3, 1, 2, 2, 2, 3, 2, 0, 2])\n"
          ],
          "name": "stdout"
        }
      ]
    }
  ]
}