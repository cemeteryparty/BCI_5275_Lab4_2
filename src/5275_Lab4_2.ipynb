{
  "nbformat": 4,
  "nbformat_minor": 0,
  "metadata": {
    "colab": {
      "name": "5275_Lab4_2.ipynb",
      "provenance": [],
      "collapsed_sections": [],
      "toc_visible": true
    },
    "kernelspec": {
      "name": "python3",
      "display_name": "Python 3"
    },
    "language_info": {
      "name": "python"
    },
    "accelerator": "GPU"
  },
  "cells": [
    {
      "cell_type": "code",
      "metadata": {
        "id": "8dLUI5Hg-oXz",
        "colab": {
          "base_uri": "https://localhost:8080/"
        },
        "outputId": "369aa243-415a-44b7-c0e0-b482d1aa3c94"
      },
      "source": [
        "#!ls -al /content/drive/MyDrive/lab4\n",
        "!nvidia-smi"
      ],
      "execution_count": 1,
      "outputs": [
        {
          "output_type": "stream",
          "text": [
            "Mon May 17 08:30:19 2021       \n",
            "+-----------------------------------------------------------------------------+\n",
            "| NVIDIA-SMI 465.19.01    Driver Version: 460.32.03    CUDA Version: 11.2     |\n",
            "|-------------------------------+----------------------+----------------------+\n",
            "| GPU  Name        Persistence-M| Bus-Id        Disp.A | Volatile Uncorr. ECC |\n",
            "| Fan  Temp  Perf  Pwr:Usage/Cap|         Memory-Usage | GPU-Util  Compute M. |\n",
            "|                               |                      |               MIG M. |\n",
            "|===============================+======================+======================|\n",
            "|   0  Tesla T4            Off  | 00000000:00:04.0 Off |                    0 |\n",
            "| N/A   59C    P8    10W /  70W |      0MiB / 15109MiB |      0%      Default |\n",
            "|                               |                      |                  N/A |\n",
            "+-------------------------------+----------------------+----------------------+\n",
            "                                                                               \n",
            "+-----------------------------------------------------------------------------+\n",
            "| Processes:                                                                  |\n",
            "|  GPU   GI   CI        PID   Type   Process name                  GPU Memory |\n",
            "|        ID   ID                                                   Usage      |\n",
            "|=============================================================================|\n",
            "|  No running processes found                                                 |\n",
            "+-----------------------------------------------------------------------------+\n"
          ],
          "name": "stdout"
        }
      ]
    },
    {
      "cell_type": "code",
      "metadata": {
        "id": "NGvhNc-R77KO"
      },
      "source": [
        "import torch\n",
        "import torch.nn as nn\n",
        "import torch.optim as optim\n",
        "import torch.nn.functional as F\n",
        "from torch.utils.data import DataLoader\n",
        "from torch.utils.data import TensorDataset\n",
        "from torchsummary import summary\n",
        "\n",
        "from matplotlib import pyplot as plt\n",
        "from scipy.io import loadmat\n",
        "import math, sys, os, time\n",
        "import pandas as pd\n",
        "import numpy as np\n",
        "\n",
        "DATASET_DIR = \"/content/drive/MyDrive/AE-4-EEG-Artifact-Removal/BCICIV2a/\"\n",
        "BASE_DIR = \"/content/drive/MyDrive/lab4/\"\n",
        "device = torch.device(\"cuda\" if torch.cuda.is_available() else \"cpu\")\n",
        "# torch shape: (batch_size, chan (depth), h, w)"
      ],
      "execution_count": 81,
      "outputs": []
    },
    {
      "cell_type": "code",
      "metadata": {
        "id": "ucxAR2cT8yFz"
      },
      "source": [
        "class EEGNet(nn.Module):\n",
        "    def __init__(self):\n",
        "        super(EEGNet, self).__init__()\n",
        "\n",
        "        self.F1 = 8\n",
        "        self.F2 = 16\n",
        "        self.D = 2\n",
        "\n",
        "        self.conv1 = nn.Sequential(\n",
        "            nn.Conv2d(1, self.F1, (1, 64), padding=(0, 32), bias=False),\n",
        "            nn.BatchNorm2d(self.F1)\n",
        "        )\n",
        "\n",
        "        self.conv2 = nn.Sequential(\n",
        "            nn.Conv2d(self.F1, self.D*self.F1, (22, 1), groups=self.F1, bias=False),\n",
        "            nn.BatchNorm2d(self.D*self.F1),\n",
        "            nn.ELU(),\n",
        "            nn.AvgPool2d((1, 4)),\n",
        "            nn.Dropout(0.5)\n",
        "        )\n",
        "\n",
        "        self.Conv3 = nn.Sequential(\n",
        "            nn.Conv2d(self.D*self.F1, self.D*self.F1, (1, 16), padding=(0, 8), groups=self.D*self.F1, bias=False),\n",
        "            nn.Conv2d(self.D*self.F1, self.F2, (1, 1), bias=False),\n",
        "            nn.BatchNorm2d(self.F2),\n",
        "            nn.ELU(),\n",
        "            nn.AvgPool2d((1, 8)),\n",
        "            nn.Dropout(0.5)\n",
        "        )\n",
        "\n",
        "        self.classifier = nn.Linear(16*17, 4, bias=True)\n",
        "        #self.softmax = nn.Softmax()\n",
        "\n",
        "    def forward(self, x):\n",
        "        x = self.conv1(x)\n",
        "        x = self.conv2(x)\n",
        "        x = self.Conv3(x)\n",
        "        \n",
        "        x = x.view(-1, 16*17)\n",
        "        x = self.classifier(x)\n",
        "        #x = self.softmax(x)\n",
        "        return x"
      ],
      "execution_count": 3,
      "outputs": []
    },
    {
      "cell_type": "code",
      "metadata": {
        "id": "J3tl_gY69J50"
      },
      "source": [
        "class ShallowConvNet(nn.Module):\n",
        "    def __init__(self):\n",
        "        super(ShallowConvNet, self).__init__()\n",
        "\n",
        "        self.conv1 = nn.Conv2d(1, 40, (1, 13), bias=False)\n",
        "        self.conv2 = nn.Conv2d(40, 40, (22, 1), bias=False)\n",
        "        self.Bn1   = nn.BatchNorm2d(40)\n",
        "        # self.SquareLayer = square_layer()\n",
        "        self.AvgPool1 = nn.AvgPool2d((1, 35), stride=(1, 7))\n",
        "        # self.LogLayer = Log_layer()\n",
        "        self.Drop1 = nn.Dropout(0.25)\n",
        "        self.classifier = nn.Linear(40*74, 4, bias=True)\n",
        "        #self.softmax = nn.Softmax()\n",
        "\n",
        "    def forward(self, x):\n",
        "        x = self.conv1(x)\n",
        "        x = self.conv2(x)\n",
        "        x = self.Bn1(x)\n",
        "        x = x ** 2\n",
        "        x = self.AvgPool1(x)\n",
        "        x = torch.log(x)\n",
        "        x = self.Drop1(x)\n",
        "        x = x.view(-1, 40*74)\n",
        "        x = self.classifier(x)\n",
        "\n",
        "        #x = self.softmax(x)\n",
        "        return x"
      ],
      "execution_count": null,
      "outputs": []
    },
    {
      "cell_type": "code",
      "metadata": {
        "id": "GVO_wSNW9MaK"
      },
      "source": [
        "class SCCNet(nn.Module):\n",
        "    def __init__(self):\n",
        "        super(SCCNet, self).__init__()\n",
        "        # bs, 1, channel, sample\n",
        "        self.conv1 = nn.Conv2d(1, 22, (22, 1))\n",
        "        self.Bn1 = nn.BatchNorm2d(22)\n",
        "        # bs, 22, 1, sample\n",
        "        self.conv2 = nn.Conv2d(22, 20, (1, 12), padding=(0, 6))\n",
        "        self.Bn2   = nn.BatchNorm2d(20)\n",
        "        # self.SquareLayer = square_layer()\n",
        "        self.Drop1 = nn.Dropout(0.5)\n",
        "        self.AvgPool1 = nn.AvgPool2d((1, 62), stride=(1, 12))\n",
        "        self.classifier = nn.Linear(840, 4, bias=True)\n",
        "        #self.softmax = nn.Softmax()\n",
        "\n",
        "    def forward(self, x):\n",
        "        x = self.conv1(x)\n",
        "        x = self.Bn1(x)\n",
        "        x = self.conv2(x)\n",
        "        x = self.Bn2(x)\n",
        "        x = x ** 2\n",
        "        x = self.Drop1(x)\n",
        "        x = self.AvgPool1(x)\n",
        "        x = torch.log(x)\n",
        "        x = x.view(-1, 840)\n",
        "        x = self.classifier(x)\n",
        "\n",
        "        #x = self.softmax(x)\n",
        "        return x"
      ],
      "execution_count": null,
      "outputs": []
    },
    {
      "cell_type": "code",
      "metadata": {
        "id": "UyFvsxUJ9PCU"
      },
      "source": [
        "class TSception(nn.Module):\n",
        "    def conv_block(self, in_chan, out_chan, kernel, step, pool):\n",
        "        return nn.Sequential(\n",
        "            nn.Conv2d(in_channels=in_chan, out_channels=out_chan,\n",
        "                      kernel_size=kernel, stride=step, padding=0),\n",
        "            nn.LeakyReLU(),\n",
        "            nn.AvgPool2d(kernel_size=(1, pool), stride=(1, pool)))\n",
        "\n",
        "    def __init__(self, num_classes, input_size, sampling_rate, num_T, num_S, hidden, dropout_rate):\n",
        "        # input_size: 1 x EEG channel x datapoint\n",
        "        super(TSception, self).__init__()\n",
        "        self.inception_window = [0.5, 0.25, 0.125]\n",
        "        self.pool = 8\n",
        "        # by setting the convolutional kernel being (1,lenght) and the strids being 1 we can use conv2d to\n",
        "        # achieve the 1d convolution operation\n",
        "        self.Tception1 = self.conv_block(1, num_T, (1, int(self.inception_window[0] * sampling_rate)), 1, self.pool)\n",
        "        self.Tception2 = self.conv_block(1, num_T, (1, int(self.inception_window[1] * sampling_rate)), 1, self.pool)\n",
        "        self.Tception3 = self.conv_block(1, num_T, (1, int(self.inception_window[2] * sampling_rate)), 1, self.pool)\n",
        "\n",
        "        self.Sception1 = self.conv_block(num_T, num_S, (int(input_size[1]), 1), 1, int(self.pool*0.25))\n",
        "        self.Sception2 = self.conv_block(num_T, num_S, (int(input_size[1] * 0.5), 1), (int(input_size[1] * 0.5), 1),\n",
        "                                         int(self.pool*0.25))\n",
        "        self.fusion_layer = self.conv_block(num_S, num_S, (3, 1), 1, 2)\n",
        "        self.BN_t = nn.BatchNorm2d(num_T)\n",
        "        self.BN_s = nn.BatchNorm2d(num_S)\n",
        "        self.BN_fusion = nn.BatchNorm2d(num_S)\n",
        "\n",
        "        size = self.get_size(input_size)\n",
        "        self.fc = nn.Sequential(\n",
        "            nn.Linear(size[1], hidden),\n",
        "            nn.ReLU(),\n",
        "            nn.Dropout(dropout_rate),\n",
        "            nn.Linear(hidden, num_classes),\n",
        "            nn.LogSoftmax(dim=1)\n",
        "        )\n",
        "\n",
        "    def forward(self, x):\n",
        "        y = self.Tception1(x)\n",
        "        out = y\n",
        "        y = self.Tception2(x)\n",
        "        out = torch.cat((out, y), dim=-1)\n",
        "        y = self.Tception3(x)\n",
        "        out = torch.cat((out, y), dim=-1)\n",
        "        out = self.BN_t(out)\n",
        "        z = self.Sception1(out)\n",
        "        out_ = z\n",
        "        z = self.Sception2(out)\n",
        "        out_ = torch.cat((out_, z), dim=2)\n",
        "\n",
        "        out = self.BN_s(out_)\n",
        "        out = self.fusion_layer(out)\n",
        "        out = self.BN_fusion(out)\n",
        "        out = out.view(out.size()[0], -1)\n",
        "        out = self.fc(out)\n",
        "        return out\n",
        "\n",
        "    def get_size(self, input_size):\n",
        "        # here we use an array with the shape being\n",
        "        # (1(mini-batch),1(convolutional channel),EEG channel,time data point)\n",
        "        # to simulate the input data and get the output size\n",
        "        data = torch.ones((1, input_size[0], input_size[1], int(input_size[2])))\n",
        "        y = self.Tception1(data)\n",
        "        out = y\n",
        "        y = self.Tception2(data)\n",
        "        out = torch.cat((out, y), dim=-1)\n",
        "        y = self.Tception3(data)\n",
        "        out = torch.cat((out, y), dim=-1)\n",
        "        out = self.BN_t(out)\n",
        "        z = self.Sception1(out)\n",
        "        out_final = z\n",
        "        z = self.Sception2(out)\n",
        "        out_final = torch.cat((out_final, z), dim=2)\n",
        "        out = self.BN_s(out_final)\n",
        "        out = self.fusion_layer(out)\n",
        "        out = self.BN_fusion(out)\n",
        "        out = out.view(out.size()[0], -1)\n",
        "        return out.size()"
      ],
      "execution_count": null,
      "outputs": []
    },
    {
      "cell_type": "code",
      "metadata": {
        "id": "xD01PDKmv2zz"
      },
      "source": [
        "class Model(object):\n",
        "    def __init__(self, model=None, lr=0.001):\n",
        "        super(Model, self).__init__()\n",
        "        self.model = model\n",
        "        self.losses = nn.CrossEntropyLoss()\n",
        "        self.optimizer = optim.Adam(model.parameters(), lr=lr)\n",
        "    def fit(self, trainloader=None, validloader=None, epochs=1, monitor=None):\n",
        "        doValid = False if validloader == None else True\n",
        "        pre_ck_point = [float(\"inf\"), 0.0, float(\"inf\"), 0.0, 0] # loss, acc, val_loss, val_acc, epoch\n",
        "        history = {\"loss\": [], \"acc\": [], \"val_loss\": [], \"val_acc\": []}\n",
        "        for ep in range(1, epochs + 1):\n",
        "            proc_start = time.time() # timer start\n",
        "            if (not (ep % 10)) or (ep == 1):\n",
        "                print(f\"Epoch {ep}/{epochs}\")\n",
        "            self.model.train()\n",
        "            step = 1\n",
        "            for x_batch, y_batch in trainloader:\n",
        "                x_batch, y_batch = x_batch.to(device, dtype=torch.float), y_batch.to(device)\n",
        "                pred = self.model(x_batch)\n",
        "                loss = self.losses(pred, y_batch)\n",
        "                loss.backward()\n",
        "                self.optimizer.step()\n",
        "                self.optimizer.zero_grad()\n",
        "\n",
        "                if (not (ep % 10)) or (ep == 1):\n",
        "                    pbar = int(step * 30 / len(trainloader))\n",
        "                    print(\"\\r{}/{} [{}{}]\".format(\n",
        "                        step, len(trainloader), \">\" * pbar, \" \" * (30 - pbar)), \n",
        "                        end=\"\")\n",
        "                step += 1\n",
        "            # evaluate\n",
        "            loss, acc = self.evaluate(trainloader)\n",
        "            val_loss, val_acc = self.evaluate(validloader) if doValid else (0, 0)\n",
        "            history[\"loss\"] = np.append(history[\"loss\"], loss)\n",
        "            history[\"acc\"] = np.append(history[\"acc\"], acc)\n",
        "            history[\"val_loss\"] = np.append(history[\"val_loss\"], val_loss)\n",
        "            history[\"val_acc\"] = np.append(history[\"val_acc\"], val_acc)\n",
        "            # dump message\n",
        "            if (not (ep % 10)) or (ep == 1):\n",
        "                print(\" {:.4f}s - loss: {:.4f} - acc: {:.4f} - val_loss: {:.4f} - val_acc: {:.4f}\".format(\n",
        "                    time.time()-proc_start, history[\"loss\"][-1], \n",
        "                    history[\"acc\"][-1], history[\"val_loss\"][-1], history[\"val_acc\"][-1])\n",
        "                )\n",
        "            # model check point\n",
        "            if self.__updateCheckpoint(monitor, pre_ck_point, [loss, acc, val_loss, val_acc, ep]):\n",
        "                if not os.path.exists(\"./model\"):\n",
        "                    os.mkdir(\"./model\")\n",
        "                print(f\"save model/checkpoint_model_ep-{ep}.pt\")\n",
        "                self.save(f\"model/checkpoint_model_ep-{ep}.pt\")\n",
        "                pre_ck_point = [loss, acc, val_loss, val_acc, ep]\n",
        "        return history\n",
        "    def evaluate(self, dataloader):\n",
        "        total, acc = 0, 0\n",
        "        self.model.eval()\n",
        "        for x_batch, y_batch in dataloader:\n",
        "            x_batch, y_batch = x_batch.to(device, dtype=torch.float), y_batch.to(device)\n",
        "            pred = self.model(x_batch)\n",
        "            loss = self.losses(pred, y_batch).item()\n",
        "            total += y_batch.shape[0]\n",
        "            acc += (torch.sum(pred.argmax(dim=1)==y_batch)).item()\n",
        "        acc /= total\n",
        "\n",
        "        return (loss, acc)\n",
        "    def predict(self, dataloader):\n",
        "        prediction = []\n",
        "        self.model.eval()\n",
        "        for x_batch, y_batch in dataloader:\n",
        "            x_batch, y_batch = x_batch.to(device, dtype=torch.float), y_batch.to(device)\n",
        "            pred = self.model(x_batch).cpu()\n",
        "            prediction = np.append(prediction, pred.argmax(dim=1).numpy())\n",
        "        return prediction\n",
        "    def save(self, filepath):\n",
        "        torch.save(self.model, filepath)\n",
        "    @classmethod\n",
        "    def load(cls, filepath):\n",
        "        return cls(torch.load(filepath))\n",
        "    def __updateCheckpoint(self, monitor, pre_ck_point, evaluation):\n",
        "        if type(monitor) is int:\n",
        "            return True if evaluation[4] % monitor == 0 else False\n",
        "        elif type(monitor) is list:\n",
        "            for _ in monitor:\n",
        "                if not _ in [\"loss\", \"acc\", \"val_loss\", \"val_acc\"]:\n",
        "                    raise Exception(f\"\\\"{_}\\\" is not a valid monitor condition.\")\n",
        "                elif _ == \"loss\" and pre_ck_point[0] < evaluation[0]:\n",
        "                    return False # present epoch loss > history loss\n",
        "                elif _ == \"acc\" and pre_ck_point[1] > evaluation[1]:\n",
        "                    return False # present epoch acc < history acc\n",
        "                elif _ == \"val_loss\" and pre_ck_point[2] < evaluation[2]:\n",
        "                    return False # present epoch val_loss > history val_loss\n",
        "                elif _ == \"val_acc\" and pre_ck_point[3] > evaluation[3]:\n",
        "                    return False # present epoch val_acc < history val_acc        \n",
        "        return True"
      ],
      "execution_count": 71,
      "outputs": []
    },
    {
      "cell_type": "code",
      "metadata": {
        "id": "qRslzEk_unxN"
      },
      "source": [
        "def plot_confusion_matrix(conf_matrix, title=\"Confusion Matrix\"):\n",
        "    plt.figure(figsize=(10, 10))\n",
        "    plt.imshow(conf_matrix, interpolation=\"nearest\", cmap=plt.cm.Blues)\n",
        "    plt.title(title)\n",
        "    plt.colorbar()\n",
        "    plt.xticks([0,1,2,3], [0,1,2,3], rotation=45)\n",
        "    plt.yticks([0,1,2,3], [0,1,2,3])\n",
        "\n",
        "    thresh = conf_matrix.max() / 2.\n",
        "    for i in range(4):\n",
        "        for j in range(4):\n",
        "            plt.text(j, i, format(conf_matrix[i, j], \"d\"), \n",
        "                horizontalalignment=\"center\", color=\"white\" if conf_matrix[i, j] > thresh else \"black\")\n",
        "\n",
        "    plt.tight_layout()\n",
        "    plt.ylabel(\"Real label\")\n",
        "    plt.xlabel(\"Pred label\")\n",
        "    plt.show()"
      ],
      "execution_count": 105,
      "outputs": []
    },
    {
      "cell_type": "markdown",
      "metadata": {
        "id": "rP1nxpOF5QNZ"
      },
      "source": [
        "#Part 1"
      ]
    },
    {
      "cell_type": "markdown",
      "metadata": {
        "id": "e9Wyzb68Z3_7"
      },
      "source": [
        "## Problem 1"
      ]
    },
    {
      "cell_type": "code",
      "metadata": {
        "colab": {
          "base_uri": "https://localhost:8080/"
        },
        "id": "w7dllj7wmBKT",
        "outputId": "8584a97b-3937-48ec-8616-4b105f384762"
      },
      "source": [
        "!ls -al model"
      ],
      "execution_count": 63,
      "outputs": [
        {
          "output_type": "stream",
          "text": [
            "total 8\n",
            "drwxr-xr-x 2 root root 4096 May 17 09:11 .\n",
            "drwxr-xr-x 1 root root 4096 May 17 08:31 ..\n"
          ],
          "name": "stdout"
        }
      ]
    },
    {
      "cell_type": "code",
      "metadata": {
        "id": "kJd93WR55PXS"
      },
      "source": [
        "BATCH_SIZE = 32\n",
        "Learning_Rate = 0.001\n",
        "EPOCHS = 500"
      ],
      "execution_count": 64,
      "outputs": []
    },
    {
      "cell_type": "code",
      "metadata": {
        "id": "o7rgfaiJ-LQU"
      },
      "source": [
        "train_raw = loadmat(DATASET_DIR + \"BCIC_S01_T.mat\")\n",
        "test_raw = loadmat(DATASET_DIR + \"BCIC_S01_E.mat\")\n",
        "trX, trY, teX, teY = train_raw[\"x_train\"], train_raw[\"y_train\"], test_raw[\"x_test\"], test_raw[\"y_test\"]"
      ],
      "execution_count": 65,
      "outputs": []
    },
    {
      "cell_type": "code",
      "metadata": {
        "colab": {
          "base_uri": "https://localhost:8080/"
        },
        "id": "-tqCpBDxUY1i",
        "outputId": "aeead33f-2b25-4184-e4e3-0cb37d7190d2"
      },
      "source": [
        "x_train = torch.from_numpy(np.expand_dims(trX, axis=1))\n",
        "y_train = torch.from_numpy(np.reshape(trY, (trY.size, ))).long()\n",
        "x_test = torch.from_numpy(np.expand_dims(teX, axis=1))\n",
        "y_test = torch.from_numpy(np.reshape(teY, (teY.size, ))).long()\n",
        "\n",
        "print(x_train.shape, y_train.shape)\n",
        "print(x_test.shape, y_test.shape)\n",
        "trainset, testset = TensorDataset(x_train, y_train), TensorDataset(x_test, y_test)\n",
        "\n",
        "\"\"\" create dataloader \"\"\"\n",
        "trainloader = DataLoader(dataset=trainset, batch_size=BATCH_SIZE, shuffle=True)\n",
        "testloader = DataLoader(dataset=testset, batch_size=BATCH_SIZE, shuffle=True)"
      ],
      "execution_count": 66,
      "outputs": [
        {
          "output_type": "stream",
          "text": [
            "torch.Size([288, 1, 22, 562]) torch.Size([288])\n",
            "torch.Size([288, 1, 22, 562]) torch.Size([288])\n"
          ],
          "name": "stdout"
        }
      ]
    },
    {
      "cell_type": "code",
      "metadata": {
        "colab": {
          "base_uri": "https://localhost:8080/",
          "height": 1000
        },
        "id": "ivZTvIlyG_0a",
        "outputId": "ef64b6c2-204e-4053-dc5a-31f1806bd1d9"
      },
      "source": [
        "eegnet = EEGNet().to(device)\n",
        "#summary(eegnet, (1, 22, 562))\n",
        "model = Model(eegnet, lr=Learning_Rate)\n",
        "# save checkpoint model when both trainset and validset get new max acc\n",
        "history = model.fit(trainloader=trainloader, validloader=testloader, epochs=EPOCHS, monitor=[\"acc\", \"val_acc\"])\n",
        "\n",
        "plt.figure(figsize = (10, 4))\n",
        "plt.subplot(1, 2, 1)\n",
        "plt.title(\"Acc\")\n",
        "plt.plot(history[\"acc\"], color=\"red\")\n",
        "plt.plot(history[\"val_acc\"], color=\"blue\")\n",
        "plt.subplot(1, 2, 2)\n",
        "plt.title(\"Loss\")\n",
        "plt.plot(history[\"loss\"], color=\"red\")\n",
        "plt.plot(history[\"val_loss\"], color=\"blue\")\n",
        "plt.show()"
      ],
      "execution_count": 67,
      "outputs": [
        {
          "output_type": "stream",
          "text": [
            "Epoch 1/500\n",
            "\r1/9 [>>>                           ]\r2/9 [>>>>>>                        ]\r3/9 [>>>>>>>>>>                    ]\r4/9 [>>>>>>>>>>>>>                 ]\r5/9 [>>>>>>>>>>>>>>>>              ]\r6/9 [>>>>>>>>>>>>>>>>>>>>          ]\r7/9 [>>>>>>>>>>>>>>>>>>>>>>>       ]\r8/9 [>>>>>>>>>>>>>>>>>>>>>>>>>>    ]\r9/9 [>>>>>>>>>>>>>>>>>>>>>>>>>>>>>>] 0.2288s - loss: 1.3899 - acc: 0.2639 - val_loss: 1.3846 - val_acc: 0.2604\n",
            "save model/checkpoint_model_ep-1.pt\n",
            "save model/checkpoint_model_ep-2.pt\n",
            "save model/checkpoint_model_ep-3.pt\n",
            "save model/checkpoint_model_ep-4.pt\n",
            "Epoch 10/500\n",
            "9/9 [>>>>>>>>>>>>>>>>>>>>>>>>>>>>>>] 0.2025s - loss: 1.0417 - acc: 0.5556 - val_loss: 1.0327 - val_acc: 0.4757\n",
            "save model/checkpoint_model_ep-10.pt\n",
            "save model/checkpoint_model_ep-11.pt\n",
            "save model/checkpoint_model_ep-12.pt\n",
            "save model/checkpoint_model_ep-14.pt\n",
            "save model/checkpoint_model_ep-15.pt\n",
            "save model/checkpoint_model_ep-16.pt\n",
            "save model/checkpoint_model_ep-17.pt\n",
            "save model/checkpoint_model_ep-18.pt\n",
            "save model/checkpoint_model_ep-19.pt\n",
            "Epoch 20/500\n",
            "9/9 [>>>>>>>>>>>>>>>>>>>>>>>>>>>>>>] 0.2027s - loss: 0.7286 - acc: 0.7569 - val_loss: 0.8603 - val_acc: 0.6701\n",
            "save model/checkpoint_model_ep-20.pt\n",
            "save model/checkpoint_model_ep-22.pt\n",
            "save model/checkpoint_model_ep-23.pt\n",
            "save model/checkpoint_model_ep-27.pt\n",
            "save model/checkpoint_model_ep-28.pt\n",
            "save model/checkpoint_model_ep-29.pt\n",
            "Epoch 30/500\n",
            "9/9 [>>>>>>>>>>>>>>>>>>>>>>>>>>>>>>] 0.2019s - loss: 0.5821 - acc: 0.8056 - val_loss: 0.7962 - val_acc: 0.7396\n",
            "save model/checkpoint_model_ep-30.pt\n",
            "save model/checkpoint_model_ep-38.pt\n",
            "Epoch 40/500\n",
            "9/9 [>>>>>>>>>>>>>>>>>>>>>>>>>>>>>>] 0.2095s - loss: 0.3483 - acc: 0.8333 - val_loss: 0.7295 - val_acc: 0.7431\n",
            "save model/checkpoint_model_ep-44.pt\n",
            "save model/checkpoint_model_ep-45.pt\n",
            "save model/checkpoint_model_ep-49.pt\n",
            "Epoch 50/500\n",
            "9/9 [>>>>>>>>>>>>>>>>>>>>>>>>>>>>>>] 0.2010s - loss: 0.3908 - acc: 0.8576 - val_loss: 0.7859 - val_acc: 0.7500\n",
            "Epoch 60/500\n",
            "9/9 [>>>>>>>>>>>>>>>>>>>>>>>>>>>>>>] 0.2070s - loss: 0.2616 - acc: 0.8889 - val_loss: 0.4688 - val_acc: 0.7396\n",
            "save model/checkpoint_model_ep-66.pt\n",
            "Epoch 70/500\n",
            "9/9 [>>>>>>>>>>>>>>>>>>>>>>>>>>>>>>] 0.2151s - loss: 0.2660 - acc: 0.8924 - val_loss: 0.8907 - val_acc: 0.7535\n",
            "Epoch 80/500\n",
            "9/9 [>>>>>>>>>>>>>>>>>>>>>>>>>>>>>>] 0.2183s - loss: 0.3375 - acc: 0.9062 - val_loss: 0.6502 - val_acc: 0.7535\n",
            "save model/checkpoint_model_ep-85.pt\n",
            "Epoch 90/500\n",
            "9/9 [>>>>>>>>>>>>>>>>>>>>>>>>>>>>>>] 0.2108s - loss: 0.2749 - acc: 0.9062 - val_loss: 0.6120 - val_acc: 0.7639\n",
            "save model/checkpoint_model_ep-92.pt\n",
            "Epoch 100/500\n",
            "9/9 [>>>>>>>>>>>>>>>>>>>>>>>>>>>>>>] 0.2135s - loss: 0.2996 - acc: 0.9132 - val_loss: 0.5806 - val_acc: 0.7500\n",
            "save model/checkpoint_model_ep-101.pt\n",
            "save model/checkpoint_model_ep-109.pt\n",
            "Epoch 110/500\n",
            "9/9 [>>>>>>>>>>>>>>>>>>>>>>>>>>>>>>] 0.1992s - loss: 0.3228 - acc: 0.9236 - val_loss: 0.2802 - val_acc: 0.7431\n",
            "Epoch 120/500\n",
            "9/9 [>>>>>>>>>>>>>>>>>>>>>>>>>>>>>>] 0.2122s - loss: 0.1200 - acc: 0.9271 - val_loss: 0.7149 - val_acc: 0.7465\n",
            "Epoch 130/500\n",
            "9/9 [>>>>>>>>>>>>>>>>>>>>>>>>>>>>>>] 0.1936s - loss: 0.1480 - acc: 0.9444 - val_loss: 0.5423 - val_acc: 0.7604\n",
            "Epoch 140/500\n",
            "9/9 [>>>>>>>>>>>>>>>>>>>>>>>>>>>>>>] 0.2000s - loss: 0.1769 - acc: 0.9479 - val_loss: 0.6490 - val_acc: 0.7431\n",
            "Epoch 150/500\n",
            "9/9 [>>>>>>>>>>>>>>>>>>>>>>>>>>>>>>] 0.1970s - loss: 0.1821 - acc: 0.9618 - val_loss: 0.4461 - val_acc: 0.7639\n",
            "save model/checkpoint_model_ep-152.pt\n",
            "Epoch 160/500\n",
            "9/9 [>>>>>>>>>>>>>>>>>>>>>>>>>>>>>>] 0.2120s - loss: 0.2249 - acc: 0.9618 - val_loss: 0.3469 - val_acc: 0.7396\n",
            "Epoch 170/500\n",
            "9/9 [>>>>>>>>>>>>>>>>>>>>>>>>>>>>>>] 0.2088s - loss: 0.1388 - acc: 0.9514 - val_loss: 0.5291 - val_acc: 0.7222\n",
            "Epoch 180/500\n",
            "9/9 [>>>>>>>>>>>>>>>>>>>>>>>>>>>>>>] 0.2002s - loss: 0.0927 - acc: 0.9688 - val_loss: 0.4135 - val_acc: 0.7778\n",
            "save model/checkpoint_model_ep-183.pt\n",
            "Epoch 190/500\n",
            "9/9 [>>>>>>>>>>>>>>>>>>>>>>>>>>>>>>] 0.2020s - loss: 0.1312 - acc: 0.9792 - val_loss: 0.7952 - val_acc: 0.7951\n",
            "save model/checkpoint_model_ep-190.pt\n",
            "Epoch 200/500\n",
            "9/9 [>>>>>>>>>>>>>>>>>>>>>>>>>>>>>>] 0.2046s - loss: 0.1853 - acc: 0.9792 - val_loss: 0.5077 - val_acc: 0.7639\n",
            "Epoch 210/500\n",
            "9/9 [>>>>>>>>>>>>>>>>>>>>>>>>>>>>>>] 0.1997s - loss: 0.1097 - acc: 0.9757 - val_loss: 0.3577 - val_acc: 0.7882\n",
            "save model/checkpoint_model_ep-213.pt\n",
            "Epoch 220/500\n",
            "9/9 [>>>>>>>>>>>>>>>>>>>>>>>>>>>>>>] 0.2028s - loss: 0.1007 - acc: 0.9722 - val_loss: 0.5899 - val_acc: 0.7535\n",
            "save model/checkpoint_model_ep-227.pt\n",
            "Epoch 230/500\n",
            "9/9 [>>>>>>>>>>>>>>>>>>>>>>>>>>>>>>] 0.2110s - loss: 0.0605 - acc: 0.9826 - val_loss: 0.3736 - val_acc: 0.7778\n",
            "save model/checkpoint_model_ep-233.pt\n",
            "Epoch 240/500\n",
            "9/9 [>>>>>>>>>>>>>>>>>>>>>>>>>>>>>>] 0.2044s - loss: 0.0885 - acc: 0.9965 - val_loss: 0.7306 - val_acc: 0.8090\n",
            "save model/checkpoint_model_ep-240.pt\n",
            "Epoch 250/500\n",
            "9/9 [>>>>>>>>>>>>>>>>>>>>>>>>>>>>>>] 0.2098s - loss: 0.1555 - acc: 0.9931 - val_loss: 0.3074 - val_acc: 0.7951\n",
            "Epoch 260/500\n",
            "9/9 [>>>>>>>>>>>>>>>>>>>>>>>>>>>>>>] 0.2107s - loss: 0.0693 - acc: 0.9965 - val_loss: 0.4928 - val_acc: 0.7812\n",
            "Epoch 270/500\n",
            "9/9 [>>>>>>>>>>>>>>>>>>>>>>>>>>>>>>] 0.2055s - loss: 0.0436 - acc: 0.9965 - val_loss: 0.3786 - val_acc: 0.8125\n",
            "save model/checkpoint_model_ep-270.pt\n",
            "Epoch 280/500\n",
            "9/9 [>>>>>>>>>>>>>>>>>>>>>>>>>>>>>>] 0.2060s - loss: 0.0822 - acc: 0.9896 - val_loss: 0.5644 - val_acc: 0.7778\n",
            "save model/checkpoint_model_ep-288.pt\n",
            "Epoch 290/500\n",
            "9/9 [>>>>>>>>>>>>>>>>>>>>>>>>>>>>>>] 0.2162s - loss: 0.0440 - acc: 0.9965 - val_loss: 0.4127 - val_acc: 0.8056\n",
            "Epoch 300/500\n",
            "9/9 [>>>>>>>>>>>>>>>>>>>>>>>>>>>>>>] 0.2117s - loss: 0.0404 - acc: 0.9965 - val_loss: 0.2886 - val_acc: 0.7986\n",
            "Epoch 310/500\n",
            "9/9 [>>>>>>>>>>>>>>>>>>>>>>>>>>>>>>] 0.2211s - loss: 0.0338 - acc: 0.9965 - val_loss: 0.4964 - val_acc: 0.8056\n",
            "save model/checkpoint_model_ep-311.pt\n",
            "save model/checkpoint_model_ep-312.pt\n",
            "Epoch 320/500\n",
            "9/9 [>>>>>>>>>>>>>>>>>>>>>>>>>>>>>>] 0.2300s - loss: 0.0449 - acc: 0.9965 - val_loss: 0.5713 - val_acc: 0.7778\n",
            "save model/checkpoint_model_ep-323.pt\n",
            "Epoch 330/500\n",
            "9/9 [>>>>>>>>>>>>>>>>>>>>>>>>>>>>>>] 0.2070s - loss: 0.0703 - acc: 0.9965 - val_loss: 0.4985 - val_acc: 0.7812\n",
            "Epoch 340/500\n",
            "9/9 [>>>>>>>>>>>>>>>>>>>>>>>>>>>>>>] 0.2167s - loss: 0.0554 - acc: 0.9965 - val_loss: 0.5345 - val_acc: 0.7917\n",
            "save model/checkpoint_model_ep-347.pt\n",
            "Epoch 350/500\n",
            "9/9 [>>>>>>>>>>>>>>>>>>>>>>>>>>>>>>] 0.2270s - loss: 0.0565 - acc: 0.9965 - val_loss: 0.8103 - val_acc: 0.7778\n",
            "Epoch 360/500\n",
            "9/9 [>>>>>>>>>>>>>>>>>>>>>>>>>>>>>>] 0.2118s - loss: 0.0549 - acc: 1.0000 - val_loss: 0.4958 - val_acc: 0.8021\n",
            "Epoch 370/500\n",
            "9/9 [>>>>>>>>>>>>>>>>>>>>>>>>>>>>>>] 0.2002s - loss: 0.0255 - acc: 1.0000 - val_loss: 0.5620 - val_acc: 0.8021\n",
            "Epoch 380/500\n",
            "9/9 [>>>>>>>>>>>>>>>>>>>>>>>>>>>>>>] 0.2071s - loss: 0.0352 - acc: 1.0000 - val_loss: 0.6490 - val_acc: 0.8090\n",
            "Epoch 390/500\n",
            "9/9 [>>>>>>>>>>>>>>>>>>>>>>>>>>>>>>] 0.2024s - loss: 0.0383 - acc: 1.0000 - val_loss: 0.7085 - val_acc: 0.8090\n",
            "Epoch 400/500\n",
            "9/9 [>>>>>>>>>>>>>>>>>>>>>>>>>>>>>>] 0.2008s - loss: 0.0297 - acc: 0.9896 - val_loss: 0.5820 - val_acc: 0.7431\n",
            "Epoch 410/500\n",
            "9/9 [>>>>>>>>>>>>>>>>>>>>>>>>>>>>>>] 0.1986s - loss: 0.0325 - acc: 1.0000 - val_loss: 0.6889 - val_acc: 0.8160\n",
            "Epoch 420/500\n",
            "9/9 [>>>>>>>>>>>>>>>>>>>>>>>>>>>>>>] 0.2037s - loss: 0.0582 - acc: 0.9965 - val_loss: 0.3680 - val_acc: 0.8090\n",
            "Epoch 430/500\n",
            "9/9 [>>>>>>>>>>>>>>>>>>>>>>>>>>>>>>] 0.2107s - loss: 0.0489 - acc: 1.0000 - val_loss: 0.5523 - val_acc: 0.8056\n",
            "save model/checkpoint_model_ep-431.pt\n",
            "Epoch 440/500\n",
            "9/9 [>>>>>>>>>>>>>>>>>>>>>>>>>>>>>>] 0.2023s - loss: 0.0384 - acc: 1.0000 - val_loss: 0.5991 - val_acc: 0.8194\n",
            "Epoch 450/500\n",
            "9/9 [>>>>>>>>>>>>>>>>>>>>>>>>>>>>>>] 0.2242s - loss: 0.0225 - acc: 1.0000 - val_loss: 0.5191 - val_acc: 0.7986\n",
            "Epoch 460/500\n",
            "9/9 [>>>>>>>>>>>>>>>>>>>>>>>>>>>>>>] 0.2080s - loss: 0.0250 - acc: 0.9965 - val_loss: 0.8215 - val_acc: 0.7812\n",
            "Epoch 470/500\n",
            "9/9 [>>>>>>>>>>>>>>>>>>>>>>>>>>>>>>] 0.2185s - loss: 0.0208 - acc: 1.0000 - val_loss: 0.2442 - val_acc: 0.8090\n",
            "save model/checkpoint_model_ep-477.pt\n",
            "Epoch 480/500\n",
            "9/9 [>>>>>>>>>>>>>>>>>>>>>>>>>>>>>>] 0.2130s - loss: 0.0202 - acc: 1.0000 - val_loss: 0.8010 - val_acc: 0.7917\n",
            "Epoch 490/500\n",
            "9/9 [>>>>>>>>>>>>>>>>>>>>>>>>>>>>>>] 0.2124s - loss: 0.0117 - acc: 1.0000 - val_loss: 0.4300 - val_acc: 0.8056\n",
            "Epoch 500/500\n",
            "9/9 [>>>>>>>>>>>>>>>>>>>>>>>>>>>>>>] 0.2054s - loss: 0.0273 - acc: 1.0000 - val_loss: 0.3730 - val_acc: 0.8021\n"
          ],
          "name": "stdout"
        },
        {
          "output_type": "display_data",
          "data": {
            "image/png": "[encoded data removed]",
            "text/plain": [
              "<Figure size 720x288 with 2 Axes>"
            ]
          },
          "metadata": {
            "tags": [],
            "needs_background": "light"
          }
        }
      ]
    },
    {
      "cell_type": "markdown",
      "metadata": {
        "id": "Ju_0dIrmdpPK"
      },
      "source": [
        "### (a)"
      ]
    },
    {
      "cell_type": "code",
      "metadata": {
        "colab": {
          "base_uri": "https://localhost:8080/"
        },
        "id": "atUZyoi1WFqN",
        "outputId": "5425945b-892c-4764-f2c4-c6cf7b3a5f61"
      },
      "source": [
        "# load model\n",
        "ld_model = Model.load(\"model/checkpoint_model_ep-477.pt\")\n",
        "eva_train = ld_model.evaluate(dataloader=trainloader)\n",
        "print(f\"Train Accuracy: {eva_train[1]:.4f}\\tTrain Loss: {eva_train[0]:.4f}\")\n",
        "eva_test = ld_model.evaluate(dataloader=testloader)\n",
        "print(f\"Test Accuracy: {eva_test[1]:.4f}\\tTest Loss: {eva_test[0]:.4f}\")"
      ],
      "execution_count": 68,
      "outputs": [
        {
          "output_type": "stream",
          "text": [
            "Train Accuracy: 1.0000\tTrain Loss: 0.0144\n",
            "Test Accuracy: 0.8333\tTest Loss: 0.1194\n"
          ],
          "name": "stdout"
        }
      ]
    },
    {
      "cell_type": "markdown",
      "metadata": {
        "id": "tXg9peWcoLF0"
      },
      "source": [
        "### (b)"
      ]
    },
    {
      "cell_type": "code",
      "metadata": {
        "id": "yLF6tUZlmU74"
      },
      "source": [
        "rec_train = {\"total\": [0, 0, 0, 0], \"hit\": [0, 0, 0, 0]}\n",
        "rec_test = {\"total\": [0, 0, 0, 0], \"hit\": [0, 0, 0, 0]}\n",
        "# confusion matrix in (c)\n",
        "conf_matrix_train = np.zeros(shape=(4, 4), dtype=\"uint8\")\n",
        "conf_matrix_test = np.zeros(shape=(4, 4), dtype=\"uint8\")\n",
        "\n",
        "real_train = trY.reshape(trY.size)\n",
        "real_test = teY.reshape(teY.size)\n",
        "# Warning: close shuffle first before predict\n",
        "pred_train = ld_model.predict(dataloader=DataLoader(dataset=trainset, batch_size=BATCH_SIZE, shuffle=False)).astype(\"uint8\")\n",
        "pred_test = ld_model.predict(dataloader=DataLoader(dataset=testset, batch_size=BATCH_SIZE, shuffle=False)).astype(\"uint8\")\n",
        "\n",
        "for i in range(288):\n",
        "    rec_train[\"total\"][real_train[i]] += 1\n",
        "    rec_train[\"hit\"][real_train[i]] += (1 if real_train[i] == pred_train[i] else 0)\n",
        "    rec_test[\"total\"][real_test[i]] += 1\n",
        "    rec_test[\"hit\"][real_test[i]] += (1 if real_test[i] == pred_test[i] else 0)\n",
        "\n",
        "    conf_matrix_train[real_train[i]][pred_train[i]] += 1\n",
        "    conf_matrix_test[real_test[i]][pred_test[i]] += 1"
      ],
      "execution_count": 107,
      "outputs": []
    },
    {
      "cell_type": "code",
      "metadata": {
        "colab": {
          "base_uri": "https://localhost:8080/"
        },
        "id": "He-EeArbfbtJ",
        "outputId": "1cb7a7d5-d6a0-42be-abec-67941dfed3de"
      },
      "source": [
        "for i in range(4):\n",
        "    print(\"Train accuracy of class-{}: {}\".format(i, rec_train[\"hit\"][i] / rec_train[\"total\"][i]))\n",
        "print()\n",
        "for i in range(4):\n",
        "    print(\"Test accuracy of class-{}: {}\".format(i, rec_test[\"hit\"][i] / rec_test[\"total\"][i]))"
      ],
      "execution_count": 108,
      "outputs": [
        {
          "output_type": "stream",
          "text": [
            "Train accuracy of class-0: 1.0\n",
            "Train accuracy of class-1: 1.0\n",
            "Train accuracy of class-2: 1.0\n",
            "Train accuracy of class-3: 1.0\n",
            "\n",
            "Test accuracy of class-0: 0.9444444444444444\n",
            "Test accuracy of class-1: 0.9027777777777778\n",
            "Test accuracy of class-2: 0.7222222222222222\n",
            "Test accuracy of class-3: 0.7638888888888888\n"
          ],
          "name": "stdout"
        }
      ]
    },
    {
      "cell_type": "markdown",
      "metadata": {
        "id": "msSuMry7o6eM"
      },
      "source": [
        "### (c)"
      ]
    },
    {
      "cell_type": "code",
      "metadata": {
        "colab": {
          "base_uri": "https://localhost:8080/",
          "height": 796
        },
        "id": "x0dxH5VBqWVU",
        "outputId": "b2e2e82c-53b0-4791-aa30-cbd57a13efc1"
      },
      "source": [
        "print(conf_matrix_train)\n",
        "plot_confusion_matrix(conf_matrix_train, \"Train Confusion Matrix\")"
      ],
      "execution_count": 109,
      "outputs": [
        {
          "output_type": "stream",
          "text": [
            "[[72  0  0  0]\n",
            " [ 0 72  0  0]\n",
            " [ 0  0 72  0]\n",
            " [ 0  0  0 72]]\n"
          ],
          "name": "stdout"
        },
        {
          "output_type": "display_data",
          "data": {
            "image/png": "[encoded data removed]",
            "text/plain": [
              "<Figure size 720x720 with 2 Axes>"
            ]
          },
          "metadata": {
            "tags": [],
            "needs_background": "light"
          }
        }
      ]
    },
    {
      "cell_type": "code",
      "metadata": {
        "colab": {
          "base_uri": "https://localhost:8080/",
          "height": 796
        },
        "id": "MjNjACgFsi7E",
        "outputId": "bef04341-32ff-4afb-8c0a-8b3935a93555"
      },
      "source": [
        "print(conf_matrix_test)\n",
        "plot_confusion_matrix(conf_matrix_test, \"Test Confusion Matrix\")"
      ],
      "execution_count": 110,
      "outputs": [
        {
          "output_type": "stream",
          "text": [
            "[[68  2  2  0]\n",
            " [ 5 65  2  0]\n",
            " [ 5  1 52 14]\n",
            " [ 1  0 16 55]]\n"
          ],
          "name": "stdout"
        },
        {
          "output_type": "display_data",
          "data": {
            "image/png": "[encoded data removed]",
            "text/plain": [
              "<Figure size 720x720 with 2 Axes>"
            ]
          },
          "metadata": {
            "tags": [],
            "needs_background": "light"
          }
        }
      ]
    }
  ]
}