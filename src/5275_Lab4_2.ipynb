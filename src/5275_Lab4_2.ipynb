{
  "nbformat": 4,
  "nbformat_minor": 0,
  "metadata": {
    "colab": {
      "name": "5275_Lab4_2.ipynb",
      "provenance": [],
      "collapsed_sections": []
    },
    "kernelspec": {
      "name": "python3",
      "display_name": "Python 3"
    },
    "language_info": {
      "name": "python"
    },
    "accelerator": "GPU"
  },
  "cells": [
    {
      "cell_type": "code",
      "metadata": {
        "id": "8dLUI5Hg-oXz"
      },
      "source": [
        "!ls -al /content/drive/MyDrive/lab4"
      ],
      "execution_count": null,
      "outputs": []
    },
    {
      "cell_type": "code",
      "metadata": {
        "id": "NGvhNc-R77KO"
      },
      "source": [
        "import torch\n",
        "import torch.nn as nn\n",
        "import torch.optim as optim\n",
        "import torch.nn.functional as F\n",
        "from torch.utils.data import DataLoader\n",
        "from torch.utils.data import TensorDataset\n",
        "from torchsummary import summary\n",
        "\n",
        "from matplotlib import pyplot as plt\n",
        "from time import time as Timer\n",
        "from scipy.io import loadmat\n",
        "import numpy as np\n",
        "import math, sys\n",
        "\n",
        "DATASET_DIR = \"/content/drive/MyDrive/AE-4-EEG-Artifact-Removal/BCICIV2a/\"\n",
        "BASE_DIR = \"/content/drive/MyDrive/lab4/\"\n",
        "device = torch.device(\"cuda\" if torch.cuda.is_available() else \"cpu\")\n",
        "# torch shape: (batch_size, chan (depth), h, w)"
      ],
      "execution_count": 1,
      "outputs": []
    },
    {
      "cell_type": "code",
      "metadata": {
        "id": "ucxAR2cT8yFz"
      },
      "source": [
        "class EEGNet(nn.Module):\n",
        "    def __init__(self):\n",
        "        super(EEGNet, self).__init__()\n",
        "\n",
        "        self.F1 = 8\n",
        "        self.F2 = 16\n",
        "        self.D = 2\n",
        "\n",
        "        self.conv1 = nn.Sequential(\n",
        "            nn.Conv2d(1, self.F1, (1, 64), padding=(0, 32), bias=False),\n",
        "            nn.BatchNorm2d(self.F1)\n",
        "        )\n",
        "\n",
        "        self.conv2 = nn.Sequential(\n",
        "            nn.Conv2d(self.F1, self.D*self.F1, (22, 1), groups=self.F1, bias=False),\n",
        "            nn.BatchNorm2d(self.D*self.F1),\n",
        "            nn.ELU(),\n",
        "            nn.AvgPool2d((1, 4)),\n",
        "            nn.Dropout(0.5)\n",
        "        )\n",
        "\n",
        "        self.Conv3 = nn.Sequential(\n",
        "            nn.Conv2d(self.D*self.F1, self.D*self.F1, (1, 16), padding=(0, 8), groups=self.D*self.F1, bias=False),\n",
        "            nn.Conv2d(self.D*self.F1, self.F2, (1, 1), bias=False),\n",
        "            nn.BatchNorm2d(self.F2),\n",
        "            nn.ELU(),\n",
        "            nn.AvgPool2d((1, 8)),\n",
        "            nn.Dropout(0.5)\n",
        "        )\n",
        "\n",
        "        self.classifier = nn.Linear(16*17, 4, bias=True)\n",
        "        #self.softmax = nn.Softmax()\n",
        "\n",
        "    def forward(self, x):\n",
        "        x = self.conv1(x)\n",
        "        x = self.conv2(x)\n",
        "        x = self.Conv3(x)\n",
        "        \n",
        "        x = x.view(-1, 16*17)\n",
        "        x = self.classifier(x)\n",
        "        #x = self.softmax(x)\n",
        "        return x"
      ],
      "execution_count": 2,
      "outputs": []
    },
    {
      "cell_type": "code",
      "metadata": {
        "id": "J3tl_gY69J50"
      },
      "source": [
        "class ShallowConvNet(nn.Module):\n",
        "    def __init__(self):\n",
        "        super(ShallowConvNet, self).__init__()\n",
        "\n",
        "        self.conv1 = nn.Conv2d(1, 40, (1, 13), bias=False)\n",
        "        self.conv2 = nn.Conv2d(40, 40, (22, 1), bias=False)\n",
        "        self.Bn1   = nn.BatchNorm2d(40)\n",
        "        # self.SquareLayer = square_layer()\n",
        "        self.AvgPool1 = nn.AvgPool2d((1, 35), stride=(1, 7))\n",
        "        # self.LogLayer = Log_layer()\n",
        "        self.Drop1 = nn.Dropout(0.25)\n",
        "        self.classifier = nn.Linear(40*74, 4, bias=True)\n",
        "        #self.softmax = nn.Softmax()\n",
        "\n",
        "    def forward(self, x):\n",
        "        x = self.conv1(x)\n",
        "        x = self.conv2(x)\n",
        "        x = self.Bn1(x)\n",
        "        x = x ** 2\n",
        "        x = self.AvgPool1(x)\n",
        "        x = torch.log(x)\n",
        "        x = self.Drop1(x)\n",
        "        x = x.view(-1, 40*74)\n",
        "        x = self.classifier(x)\n",
        "\n",
        "        #x = self.softmax(x)\n",
        "        return x"
      ],
      "execution_count": 24,
      "outputs": []
    },
    {
      "cell_type": "code",
      "metadata": {
        "id": "GVO_wSNW9MaK"
      },
      "source": [
        "class SCCNet(nn.Module):\n",
        "    def __init__(self):\n",
        "        super(SCCNet, self).__init__()\n",
        "        # bs, 1, channel, sample\n",
        "        self.conv1 = nn.Conv2d(1, 22, (22, 1))\n",
        "        self.Bn1 = nn.BatchNorm2d(22)\n",
        "        # bs, 22, 1, sample\n",
        "        self.conv2 = nn.Conv2d(22, 20, (1, 12), padding=(0, 6))\n",
        "        self.Bn2   = nn.BatchNorm2d(20)\n",
        "        # self.SquareLayer = square_layer()\n",
        "        self.Drop1 = nn.Dropout(0.5)\n",
        "        self.AvgPool1 = nn.AvgPool2d((1, 62), stride=(1, 12))\n",
        "        self.classifier = nn.Linear(840, 4, bias=True)\n",
        "        #self.softmax = nn.Softmax()\n",
        "\n",
        "    def forward(self, x):\n",
        "        x = self.conv1(x)\n",
        "        x = self.Bn1(x)\n",
        "        x = self.conv2(x)\n",
        "        x = self.Bn2(x)\n",
        "        x = x ** 2\n",
        "        x = self.Drop1(x)\n",
        "        x = self.AvgPool1(x)\n",
        "        x = torch.log(x)\n",
        "        x = x.view(-1, 840)\n",
        "        x = self.classifier(x)\n",
        "\n",
        "        #x = self.softmax(x)\n",
        "        return x"
      ],
      "execution_count": null,
      "outputs": []
    },
    {
      "cell_type": "code",
      "metadata": {
        "id": "UyFvsxUJ9PCU"
      },
      "source": [
        "class TSception(nn.Module):\n",
        "    def conv_block(self, in_chan, out_chan, kernel, step, pool):\n",
        "        return nn.Sequential(\n",
        "            nn.Conv2d(in_channels=in_chan, out_channels=out_chan,\n",
        "                      kernel_size=kernel, stride=step, padding=0),\n",
        "            nn.LeakyReLU(),\n",
        "            nn.AvgPool2d(kernel_size=(1, pool), stride=(1, pool)))\n",
        "\n",
        "    def __init__(self, num_classes, input_size, sampling_rate, num_T, num_S, hidden, dropout_rate):\n",
        "        # input_size: 1 x EEG channel x datapoint\n",
        "        super(TSception, self).__init__()\n",
        "        self.inception_window = [0.5, 0.25, 0.125]\n",
        "        self.pool = 8\n",
        "        # by setting the convolutional kernel being (1,lenght) and the strids being 1 we can use conv2d to\n",
        "        # achieve the 1d convolution operation\n",
        "        self.Tception1 = self.conv_block(1, num_T, (1, int(self.inception_window[0] * sampling_rate)), 1, self.pool)\n",
        "        self.Tception2 = self.conv_block(1, num_T, (1, int(self.inception_window[1] * sampling_rate)), 1, self.pool)\n",
        "        self.Tception3 = self.conv_block(1, num_T, (1, int(self.inception_window[2] * sampling_rate)), 1, self.pool)\n",
        "\n",
        "        self.Sception1 = self.conv_block(num_T, num_S, (int(input_size[1]), 1), 1, int(self.pool*0.25))\n",
        "        self.Sception2 = self.conv_block(num_T, num_S, (int(input_size[1] * 0.5), 1), (int(input_size[1] * 0.5), 1),\n",
        "                                         int(self.pool*0.25))\n",
        "        self.fusion_layer = self.conv_block(num_S, num_S, (3, 1), 1, 2)\n",
        "        self.BN_t = nn.BatchNorm2d(num_T)\n",
        "        self.BN_s = nn.BatchNorm2d(num_S)\n",
        "        self.BN_fusion = nn.BatchNorm2d(num_S)\n",
        "\n",
        "        size = self.get_size(input_size)\n",
        "        self.fc = nn.Sequential(\n",
        "            nn.Linear(size[1], hidden),\n",
        "            nn.ReLU(),\n",
        "            nn.Dropout(dropout_rate),\n",
        "            nn.Linear(hidden, num_classes),\n",
        "            nn.LogSoftmax(dim=1)\n",
        "        )\n",
        "\n",
        "    def forward(self, x):\n",
        "        y = self.Tception1(x)\n",
        "        out = y\n",
        "        y = self.Tception2(x)\n",
        "        out = torch.cat((out, y), dim=-1)\n",
        "        y = self.Tception3(x)\n",
        "        out = torch.cat((out, y), dim=-1)\n",
        "        out = self.BN_t(out)\n",
        "        z = self.Sception1(out)\n",
        "        out_ = z\n",
        "        z = self.Sception2(out)\n",
        "        out_ = torch.cat((out_, z), dim=2)\n",
        "\n",
        "        out = self.BN_s(out_)\n",
        "        out = self.fusion_layer(out)\n",
        "        out = self.BN_fusion(out)\n",
        "        out = out.view(out.size()[0], -1)\n",
        "        out = self.fc(out)\n",
        "        return out\n",
        "\n",
        "    def get_size(self, input_size):\n",
        "        # here we use an array with the shape being\n",
        "        # (1(mini-batch),1(convolutional channel),EEG channel,time data point)\n",
        "        # to simulate the input data and get the output size\n",
        "        data = torch.ones((1, input_size[0], input_size[1], int(input_size[2])))\n",
        "        y = self.Tception1(data)\n",
        "        out = y\n",
        "        y = self.Tception2(data)\n",
        "        out = torch.cat((out, y), dim=-1)\n",
        "        y = self.Tception3(data)\n",
        "        out = torch.cat((out, y), dim=-1)\n",
        "        out = self.BN_t(out)\n",
        "        z = self.Sception1(out)\n",
        "        out_final = z\n",
        "        z = self.Sception2(out)\n",
        "        out_final = torch.cat((out_final, z), dim=2)\n",
        "        out = self.BN_s(out_final)\n",
        "        out = self.fusion_layer(out)\n",
        "        out = self.BN_fusion(out)\n",
        "        out = out.view(out.size()[0], -1)\n",
        "        return out.size()"
      ],
      "execution_count": null,
      "outputs": []
    },
    {
      "cell_type": "code",
      "metadata": {
        "id": "xD01PDKmv2zz"
      },
      "source": [
        "class Model(object):\n",
        "    def __init__(self, model=None, lr=0.001):\n",
        "        super(Model, self).__init__()\n",
        "        self.model = model\n",
        "        self.losses = nn.CrossEntropyLoss()\n",
        "        self.optimizer = optim.Adam(model.parameters(), lr=lr)\n",
        "    def fit(self, trainloader=None, validloader=None, epochs=1):\n",
        "        doValid = False if validloader == None else True\n",
        "        history = {\"loss\": [], \"acc\": [], \"val_loss\": [], \"val_acc\": []}\n",
        "        for ep in range(1, epochs + 1):\n",
        "            proc_start = Timer() # timer start\n",
        "            if (not (ep % 10)) or (ep == 1):\n",
        "                print(f\"Epoch {ep}/{epochs}\")\n",
        "            self.model.train()\n",
        "            step = 1\n",
        "            for x_batch, y_batch in trainloader:\n",
        "                x_batch, y_batch = x_batch.to(device, dtype=torch.float), y_batch.to(device)\n",
        "                pred = self.model(x_batch)\n",
        "                loss = self.losses(pred, y_batch)\n",
        "                loss.backward()\n",
        "                self.optimizer.step()\n",
        "                self.optimizer.zero_grad()\n",
        "\n",
        "                if (not (ep % 10)) or (ep == 1):\n",
        "                    pbar = int(step * 30 / len(trainloader))\n",
        "                    print(\"\\r{}/{} [{}{}]\".format(\n",
        "                        step, len(trainloader), \">\" * pbar, \" \" * (30 - pbar)), \n",
        "                        end=\"\")\n",
        "                step += 1\n",
        "            proc_end = Timer() # timer stop\n",
        "\n",
        "            loss, acc = self.evaluate(trainloader)\n",
        "            val_loss, val_acc = self.evaluate(validloader) if doValid else (0, 0)\n",
        "            history[\"loss\"] = np.append(history[\"loss\"], loss)\n",
        "            history[\"acc\"] = np.append(history[\"acc\"], acc)\n",
        "            history[\"val_loss\"] = np.append(history[\"val_loss\"], val_loss)\n",
        "            history[\"val_acc\"] = np.append(history[\"val_acc\"], val_acc)\n",
        "            if (not (ep % 10)) or (ep == 1):\n",
        "                print(\" {:.4f}s - loss: {:.4f} - acc: {:.4f} - val_loss: {:.4f} - val_acc: {:.4f}\".format(\n",
        "                    proc_end-proc_start, history[\"loss\"][-1], \n",
        "                    history[\"acc\"][-1], history[\"val_loss\"][-1], history[\"val_acc\"][-1])\n",
        "                )\n",
        "        return history\n",
        "    def evaluate(self, dataloader):\n",
        "        total, acc = 0, 0\n",
        "        self.model.eval()\n",
        "        for x_batch, y_batch in dataloader:\n",
        "            x_batch, y_batch = x_batch.to(device, dtype=torch.float), y_batch.to(device)\n",
        "            pred = self.model(x_batch)\n",
        "            loss = self.losses(pred, y_batch).item()\n",
        "            total += y_batch.shape[0]\n",
        "            acc += (torch.sum(pred.argmax(dim=1)==y_batch)).item()\n",
        "        acc /= total\n",
        "\n",
        "        return (loss, acc)\n",
        "    def predict(self, dataloader):\n",
        "        prediction = []\n",
        "        self.model.eval()\n",
        "        for x_batch, y_batch in dataloader:\n",
        "            x_batch, y_batch = x_batch.to(device, dtype=torch.float), y_batch.to(device)\n",
        "            pred = self.model(x_batch).cpu()\n",
        "            prediction = np.append(prediction, pred.argmax(dim=1).numpy())\n",
        "        return prediction"
      ],
      "execution_count": 67,
      "outputs": []
    },
    {
      "cell_type": "code",
      "metadata": {
        "id": "o7rgfaiJ-LQU"
      },
      "source": [
        "train_raw = loadmat(DATASET_DIR + \"BCIC_S01_T.mat\")\n",
        "test_raw = loadmat(DATASET_DIR + \"BCIC_S01_E.mat\")\n",
        "trX, trY, teX, teY = train_raw[\"x_train\"], train_raw[\"y_train\"], test_raw[\"x_test\"], test_raw[\"y_test\"]"
      ],
      "execution_count": 4,
      "outputs": []
    },
    {
      "cell_type": "code",
      "metadata": {
        "colab": {
          "base_uri": "https://localhost:8080/"
        },
        "id": "-tqCpBDxUY1i",
        "outputId": "35da56b5-80b3-445d-f9aa-371ddbfa7e27"
      },
      "source": [
        "# from tensorflow.keras import utils\n",
        "x_train = torch.from_numpy(np.expand_dims(trX, axis=1))\n",
        "y_train = torch.from_numpy(np.reshape(trY, (trY.size, ))).long()\n",
        "# y_train = torch.from_numpy(utils.to_categorical(trY, 4))\n",
        "x_test = torch.from_numpy(np.expand_dims(teX, axis=1))\n",
        "y_test = torch.from_numpy(np.reshape(teY, (teY.size, ))).long()\n",
        "# y_test = torch.from_numpy(utils.to_categorical(teY, 4))\n",
        "\n",
        "print(x_train.shape, y_train.shape)\n",
        "print(x_test.shape, y_test.shape)\n",
        "trainset, testset = TensorDataset(x_train, y_train), TensorDataset(x_test, y_test)\n",
        "\n",
        "\"\"\" create dataloader \"\"\"\n",
        "bs = 32 # batch_size\n",
        "trainloader = DataLoader(dataset=trainset, batch_size=bs, shuffle=True)\n",
        "testloader = DataLoader(dataset=testset, batch_size=bs, shuffle=True)"
      ],
      "execution_count": 58,
      "outputs": [
        {
          "output_type": "stream",
          "text": [
            "torch.Size([288, 1, 22, 562]) torch.Size([288])\n",
            "torch.Size([288, 1, 22, 562]) torch.Size([288])\n"
          ],
          "name": "stdout"
        }
      ]
    },
    {
      "cell_type": "code",
      "metadata": {
        "colab": {
          "base_uri": "https://localhost:8080/"
        },
        "id": "ivZTvIlyG_0a",
        "outputId": "cef9f63d-b597-4dbb-d7f1-bb6f06cb9998"
      },
      "source": [
        "eegnet = EEGNet().to(device)\n",
        "\n",
        "model = Model(eegnet, lr=0.001)\n",
        "history = model.fit(trainloader=trainloader, validloader=testloader, epochs=200)"
      ],
      "execution_count": 68,
      "outputs": [
        {
          "output_type": "stream",
          "text": [
            "Epoch 1/200\n",
            "9/9 [>>>>>>>>>>>>>>>>>>>>>>>>>>>>>>] 0.0903s - loss: 1.3853 - acc: 0.3056 - val_loss: 1.3807 - val_acc: 0.2882\n",
            "Epoch 10/200\n",
            "9/9 [>>>>>>>>>>>>>>>>>>>>>>>>>>>>>>] 0.0812s - loss: 1.0749 - acc: 0.5694 - val_loss: 1.0317 - val_acc: 0.5000\n",
            "Epoch 20/200\n",
            "9/9 [>>>>>>>>>>>>>>>>>>>>>>>>>>>>>>] 0.0839s - loss: 0.7072 - acc: 0.7014 - val_loss: 0.8055 - val_acc: 0.6076\n",
            "Epoch 30/200\n",
            "9/9 [>>>>>>>>>>>>>>>>>>>>>>>>>>>>>>] 0.0844s - loss: 0.5344 - acc: 0.7951 - val_loss: 0.6369 - val_acc: 0.6875\n",
            "Epoch 40/200\n",
            "9/9 [>>>>>>>>>>>>>>>>>>>>>>>>>>>>>>] 0.0829s - loss: 0.4951 - acc: 0.8160 - val_loss: 0.6635 - val_acc: 0.7014\n",
            "Epoch 50/200\n",
            "9/9 [>>>>>>>>>>>>>>>>>>>>>>>>>>>>>>] 0.0804s - loss: 0.4380 - acc: 0.8264 - val_loss: 0.6763 - val_acc: 0.7153\n",
            "Epoch 60/200\n",
            "9/9 [>>>>>>>>>>>>>>>>>>>>>>>>>>>>>>] 0.0777s - loss: 0.3932 - acc: 0.8333 - val_loss: 0.6046 - val_acc: 0.7292\n",
            "Epoch 70/200\n",
            "9/9 [>>>>>>>>>>>>>>>>>>>>>>>>>>>>>>] 0.0765s - loss: 0.4171 - acc: 0.8438 - val_loss: 0.5632 - val_acc: 0.7292\n",
            "Epoch 80/200\n",
            "9/9 [>>>>>>>>>>>>>>>>>>>>>>>>>>>>>>] 0.0953s - loss: 0.2829 - acc: 0.8542 - val_loss: 0.6490 - val_acc: 0.7292\n",
            "Epoch 90/200\n",
            "9/9 [>>>>>>>>>>>>>>>>>>>>>>>>>>>>>>] 0.0818s - loss: 0.2588 - acc: 0.8819 - val_loss: 0.6415 - val_acc: 0.7535\n",
            "Epoch 100/200\n",
            "9/9 [>>>>>>>>>>>>>>>>>>>>>>>>>>>>>>] 0.0813s - loss: 0.2361 - acc: 0.8924 - val_loss: 0.6354 - val_acc: 0.7361\n",
            "Epoch 110/200\n",
            "9/9 [>>>>>>>>>>>>>>>>>>>>>>>>>>>>>>] 0.0789s - loss: 0.2792 - acc: 0.8889 - val_loss: 0.6451 - val_acc: 0.7396\n",
            "Epoch 120/200\n",
            "9/9 [>>>>>>>>>>>>>>>>>>>>>>>>>>>>>>] 0.0872s - loss: 0.2992 - acc: 0.8819 - val_loss: 0.4612 - val_acc: 0.7569\n",
            "Epoch 130/200\n",
            "9/9 [>>>>>>>>>>>>>>>>>>>>>>>>>>>>>>] 0.0957s - loss: 0.2597 - acc: 0.9097 - val_loss: 0.5927 - val_acc: 0.7639\n",
            "Epoch 140/200\n",
            "9/9 [>>>>>>>>>>>>>>>>>>>>>>>>>>>>>>] 0.0811s - loss: 0.2619 - acc: 0.8993 - val_loss: 0.6744 - val_acc: 0.7465\n",
            "Epoch 150/200\n",
            "9/9 [>>>>>>>>>>>>>>>>>>>>>>>>>>>>>>] 0.0794s - loss: 0.3401 - acc: 0.9132 - val_loss: 0.3156 - val_acc: 0.7604\n",
            "Epoch 160/200\n",
            "9/9 [>>>>>>>>>>>>>>>>>>>>>>>>>>>>>>] 0.0761s - loss: 0.2163 - acc: 0.9271 - val_loss: 0.5065 - val_acc: 0.7778\n",
            "Epoch 170/200\n",
            "9/9 [>>>>>>>>>>>>>>>>>>>>>>>>>>>>>>] 0.0883s - loss: 0.1757 - acc: 0.9410 - val_loss: 0.4502 - val_acc: 0.7708\n",
            "Epoch 180/200\n",
            "9/9 [>>>>>>>>>>>>>>>>>>>>>>>>>>>>>>] 0.0778s - loss: 0.1362 - acc: 0.9271 - val_loss: 0.7974 - val_acc: 0.7708\n",
            "Epoch 190/200\n",
            "9/9 [>>>>>>>>>>>>>>>>>>>>>>>>>>>>>>] 0.0876s - loss: 0.1912 - acc: 0.9340 - val_loss: 0.8257 - val_acc: 0.7743\n",
            "Epoch 200/200\n",
            "9/9 [>>>>>>>>>>>>>>>>>>>>>>>>>>>>>>] 0.0799s - loss: 0.1330 - acc: 0.9444 - val_loss: 0.5067 - val_acc: 0.7639\n"
          ],
          "name": "stdout"
        }
      ]
    },
    {
      "cell_type": "code",
      "metadata": {
        "colab": {
          "base_uri": "https://localhost:8080/"
        },
        "id": "MfO79LPQhaoM",
        "outputId": "ae83a335-2903-42cc-899b-c08afc4b0e04"
      },
      "source": [
        "sconnet = ShallowConvNet().to(device)\n",
        "model = Model(sconnet, lr=0.001)\n",
        "history = model.fit(trainloader=trainloader, validloader=testloader, epochs=200)"
      ],
      "execution_count": 70,
      "outputs": [
        {
          "output_type": "stream",
          "text": [
            "Epoch 1/200\n",
            "9/9 [>>>>>>>>>>>>>>>>>>>>>>>>>>>>>>] 0.3359s - loss: 1.3253 - acc: 0.3403 - val_loss: 1.9412 - val_acc: 0.3160\n",
            "Epoch 10/200\n",
            "9/9 [>>>>>>>>>>>>>>>>>>>>>>>>>>>>>>] 0.2158s - loss: 0.0649 - acc: 1.0000 - val_loss: 0.8544 - val_acc: 0.6354\n",
            "Epoch 20/200\n",
            "9/9 [>>>>>>>>>>>>>>>>>>>>>>>>>>>>>>] 0.2163s - loss: 0.0139 - acc: 1.0000 - val_loss: 1.1389 - val_acc: 0.6597\n",
            "Epoch 30/200\n",
            "9/9 [>>>>>>>>>>>>>>>>>>>>>>>>>>>>>>] 0.2177s - loss: 0.0060 - acc: 1.0000 - val_loss: 0.6506 - val_acc: 0.6840\n",
            "Epoch 40/200\n",
            "9/9 [>>>>>>>>>>>>>>>>>>>>>>>>>>>>>>] 0.2171s - loss: 0.0033 - acc: 1.0000 - val_loss: 0.5326 - val_acc: 0.6806\n",
            "Epoch 50/200\n",
            "9/9 [>>>>>>>>>>>>>>>>>>>>>>>>>>>>>>] 0.2175s - loss: 0.0023 - acc: 1.0000 - val_loss: 0.9470 - val_acc: 0.6771\n",
            "Epoch 60/200\n",
            "9/9 [>>>>>>>>>>>>>>>>>>>>>>>>>>>>>>] 0.2187s - loss: 0.0012 - acc: 1.0000 - val_loss: 0.7657 - val_acc: 0.6910\n",
            "Epoch 70/200\n",
            "9/9 [>>>>>>>>>>>>>>>>>>>>>>>>>>>>>>] 0.2201s - loss: 0.0012 - acc: 1.0000 - val_loss: 0.8277 - val_acc: 0.6771\n",
            "Epoch 80/200\n",
            "9/9 [>>>>>>>>>>>>>>>>>>>>>>>>>>>>>>] 0.2184s - loss: 0.0013 - acc: 1.0000 - val_loss: 0.6917 - val_acc: 0.7083\n",
            "Epoch 90/200\n",
            "9/9 [>>>>>>>>>>>>>>>>>>>>>>>>>>>>>>] 0.2221s - loss: 0.0007 - acc: 1.0000 - val_loss: 0.9465 - val_acc: 0.6806\n",
            "Epoch 100/200\n",
            "9/9 [>>>>>>>>>>>>>>>>>>>>>>>>>>>>>>] 0.2202s - loss: 0.0012 - acc: 1.0000 - val_loss: 0.8854 - val_acc: 0.6667\n",
            "Epoch 110/200\n",
            "9/9 [>>>>>>>>>>>>>>>>>>>>>>>>>>>>>>] 0.2222s - loss: 0.0004 - acc: 1.0000 - val_loss: 0.7396 - val_acc: 0.6840\n",
            "Epoch 120/200\n",
            "9/9 [>>>>>>>>>>>>>>>>>>>>>>>>>>>>>>] 0.2250s - loss: 0.0004 - acc: 1.0000 - val_loss: 0.6552 - val_acc: 0.6944\n",
            "Epoch 130/200\n",
            "9/9 [>>>>>>>>>>>>>>>>>>>>>>>>>>>>>>] 0.2236s - loss: 0.0003 - acc: 1.0000 - val_loss: 0.7966 - val_acc: 0.6875\n",
            "Epoch 140/200\n",
            "9/9 [>>>>>>>>>>>>>>>>>>>>>>>>>>>>>>] 0.2246s - loss: 0.0002 - acc: 1.0000 - val_loss: 0.7788 - val_acc: 0.7049\n",
            "Epoch 150/200\n",
            "9/9 [>>>>>>>>>>>>>>>>>>>>>>>>>>>>>>] 0.2273s - loss: 0.0004 - acc: 1.0000 - val_loss: 0.9885 - val_acc: 0.6840\n",
            "Epoch 160/200\n",
            "9/9 [>>>>>>>>>>>>>>>>>>>>>>>>>>>>>>] 0.2260s - loss: 0.0002 - acc: 1.0000 - val_loss: 0.7649 - val_acc: 0.6944\n",
            "Epoch 170/200\n",
            "9/9 [>>>>>>>>>>>>>>>>>>>>>>>>>>>>>>] 0.2268s - loss: 0.0002 - acc: 1.0000 - val_loss: 0.7177 - val_acc: 0.7049\n",
            "Epoch 180/200\n",
            "9/9 [>>>>>>>>>>>>>>>>>>>>>>>>>>>>>>] 0.2278s - loss: 0.0002 - acc: 1.0000 - val_loss: 0.4749 - val_acc: 0.7153\n",
            "Epoch 190/200\n",
            "9/9 [>>>>>>>>>>>>>>>>>>>>>>>>>>>>>>] 0.2268s - loss: 0.0001 - acc: 1.0000 - val_loss: 0.5683 - val_acc: 0.6771\n",
            "Epoch 200/200\n",
            "9/9 [>>>>>>>>>>>>>>>>>>>>>>>>>>>>>>] 0.2279s - loss: 0.0001 - acc: 1.0000 - val_loss: 1.1248 - val_acc: 0.7014\n"
          ],
          "name": "stdout"
        }
      ]
    },
    {
      "cell_type": "code",
      "metadata": {
        "colab": {
          "base_uri": "https://localhost:8080/",
          "height": 314
        },
        "id": "xXYWpvykISLI",
        "outputId": "62ff7790-62a9-4f3f-8ee2-3cd125564264"
      },
      "source": [
        "eva_train = model.evaluate(dataloader=trainloader)\n",
        "print(f\"Train Accuracy: {eva_train[1]:.4f}\\tTrain Loss: {eva_train[0]:.4f}\")\n",
        "eva_test = model.evaluate(dataloader=testloader)\n",
        "print(f\"Test Accuracy: {eva_test[1]:.4f}\\tTest Loss: {eva_test[0]:.4f}\")\n",
        "\n",
        "plt.figure(figsize = (10, 4))\n",
        "plt.subplot(1, 2, 1)\n",
        "plt.title(\"Acc\")\n",
        "plt.plot(history[\"acc\"], color=\"red\")\n",
        "plt.plot(history[\"val_acc\"], color=\"blue\")\n",
        "plt.subplot(1, 2, 2)\n",
        "plt.title(\"Loss\")\n",
        "plt.plot(history[\"loss\"], color=\"red\")\n",
        "plt.plot(history[\"val_loss\"], color=\"blue\")\n",
        "plt.show()\n",
        "\n",
        "pred = model.predict(dataloader=testloader)"
      ],
      "execution_count": 71,
      "outputs": [
        {
          "output_type": "stream",
          "text": [
            "Train Accuracy: 1.0000\tTrain Loss: 0.0001\n",
            "Test Accuracy: 0.7014\tTest Loss: 0.8779\n"
          ],
          "name": "stdout"
        },
        {
          "output_type": "display_data",
          "data": {
            "image/png": "[encoded data removed]",
            "text/plain": [
              "<Figure size 720x288 with 2 Axes>"
            ]
          },
          "metadata": {
            "tags": [],
            "needs_background": "light"
          }
        }
      ]
    },
    {
      "cell_type": "code",
      "metadata": {
        "colab": {
          "base_uri": "https://localhost:8080/"
        },
        "id": "yLF6tUZlmU74",
        "outputId": "5e01f719-ca7a-43ac-ef56-35c193157716"
      },
      "source": [
        "print(pred)\n",
        "print(y_test)"
      ],
      "execution_count": 64,
      "outputs": [
        {
          "output_type": "stream",
          "text": [
            "[1. 3. 2. 1. 2. 1. 3. 3. 1. 3. 2. 0. 3. 2. 1. 2. 0. 3. 0. 3. 3. 0. 2. 1.\n",
            " 0. 3. 1. 0. 0. 1. 1. 1. 3. 2. 0. 1. 0. 2. 1. 3. 1. 0. 2. 1. 2. 0. 0. 1.\n",
            " 3. 0. 2. 2. 2. 2. 3. 3. 2. 2. 2. 0. 3. 0. 0. 3. 1. 1. 1. 0. 2. 0. 0. 3.\n",
            " 3. 0. 3. 0. 2. 3. 3. 0. 3. 1. 0. 3. 3. 0. 3. 2. 0. 3. 1. 0. 3. 0. 2. 2.\n",
            " 0. 3. 1. 2. 0. 1. 1. 1. 2. 0. 3. 0. 1. 0. 1. 3. 2. 2. 0. 2. 1. 3. 1. 1.\n",
            " 3. 0. 0. 3. 1. 2. 0. 1. 3. 3. 1. 3. 3. 0. 3. 3. 3. 3. 3. 1. 2. 1. 0. 3.\n",
            " 0. 1. 0. 0. 2. 3. 2. 2. 3. 0. 3. 2. 3. 2. 0. 2. 2. 3. 0. 0. 3. 1. 3. 3.\n",
            " 3. 2. 1. 2. 3. 0. 3. 3. 0. 1. 0. 0. 2. 0. 1. 2. 0. 3. 0. 1. 0. 1. 3. 2.\n",
            " 1. 1. 3. 3. 2. 0. 1. 2. 0. 3. 2. 0. 0. 2. 2. 0. 1. 0. 3. 1. 0. 0. 3. 3.\n",
            " 0. 3. 1. 3. 0. 0. 0. 1. 2. 0. 2. 3. 1. 3. 3. 1. 3. 2. 1. 2. 1. 2. 1. 0.\n",
            " 3. 2. 3. 3. 3. 1. 1. 0. 2. 0. 0. 2. 2. 1. 3. 0. 0. 0. 1. 3. 2. 3. 3. 0.\n",
            " 3. 0. 3. 3. 0. 3. 1. 2. 0. 0. 3. 1. 0. 3. 2. 3. 2. 0. 0. 1. 0. 2. 0. 3.]\n",
            "tensor([0, 1, 1, 0, 1, 0, 1, 2, 1, 3, 0, 2, 1, 0, 3, 3, 3, 3, 3, 0, 2, 1, 0, 0,\n",
            "        2, 3, 0, 2, 2, 2, 0, 1, 0, 1, 1, 0, 1, 2, 1, 2, 2, 3, 2, 2, 3, 3, 3, 3,\n",
            "        3, 2, 1, 0, 0, 1, 2, 3, 1, 2, 0, 0, 0, 3, 1, 1, 0, 0, 2, 0, 1, 3, 3, 2,\n",
            "        0, 3, 3, 1, 3, 3, 1, 0, 1, 2, 2, 2, 3, 2, 0, 3, 1, 2, 1, 2, 3, 1, 2, 0,\n",
            "        0, 0, 3, 1, 0, 2, 0, 2, 1, 3, 0, 2, 2, 0, 2, 1, 3, 3, 3, 2, 0, 3, 1, 3,\n",
            "        1, 0, 2, 1, 0, 2, 2, 0, 2, 3, 3, 1, 0, 1, 3, 1, 3, 2, 1, 1, 1, 2, 3, 0,\n",
            "        1, 3, 0, 2, 2, 3, 0, 0, 2, 1, 3, 3, 3, 1, 0, 2, 1, 3, 0, 3, 2, 1, 3, 3,\n",
            "        0, 1, 1, 2, 3, 1, 0, 0, 3, 1, 0, 2, 1, 1, 2, 0, 3, 2, 2, 2, 2, 0, 1, 0,\n",
            "        1, 0, 0, 2, 2, 1, 2, 3, 0, 3, 0, 0, 1, 3, 2, 1, 3, 2, 3, 2, 3, 1, 1, 3,\n",
            "        0, 1, 1, 1, 2, 3, 0, 3, 0, 2, 0, 3, 0, 2, 0, 1, 2, 2, 3, 0, 1, 3, 1, 2,\n",
            "        2, 0, 3, 1, 3, 0, 0, 2, 2, 1, 3, 1, 1, 0, 1, 3, 3, 1, 1, 1, 1, 3, 3, 2,\n",
            "        3, 0, 1, 2, 1, 0, 3, 0, 3, 0, 0, 0, 0, 2, 2, 3, 1, 2, 2, 2, 3, 2, 0, 2])\n"
          ],
          "name": "stdout"
        }
      ]
    },
    {
      "cell_type": "markdown",
      "metadata": {
        "id": "XTCYiI_QI084"
      },
      "source": [
        "ref"
      ]
    },
    {
      "cell_type": "code",
      "metadata": {
        "id": "YNHGkN8UZgA2"
      },
      "source": [
        "device = torch.device(\"cuda\" if torch.cuda.is_available() else \"cpu\")\n",
        "model = SCCNet().to(device)\n",
        "summary(model, (1, 22, 562))\n",
        "cmp = Tensor().numpy() == np.array()\n",
        "cmp.all()"
      ],
      "execution_count": null,
      "outputs": []
    }
  ]
}