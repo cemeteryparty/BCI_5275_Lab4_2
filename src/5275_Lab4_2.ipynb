{
  "nbformat": 4,
  "nbformat_minor": 0,
  "metadata": {
    "colab": {
      "name": "5275_Lab4_2.ipynb",
      "provenance": [],
      "collapsed_sections": [],
      "toc_visible": true
    },
    "kernelspec": {
      "name": "python3",
      "display_name": "Python 3"
    },
    "language_info": {
      "name": "python"
    },
    "accelerator": "GPU"
  },
  "cells": [
    {
      "cell_type": "code",
      "metadata": {
        "id": "8dLUI5Hg-oXz",
        "colab": {
          "base_uri": "https://localhost:8080/"
        },
        "outputId": "515b4f81-070c-4d2e-c8f1-c2c021869391"
      },
      "source": [
        "#!ls -al /content/drive/MyDrive/lab4\n",
        "!nvidia-smi"
      ],
      "execution_count": 1,
      "outputs": [
        {
          "output_type": "stream",
          "text": [
            "Wed May 19 09:51:11 2021       \n",
            "+-----------------------------------------------------------------------------+\n",
            "| NVIDIA-SMI 465.19.01    Driver Version: 460.32.03    CUDA Version: 11.2     |\n",
            "|-------------------------------+----------------------+----------------------+\n",
            "| GPU  Name        Persistence-M| Bus-Id        Disp.A | Volatile Uncorr. ECC |\n",
            "| Fan  Temp  Perf  Pwr:Usage/Cap|         Memory-Usage | GPU-Util  Compute M. |\n",
            "|                               |                      |               MIG M. |\n",
            "|===============================+======================+======================|\n",
            "|   0  Tesla T4            Off  | 00000000:00:04.0 Off |                    0 |\n",
            "| N/A   46C    P8    10W /  70W |      0MiB / 15109MiB |      0%      Default |\n",
            "|                               |                      |                  N/A |\n",
            "+-------------------------------+----------------------+----------------------+\n",
            "                                                                               \n",
            "+-----------------------------------------------------------------------------+\n",
            "| Processes:                                                                  |\n",
            "|  GPU   GI   CI        PID   Type   Process name                  GPU Memory |\n",
            "|        ID   ID                                                   Usage      |\n",
            "|=============================================================================|\n",
            "|  No running processes found                                                 |\n",
            "+-----------------------------------------------------------------------------+\n"
          ],
          "name": "stdout"
        }
      ]
    },
    {
      "cell_type": "code",
      "metadata": {
        "id": "NGvhNc-R77KO"
      },
      "source": [
        "import torch\n",
        "import torch.nn as nn\n",
        "import torch.optim as optim\n",
        "import torch.nn.functional as F\n",
        "from torch.utils.data import DataLoader\n",
        "from torch.utils.data import TensorDataset\n",
        "from torchsummary import summary\n",
        "\n",
        "from matplotlib import pyplot as plt\n",
        "from scipy.io import loadmat\n",
        "import math, sys, os, time\n",
        "import pandas as pd\n",
        "import numpy as np\n",
        "\n",
        "DATASET_DIR = \"/content/drive/MyDrive/AE-4-EEG-Artifact-Removal/BCICIV2a/\"\n",
        "BASE_DIR = \"/content/drive/MyDrive/lab4/\"\n",
        "device = torch.device(\"cuda\" if torch.cuda.is_available() else \"cpu\")\n",
        "# torch shape: (batch_size, chan (depth), h, w)"
      ],
      "execution_count": 1,
      "outputs": []
    },
    {
      "cell_type": "markdown",
      "metadata": {
        "id": "hwpKJGxi21Nv"
      },
      "source": [
        "# EEG-model"
      ]
    },
    {
      "cell_type": "code",
      "metadata": {
        "id": "ucxAR2cT8yFz"
      },
      "source": [
        "class EEGNet(nn.Module):\n",
        "    def __init__(self):\n",
        "        super(EEGNet, self).__init__()\n",
        "\n",
        "        self.F1 = 8\n",
        "        self.F2 = 16\n",
        "        self.D = 2\n",
        "\n",
        "        self.conv1 = nn.Sequential(\n",
        "            nn.Conv2d(1, self.F1, (1, 64), padding=(0, 32), bias=False),\n",
        "            nn.BatchNorm2d(self.F1)\n",
        "        )\n",
        "\n",
        "        self.conv2 = nn.Sequential(\n",
        "            nn.Conv2d(self.F1, self.D*self.F1, (22, 1), groups=self.F1, bias=False),\n",
        "            nn.BatchNorm2d(self.D*self.F1),\n",
        "            nn.ELU(),\n",
        "            nn.AvgPool2d((1, 4)),\n",
        "            nn.Dropout(0.5)\n",
        "        )\n",
        "\n",
        "        self.Conv3 = nn.Sequential(\n",
        "            nn.Conv2d(self.D*self.F1, self.D*self.F1, (1, 16), padding=(0, 8), groups=self.D*self.F1, bias=False),\n",
        "            nn.Conv2d(self.D*self.F1, self.F2, (1, 1), bias=False),\n",
        "            nn.BatchNorm2d(self.F2),\n",
        "            nn.ELU(),\n",
        "            nn.AvgPool2d((1, 8)),\n",
        "            nn.Dropout(0.5)\n",
        "        )\n",
        "\n",
        "        self.classifier = nn.Linear(16*17, 4, bias=True)\n",
        "        #self.softmax = nn.Softmax()\n",
        "\n",
        "    def forward(self, x):\n",
        "        x = self.conv1(x)\n",
        "        x = self.conv2(x)\n",
        "        x = self.Conv3(x)\n",
        "        \n",
        "        x = x.view(-1, 16*17)\n",
        "        x = self.classifier(x)\n",
        "        #x = self.softmax(x)\n",
        "        return x"
      ],
      "execution_count": 2,
      "outputs": []
    },
    {
      "cell_type": "code",
      "metadata": {
        "id": "J3tl_gY69J50"
      },
      "source": [
        "class ShallowConvNet(nn.Module):\n",
        "    def __init__(self):\n",
        "        super(ShallowConvNet, self).__init__()\n",
        "\n",
        "        self.conv1 = nn.Conv2d(1, 40, (1, 13), bias=False)\n",
        "        self.conv2 = nn.Conv2d(40, 40, (22, 1), bias=False)\n",
        "        self.Bn1   = nn.BatchNorm2d(40)\n",
        "        # self.SquareLayer = square_layer()\n",
        "        self.AvgPool1 = nn.AvgPool2d((1, 35), stride=(1, 7))\n",
        "        # self.LogLayer = Log_layer()\n",
        "        self.Drop1 = nn.Dropout(0.25)\n",
        "        self.classifier = nn.Linear(40*74, 4, bias=True)\n",
        "        #self.softmax = nn.Softmax()\n",
        "\n",
        "    def forward(self, x):\n",
        "        x = self.conv1(x)\n",
        "        x = self.conv2(x)\n",
        "        x = self.Bn1(x)\n",
        "        x = x ** 2\n",
        "        x = self.AvgPool1(x)\n",
        "        x = torch.log(x)\n",
        "        x = self.Drop1(x)\n",
        "        x = x.view(-1, 40*74)\n",
        "        x = self.classifier(x)\n",
        "\n",
        "        #x = self.softmax(x)\n",
        "        return x"
      ],
      "execution_count": 3,
      "outputs": []
    },
    {
      "cell_type": "code",
      "metadata": {
        "id": "GVO_wSNW9MaK"
      },
      "source": [
        "class SCCNet(nn.Module):\n",
        "    def __init__(self):\n",
        "        super(SCCNet, self).__init__()\n",
        "        # bs, 1, channel, sample\n",
        "        self.conv1 = nn.Conv2d(1, 22, (22, 1))\n",
        "        self.Bn1 = nn.BatchNorm2d(22)\n",
        "        # bs, 22, 1, sample\n",
        "        self.conv2 = nn.Conv2d(22, 20, (1, 12), padding=(0, 6))\n",
        "        self.Bn2   = nn.BatchNorm2d(20)\n",
        "        # self.SquareLayer = square_layer()\n",
        "        self.Drop1 = nn.Dropout(0.5)\n",
        "        self.AvgPool1 = nn.AvgPool2d((1, 62), stride=(1, 12))\n",
        "        self.classifier = nn.Linear(840, 4, bias=True)\n",
        "        #self.softmax = nn.Softmax()\n",
        "\n",
        "    def forward(self, x):\n",
        "        x = self.conv1(x)\n",
        "        x = self.Bn1(x)\n",
        "        x = self.conv2(x)\n",
        "        x = self.Bn2(x)\n",
        "        x = x ** 2\n",
        "        x = self.Drop1(x)\n",
        "        x = self.AvgPool1(x)\n",
        "        x = torch.log(x)\n",
        "        x = x.view(-1, 840)\n",
        "        x = self.classifier(x)\n",
        "\n",
        "        #x = self.softmax(x)\n",
        "        return x"
      ],
      "execution_count": 4,
      "outputs": []
    },
    {
      "cell_type": "code",
      "metadata": {
        "id": "UyFvsxUJ9PCU"
      },
      "source": [
        "class TSception(nn.Module):\n",
        "    def conv_block(self, in_chan, out_chan, kernel, step, pool):\n",
        "        return nn.Sequential(\n",
        "            nn.Conv2d(in_channels=in_chan, out_channels=out_chan,\n",
        "                      kernel_size=kernel, stride=step, padding=0),\n",
        "            nn.LeakyReLU(),\n",
        "            nn.AvgPool2d(kernel_size=(1, pool), stride=(1, pool)))\n",
        "\n",
        "    def __init__(self, num_classes, input_size, sampling_rate, num_T, num_S, hidden, dropout_rate):\n",
        "        # input_size: 1 x EEG channel x datapoint\n",
        "        super(TSception, self).__init__()\n",
        "        self.inception_window = [0.5, 0.25, 0.125]\n",
        "        self.pool = 8\n",
        "        # by setting the convolutional kernel being (1,lenght) and the strids being 1 we can use conv2d to\n",
        "        # achieve the 1d convolution operation\n",
        "        self.Tception1 = self.conv_block(1, num_T, (1, int(self.inception_window[0] * sampling_rate)), 1, self.pool)\n",
        "        self.Tception2 = self.conv_block(1, num_T, (1, int(self.inception_window[1] * sampling_rate)), 1, self.pool)\n",
        "        self.Tception3 = self.conv_block(1, num_T, (1, int(self.inception_window[2] * sampling_rate)), 1, self.pool)\n",
        "\n",
        "        self.Sception1 = self.conv_block(num_T, num_S, (int(input_size[1]), 1), 1, int(self.pool*0.25))\n",
        "        self.Sception2 = self.conv_block(num_T, num_S, (int(input_size[1] * 0.5), 1), (int(input_size[1] * 0.5), 1),\n",
        "                                         int(self.pool*0.25))\n",
        "        self.fusion_layer = self.conv_block(num_S, num_S, (3, 1), 1, 2)\n",
        "        self.BN_t = nn.BatchNorm2d(num_T)\n",
        "        self.BN_s = nn.BatchNorm2d(num_S)\n",
        "        self.BN_fusion = nn.BatchNorm2d(num_S)\n",
        "\n",
        "        size = self.get_size(input_size)\n",
        "        self.fc = nn.Sequential(\n",
        "            nn.Linear(size[1], hidden),\n",
        "            nn.ReLU(),\n",
        "            nn.Dropout(dropout_rate),\n",
        "            nn.Linear(hidden, num_classes),\n",
        "            nn.LogSoftmax(dim=1)\n",
        "        )\n",
        "\n",
        "    def forward(self, x):\n",
        "        y = self.Tception1(x)\n",
        "        out = y\n",
        "        y = self.Tception2(x)\n",
        "        out = torch.cat((out, y), dim=-1)\n",
        "        y = self.Tception3(x)\n",
        "        out = torch.cat((out, y), dim=-1)\n",
        "        out = self.BN_t(out)\n",
        "        z = self.Sception1(out)\n",
        "        out_ = z\n",
        "        z = self.Sception2(out)\n",
        "        out_ = torch.cat((out_, z), dim=2)\n",
        "\n",
        "        out = self.BN_s(out_)\n",
        "        out = self.fusion_layer(out)\n",
        "        out = self.BN_fusion(out)\n",
        "        out = out.view(out.size()[0], -1)\n",
        "        out = self.fc(out)\n",
        "        return out\n",
        "\n",
        "    def get_size(self, input_size):\n",
        "        # here we use an array with the shape being\n",
        "        # (1(mini-batch),1(convolutional channel),EEG channel,time data point)\n",
        "        # to simulate the input data and get the output size\n",
        "        data = torch.ones((1, input_size[0], input_size[1], int(input_size[2])))\n",
        "        y = self.Tception1(data)\n",
        "        out = y\n",
        "        y = self.Tception2(data)\n",
        "        out = torch.cat((out, y), dim=-1)\n",
        "        y = self.Tception3(data)\n",
        "        out = torch.cat((out, y), dim=-1)\n",
        "        out = self.BN_t(out)\n",
        "        z = self.Sception1(out)\n",
        "        out_final = z\n",
        "        z = self.Sception2(out)\n",
        "        out_final = torch.cat((out_final, z), dim=2)\n",
        "        out = self.BN_s(out_final)\n",
        "        out = self.fusion_layer(out)\n",
        "        out = self.BN_fusion(out)\n",
        "        out = out.view(out.size()[0], -1)\n",
        "        return out.size()"
      ],
      "execution_count": 5,
      "outputs": []
    },
    {
      "cell_type": "markdown",
      "metadata": {
        "id": "okuzp4K7H4L-"
      },
      "source": [
        "# Model Utilities & some function"
      ]
    },
    {
      "cell_type": "code",
      "metadata": {
        "id": "xD01PDKmv2zz"
      },
      "source": [
        "class Model(object):\n",
        "    def __init__(self, model=None, lr=0.001):\n",
        "        super(Model, self).__init__()\n",
        "        self.model = model\n",
        "        self.losses = nn.CrossEntropyLoss()\n",
        "        self.optimizer = optim.Adam(model.parameters(), lr=lr)\n",
        "    def fit(self, trainloader=None, validloader=None, epochs=1, monitor=None, verbose=1):\n",
        "        doValid = False if validloader == None else True\n",
        "        pre_ck_point = [float(\"inf\"), 0.0, float(\"inf\"), 0.0, 0] # loss, acc, val_loss, val_acc, epoch\n",
        "        history = {\"loss\": [], \"acc\": [], \"val_loss\": [], \"val_acc\": []}\n",
        "        for ep in range(1, epochs + 1):\n",
        "            proc_start = time.time() # timer start\n",
        "            if ((not (ep % 10)) or (ep == 1)) and verbose != 0:\n",
        "                print(f\"Epoch {ep}/{epochs}\")\n",
        "            self.model.train()\n",
        "            step = 1\n",
        "            for x_batch, y_batch in trainloader:\n",
        "                x_batch, y_batch = x_batch.to(device, dtype=torch.float), y_batch.to(device)\n",
        "                pred = self.model(x_batch)\n",
        "                loss = self.losses(pred, y_batch)\n",
        "                loss.backward()\n",
        "                self.optimizer.step()\n",
        "                self.optimizer.zero_grad()\n",
        "\n",
        "                if ((not (ep % 10)) or (ep == 1)) and verbose != 0:\n",
        "                    pbar = int(step * 30 / len(trainloader))\n",
        "                    print(\"\\r{}/{} [{}{}]\".format(\n",
        "                        step, len(trainloader), \">\" * pbar, \" \" * (30 - pbar)), \n",
        "                        end=\"\")\n",
        "                step += 1\n",
        "            # evaluate\n",
        "            loss, acc = self.evaluate(trainloader)\n",
        "            val_loss, val_acc = self.evaluate(validloader) if doValid else (0, 0)\n",
        "            history[\"loss\"] = np.append(history[\"loss\"], loss)\n",
        "            history[\"acc\"] = np.append(history[\"acc\"], acc)\n",
        "            history[\"val_loss\"] = np.append(history[\"val_loss\"], val_loss)\n",
        "            history[\"val_acc\"] = np.append(history[\"val_acc\"], val_acc)\n",
        "            # dump message\n",
        "            if ((not (ep % 10)) or (ep == 1)) and verbose != 0:\n",
        "                print(\" {:.4f}s - loss: {:.4f} - acc: {:.4f} - val_loss: {:.4f} - val_acc: {:.4f}\".format(\n",
        "                    time.time()-proc_start, history[\"loss\"][-1], \n",
        "                    history[\"acc\"][-1], history[\"val_loss\"][-1], history[\"val_acc\"][-1])\n",
        "                )\n",
        "            # model check point\n",
        "            if self.__updateCheckpoint(monitor, pre_ck_point, [loss, acc, val_loss, val_acc, ep]):\n",
        "                if not os.path.exists(\"./model\"):\n",
        "                    os.mkdir(\"./model\")\n",
        "                model_name = f\"model/checkpoint_model_ep-{ep}.pt\"\n",
        "                self.save(model_name)\n",
        "                history[\"lastest_model_path\"] = model_name\n",
        "                pre_ck_point = [loss, acc, val_loss, val_acc, ep]\n",
        "        return history\n",
        "    def evaluate(self, dataloader):\n",
        "        total, acc = 0, 0\n",
        "        self.model.eval()\n",
        "        for x_batch, y_batch in dataloader:\n",
        "            x_batch, y_batch = x_batch.to(device, dtype=torch.float), y_batch.to(device)\n",
        "            pred = self.model(x_batch)\n",
        "            loss = self.losses(pred, y_batch).item()\n",
        "            total += y_batch.shape[0]\n",
        "            acc += (torch.sum(pred.argmax(dim=1)==y_batch)).item()\n",
        "        acc /= total\n",
        "\n",
        "        return (loss, acc)\n",
        "    def predict(self, dataset, batch_size=128):\n",
        "        dataloader = DataLoader(dataset=dataset, batch_size=batch_size, shuffle=False)\n",
        "        prediction = []\n",
        "        self.model.eval()\n",
        "        for x_batch, y_batch in dataloader:\n",
        "            x_batch, y_batch = x_batch.to(device, dtype=torch.float), y_batch.to(device)\n",
        "            pred = self.model(x_batch).cpu()\n",
        "            prediction = np.append(prediction, pred.argmax(dim=1).numpy())\n",
        "        return prediction.astype(\"uint8\")\n",
        "    def save(self, filepath):\n",
        "        torch.save(self.model, filepath)\n",
        "    @classmethod\n",
        "    def load(cls, filepath):\n",
        "        return cls(torch.load(filepath))\n",
        "    def __updateCheckpoint(self, monitor, pre_ck_point, evaluation):\n",
        "        if type(monitor) is int:\n",
        "            return True if evaluation[4] % monitor == 0 else False\n",
        "        elif type(monitor) is list:\n",
        "            for _ in monitor:\n",
        "                if not _ in [\"loss\", \"acc\", \"val_loss\", \"val_acc\"]:\n",
        "                    raise Exception(f\"\\\"{_}\\\" is not a valid monitor condition.\")\n",
        "                elif _ == \"loss\" and pre_ck_point[0] < evaluation[0]:\n",
        "                    return False # present epoch loss > history loss\n",
        "                elif _ == \"acc\" and pre_ck_point[1] > evaluation[1]:\n",
        "                    return False # present epoch acc < history acc\n",
        "                elif _ == \"val_loss\" and pre_ck_point[2] < evaluation[2]:\n",
        "                    return False # present epoch val_loss > history val_loss\n",
        "                elif _ == \"val_acc\" and pre_ck_point[3] > evaluation[3]:\n",
        "                    return False # present epoch val_acc < history val_acc        \n",
        "        return True"
      ],
      "execution_count": 6,
      "outputs": []
    },
    {
      "cell_type": "code",
      "metadata": {
        "id": "qRslzEk_unxN"
      },
      "source": [
        "def plot_confusion_matrix(conf_matrix, title=\"Confusion Matrix\"):\n",
        "    plt.figure(figsize=(10, 10))\n",
        "    plt.imshow(conf_matrix, interpolation=\"nearest\", cmap=plt.cm.Blues)\n",
        "    plt.title(title)\n",
        "    plt.colorbar()\n",
        "    plt.xticks([0,1,2,3], [0,1,2,3], rotation=45)\n",
        "    plt.yticks([0,1,2,3], [0,1,2,3])\n",
        "\n",
        "    thresh = conf_matrix.max() / 2.\n",
        "    for i in range(4):\n",
        "        for j in range(4):\n",
        "            plt.text(j, i, format(conf_matrix[i, j], \"d\"), \n",
        "                horizontalalignment=\"center\", color=\"white\" if conf_matrix[i, j] > thresh else \"black\")\n",
        "\n",
        "    plt.tight_layout()\n",
        "    plt.ylabel(\"Real label\")\n",
        "    plt.xlabel(\"Pred label\")\n",
        "    plt.show()"
      ],
      "execution_count": 7,
      "outputs": []
    },
    {
      "cell_type": "markdown",
      "metadata": {
        "id": "rP1nxpOF5QNZ"
      },
      "source": [
        "#Part 1"
      ]
    },
    {
      "cell_type": "markdown",
      "metadata": {
        "id": "e9Wyzb68Z3_7"
      },
      "source": [
        "## Problem 1"
      ]
    },
    {
      "cell_type": "code",
      "metadata": {
        "id": "kJd93WR55PXS"
      },
      "source": [
        "BATCH_SIZE = 32\n",
        "Learning_Rate = 0.001\n",
        "EPOCHS = 500"
      ],
      "execution_count": null,
      "outputs": []
    },
    {
      "cell_type": "code",
      "metadata": {
        "id": "o7rgfaiJ-LQU"
      },
      "source": [
        "train_raw = loadmat(DATASET_DIR + \"BCIC_S01_T.mat\")\n",
        "test_raw = loadmat(DATASET_DIR + \"BCIC_S01_E.mat\")\n",
        "trX, trY, teX, teY = train_raw[\"x_train\"], train_raw[\"y_train\"], test_raw[\"x_test\"], test_raw[\"y_test\"]"
      ],
      "execution_count": null,
      "outputs": []
    },
    {
      "cell_type": "code",
      "metadata": {
        "colab": {
          "base_uri": "https://localhost:8080/"
        },
        "id": "-tqCpBDxUY1i",
        "outputId": "d7d18ddd-0549-454a-c2bc-934565dbb967"
      },
      "source": [
        "x_train = torch.from_numpy(np.expand_dims(trX, axis=1))\n",
        "y_train = torch.from_numpy(np.reshape(trY, (trY.size, ))).long()\n",
        "x_test = torch.from_numpy(np.expand_dims(teX, axis=1))\n",
        "y_test = torch.from_numpy(np.reshape(teY, (teY.size, ))).long()\n",
        "\n",
        "print(x_train.shape, y_train.shape)\n",
        "print(x_test.shape, y_test.shape)\n",
        "trainset, testset = TensorDataset(x_train, y_train), TensorDataset(x_test, y_test)\n",
        "\n",
        "\"\"\" create dataloader \"\"\"\n",
        "trainloader = DataLoader(dataset=trainset, batch_size=BATCH_SIZE, shuffle=True)\n",
        "testloader = DataLoader(dataset=testset, batch_size=BATCH_SIZE, shuffle=True)"
      ],
      "execution_count": null,
      "outputs": [
        {
          "output_type": "stream",
          "text": [
            "torch.Size([288, 1, 22, 562]) torch.Size([288])\n",
            "torch.Size([288, 1, 22, 562]) torch.Size([288])\n"
          ],
          "name": "stdout"
        }
      ]
    },
    {
      "cell_type": "code",
      "metadata": {
        "colab": {
          "base_uri": "https://localhost:8080/",
          "height": 1000
        },
        "id": "ivZTvIlyG_0a",
        "outputId": "5c7647a4-0ebc-44bc-ae7b-379683c46d1a"
      },
      "source": [
        "eegnet = EEGNet().to(device)\n",
        "#summary(eegnet, (1, 22, 562))\n",
        "model = Model(eegnet, lr=Learning_Rate)\n",
        "# save checkpoint model when both trainset and validset get new max acc\n",
        "history = model.fit(trainloader=trainloader, validloader=testloader, epochs=EPOCHS, monitor=[\"acc\", \"val_acc\"])\n",
        "\n",
        "plt.figure(figsize = (10, 4))\n",
        "plt.subplot(1, 2, 1)\n",
        "plt.title(\"Acc\")\n",
        "plt.plot(history[\"acc\"], color=\"red\")\n",
        "plt.plot(history[\"val_acc\"], color=\"blue\")\n",
        "plt.subplot(1, 2, 2)\n",
        "plt.title(\"Loss\")\n",
        "plt.plot(history[\"loss\"], color=\"red\")\n",
        "plt.plot(history[\"val_loss\"], color=\"blue\")\n",
        "plt.show()"
      ],
      "execution_count": null,
      "outputs": [
        {
          "output_type": "stream",
          "text": [
            "Epoch 1/500\n",
            "9/9 [>>>>>>>>>>>>>>>>>>>>>>>>>>>>>>] 0.2119s - loss: 1.3791 - acc: 0.2812 - val_loss: 1.3910 - val_acc: 0.2500\n",
            "Epoch 10/500\n",
            "9/9 [>>>>>>>>>>>>>>>>>>>>>>>>>>>>>>] 0.2036s - loss: 0.9965 - acc: 0.5799 - val_loss: 1.0180 - val_acc: 0.4757\n",
            "Epoch 20/500\n",
            "9/9 [>>>>>>>>>>>>>>>>>>>>>>>>>>>>>>] 0.2027s - loss: 0.7497 - acc: 0.6840 - val_loss: 0.9513 - val_acc: 0.5660\n",
            "Epoch 30/500\n",
            "9/9 [>>>>>>>>>>>>>>>>>>>>>>>>>>>>>>] 0.2123s - loss: 0.6505 - acc: 0.7535 - val_loss: 0.7895 - val_acc: 0.6319\n",
            "Epoch 40/500\n",
            "9/9 [>>>>>>>>>>>>>>>>>>>>>>>>>>>>>>] 0.1955s - loss: 0.6266 - acc: 0.8160 - val_loss: 0.7247 - val_acc: 0.6667\n",
            "Epoch 50/500\n",
            "9/9 [>>>>>>>>>>>>>>>>>>>>>>>>>>>>>>] 0.1968s - loss: 0.3396 - acc: 0.8472 - val_loss: 0.5205 - val_acc: 0.6806\n",
            "Epoch 60/500\n",
            "9/9 [>>>>>>>>>>>>>>>>>>>>>>>>>>>>>>] 0.2068s - loss: 0.3886 - acc: 0.8715 - val_loss: 0.4691 - val_acc: 0.7292\n",
            "Epoch 70/500\n",
            "9/9 [>>>>>>>>>>>>>>>>>>>>>>>>>>>>>>] 0.2025s - loss: 0.3164 - acc: 0.8785 - val_loss: 0.5561 - val_acc: 0.7361\n",
            "Epoch 80/500\n",
            "9/9 [>>>>>>>>>>>>>>>>>>>>>>>>>>>>>>] 0.1978s - loss: 0.2588 - acc: 0.8819 - val_loss: 0.6558 - val_acc: 0.6944\n",
            "Epoch 90/500\n",
            "9/9 [>>>>>>>>>>>>>>>>>>>>>>>>>>>>>>] 0.1995s - loss: 0.3152 - acc: 0.9028 - val_loss: 0.5344 - val_acc: 0.7326\n",
            "Epoch 100/500\n",
            "9/9 [>>>>>>>>>>>>>>>>>>>>>>>>>>>>>>] 0.2003s - loss: 0.2731 - acc: 0.9132 - val_loss: 0.5912 - val_acc: 0.7153\n",
            "Epoch 110/500\n",
            "9/9 [>>>>>>>>>>>>>>>>>>>>>>>>>>>>>>] 0.2055s - loss: 0.2634 - acc: 0.9410 - val_loss: 0.4875 - val_acc: 0.7431\n",
            "Epoch 120/500\n",
            "9/9 [>>>>>>>>>>>>>>>>>>>>>>>>>>>>>>] 0.2055s - loss: 0.1964 - acc: 0.9375 - val_loss: 0.4676 - val_acc: 0.7500\n",
            "Epoch 130/500\n",
            "9/9 [>>>>>>>>>>>>>>>>>>>>>>>>>>>>>>] 0.1925s - loss: 0.1889 - acc: 0.9514 - val_loss: 0.6059 - val_acc: 0.7743\n",
            "Epoch 140/500\n",
            "9/9 [>>>>>>>>>>>>>>>>>>>>>>>>>>>>>>] 0.1969s - loss: 0.1961 - acc: 0.9549 - val_loss: 0.4747 - val_acc: 0.7847\n",
            "Epoch 150/500\n",
            "9/9 [>>>>>>>>>>>>>>>>>>>>>>>>>>>>>>] 0.1896s - loss: 0.2982 - acc: 0.9444 - val_loss: 0.6443 - val_acc: 0.7778\n",
            "Epoch 160/500\n",
            "9/9 [>>>>>>>>>>>>>>>>>>>>>>>>>>>>>>] 0.2057s - loss: 0.1522 - acc: 0.9688 - val_loss: 0.5752 - val_acc: 0.7882\n",
            "Epoch 170/500\n",
            "9/9 [>>>>>>>>>>>>>>>>>>>>>>>>>>>>>>] 0.1985s - loss: 0.0454 - acc: 0.9826 - val_loss: 0.3584 - val_acc: 0.7882\n",
            "Epoch 180/500\n",
            "9/9 [>>>>>>>>>>>>>>>>>>>>>>>>>>>>>>] 0.1978s - loss: 0.1076 - acc: 0.9792 - val_loss: 0.5410 - val_acc: 0.7882\n",
            "Epoch 190/500\n",
            "9/9 [>>>>>>>>>>>>>>>>>>>>>>>>>>>>>>] 0.1993s - loss: 0.0903 - acc: 0.9931 - val_loss: 0.8936 - val_acc: 0.7674\n",
            "Epoch 200/500\n",
            "9/9 [>>>>>>>>>>>>>>>>>>>>>>>>>>>>>>] 0.1978s - loss: 0.1472 - acc: 0.9826 - val_loss: 0.8061 - val_acc: 0.7500\n",
            "Epoch 210/500\n",
            "9/9 [>>>>>>>>>>>>>>>>>>>>>>>>>>>>>>] 0.1962s - loss: 0.0850 - acc: 0.9965 - val_loss: 0.4899 - val_acc: 0.8090\n",
            "Epoch 220/500\n",
            "9/9 [>>>>>>>>>>>>>>>>>>>>>>>>>>>>>>] 0.1991s - loss: 0.0514 - acc: 0.9896 - val_loss: 0.4390 - val_acc: 0.7743\n",
            "Epoch 230/500\n",
            "9/9 [>>>>>>>>>>>>>>>>>>>>>>>>>>>>>>] 0.2117s - loss: 0.0295 - acc: 0.9931 - val_loss: 0.3520 - val_acc: 0.7778\n",
            "Epoch 240/500\n",
            "9/9 [>>>>>>>>>>>>>>>>>>>>>>>>>>>>>>] 0.1977s - loss: 0.0954 - acc: 1.0000 - val_loss: 0.5193 - val_acc: 0.7951\n",
            "Epoch 250/500\n",
            "9/9 [>>>>>>>>>>>>>>>>>>>>>>>>>>>>>>] 0.2085s - loss: 0.0436 - acc: 0.9826 - val_loss: 0.3984 - val_acc: 0.8021\n",
            "Epoch 260/500\n",
            "9/9 [>>>>>>>>>>>>>>>>>>>>>>>>>>>>>>] 0.2204s - loss: 0.0458 - acc: 0.9861 - val_loss: 0.4257 - val_acc: 0.7951\n",
            "Epoch 270/500\n",
            "9/9 [>>>>>>>>>>>>>>>>>>>>>>>>>>>>>>] 0.2048s - loss: 0.0327 - acc: 0.9965 - val_loss: 0.3153 - val_acc: 0.8056\n",
            "Epoch 280/500\n",
            "9/9 [>>>>>>>>>>>>>>>>>>>>>>>>>>>>>>] 0.2157s - loss: 0.0367 - acc: 1.0000 - val_loss: 0.7853 - val_acc: 0.8056\n",
            "Epoch 290/500\n",
            "9/9 [>>>>>>>>>>>>>>>>>>>>>>>>>>>>>>] 0.2125s - loss: 0.0335 - acc: 1.0000 - val_loss: 0.5669 - val_acc: 0.7882\n",
            "Epoch 300/500\n",
            "9/9 [>>>>>>>>>>>>>>>>>>>>>>>>>>>>>>] 0.2014s - loss: 0.0447 - acc: 1.0000 - val_loss: 0.3770 - val_acc: 0.7917\n",
            "Epoch 310/500\n",
            "9/9 [>>>>>>>>>>>>>>>>>>>>>>>>>>>>>>] 0.1957s - loss: 0.0401 - acc: 0.9965 - val_loss: 0.8474 - val_acc: 0.7743\n",
            "Epoch 320/500\n",
            "9/9 [>>>>>>>>>>>>>>>>>>>>>>>>>>>>>>] 0.1946s - loss: 0.0413 - acc: 1.0000 - val_loss: 0.4410 - val_acc: 0.7951\n",
            "Epoch 330/500\n",
            "9/9 [>>>>>>>>>>>>>>>>>>>>>>>>>>>>>>] 0.2034s - loss: 0.0606 - acc: 0.9896 - val_loss: 0.5568 - val_acc: 0.7708\n",
            "Epoch 340/500\n",
            "9/9 [>>>>>>>>>>>>>>>>>>>>>>>>>>>>>>] 0.2003s - loss: 0.0219 - acc: 1.0000 - val_loss: 1.0800 - val_acc: 0.7812\n",
            "Epoch 350/500\n",
            "9/9 [>>>>>>>>>>>>>>>>>>>>>>>>>>>>>>] 0.2034s - loss: 0.0368 - acc: 1.0000 - val_loss: 0.2683 - val_acc: 0.7743\n",
            "Epoch 360/500\n",
            "9/9 [>>>>>>>>>>>>>>>>>>>>>>>>>>>>>>] 0.2083s - loss: 0.0250 - acc: 1.0000 - val_loss: 0.6012 - val_acc: 0.7847\n",
            "Epoch 370/500\n",
            "9/9 [>>>>>>>>>>>>>>>>>>>>>>>>>>>>>>] 0.2089s - loss: 0.0144 - acc: 1.0000 - val_loss: 0.5476 - val_acc: 0.7986\n",
            "Epoch 380/500\n",
            "9/9 [>>>>>>>>>>>>>>>>>>>>>>>>>>>>>>] 0.2090s - loss: 0.0161 - acc: 1.0000 - val_loss: 0.6062 - val_acc: 0.7847\n",
            "Epoch 390/500\n",
            "9/9 [>>>>>>>>>>>>>>>>>>>>>>>>>>>>>>] 0.2001s - loss: 0.0203 - acc: 1.0000 - val_loss: 0.5635 - val_acc: 0.7917\n",
            "Epoch 400/500\n",
            "9/9 [>>>>>>>>>>>>>>>>>>>>>>>>>>>>>>] 0.2051s - loss: 0.0153 - acc: 1.0000 - val_loss: 0.1785 - val_acc: 0.7986\n",
            "Epoch 410/500\n",
            "9/9 [>>>>>>>>>>>>>>>>>>>>>>>>>>>>>>] 0.1968s - loss: 0.0188 - acc: 1.0000 - val_loss: 0.4675 - val_acc: 0.7639\n",
            "Epoch 420/500\n",
            "9/9 [>>>>>>>>>>>>>>>>>>>>>>>>>>>>>>] 0.2060s - loss: 0.0140 - acc: 1.0000 - val_loss: 0.3860 - val_acc: 0.8090\n",
            "Epoch 430/500\n",
            "9/9 [>>>>>>>>>>>>>>>>>>>>>>>>>>>>>>] 0.1970s - loss: 0.0124 - acc: 1.0000 - val_loss: 0.7825 - val_acc: 0.7917\n",
            "Epoch 440/500\n",
            "9/9 [>>>>>>>>>>>>>>>>>>>>>>>>>>>>>>] 0.2153s - loss: 0.0411 - acc: 1.0000 - val_loss: 0.6267 - val_acc: 0.8021\n",
            "Epoch 450/500\n",
            "9/9 [>>>>>>>>>>>>>>>>>>>>>>>>>>>>>>] 0.2052s - loss: 0.0172 - acc: 1.0000 - val_loss: 0.5783 - val_acc: 0.8021\n",
            "Epoch 460/500\n",
            "9/9 [>>>>>>>>>>>>>>>>>>>>>>>>>>>>>>] 0.1986s - loss: 0.0102 - acc: 1.0000 - val_loss: 0.2608 - val_acc: 0.8021\n",
            "Epoch 470/500\n",
            "9/9 [>>>>>>>>>>>>>>>>>>>>>>>>>>>>>>] 0.2122s - loss: 0.0281 - acc: 0.9931 - val_loss: 0.6554 - val_acc: 0.7812\n",
            "Epoch 480/500\n",
            "9/9 [>>>>>>>>>>>>>>>>>>>>>>>>>>>>>>] 0.1952s - loss: 0.0186 - acc: 0.9965 - val_loss: 0.4840 - val_acc: 0.7882\n",
            "Epoch 490/500\n",
            "9/9 [>>>>>>>>>>>>>>>>>>>>>>>>>>>>>>] 0.1954s - loss: 0.0099 - acc: 1.0000 - val_loss: 0.2707 - val_acc: 0.7882\n",
            "Epoch 500/500\n",
            "9/9 [>>>>>>>>>>>>>>>>>>>>>>>>>>>>>>] 0.1919s - loss: 0.0083 - acc: 1.0000 - val_loss: 0.5489 - val_acc: 0.8090\n"
          ],
          "name": "stdout"
        },
        {
          "output_type": "display_data",
          "data": {
            "image/png": "[encoded data removed]",
            "text/plain": [
              "<Figure size 720x288 with 2 Axes>"
            ]
          },
          "metadata": {
            "tags": [],
            "needs_background": "light"
          }
        }
      ]
    },
    {
      "cell_type": "markdown",
      "metadata": {
        "id": "Ju_0dIrmdpPK"
      },
      "source": [
        "### (a)"
      ]
    },
    {
      "cell_type": "code",
      "metadata": {
        "colab": {
          "base_uri": "https://localhost:8080/"
        },
        "id": "atUZyoi1WFqN",
        "outputId": "86636f3b-8336-4672-9a49-260383b0db53"
      },
      "source": [
        "# load model\n",
        "ld_model = Model.load(history[\"lastest_model_path\"])\n",
        "eva_train = ld_model.evaluate(dataloader=trainloader)\n",
        "print(f\"Train Accuracy: {eva_train[1]:.4f}\\tTrain Loss: {eva_train[0]:.4f}\")\n",
        "eva_test = ld_model.evaluate(dataloader=testloader)\n",
        "print(f\"Test Accuracy: {eva_test[1]:.4f}\\tTest Loss: {eva_test[0]:.4f}\")"
      ],
      "execution_count": null,
      "outputs": [
        {
          "output_type": "stream",
          "text": [
            "Train Accuracy: 1.0000\tTrain Loss: 0.0111\n",
            "Test Accuracy: 0.8160\tTest Loss: 1.2120\n"
          ],
          "name": "stdout"
        }
      ]
    },
    {
      "cell_type": "markdown",
      "metadata": {
        "id": "tXg9peWcoLF0"
      },
      "source": [
        "### (b)"
      ]
    },
    {
      "cell_type": "code",
      "metadata": {
        "id": "yLF6tUZlmU74"
      },
      "source": [
        "rec_train = {\"total\": [0, 0, 0, 0], \"hit\": [0, 0, 0, 0]}\n",
        "rec_test = {\"total\": [0, 0, 0, 0], \"hit\": [0, 0, 0, 0]}\n",
        "# confusion matrix in (c)\n",
        "conf_matrix_train = np.zeros(shape=(4, 4), dtype=\"uint8\")\n",
        "conf_matrix_test = np.zeros(shape=(4, 4), dtype=\"uint8\")\n",
        "\n",
        "real_train = trY.reshape(trY.size)\n",
        "real_test = teY.reshape(teY.size)\n",
        "pred_train = ld_model.predict(dataset=trainset)\n",
        "pred_test = ld_model.predict(dataset=testset)\n",
        "\n",
        "for i in range(288):\n",
        "    rec_train[\"total\"][real_train[i]] += 1\n",
        "    rec_train[\"hit\"][real_train[i]] += (1 if real_train[i] == pred_train[i] else 0)\n",
        "    rec_test[\"total\"][real_test[i]] += 1\n",
        "    rec_test[\"hit\"][real_test[i]] += (1 if real_test[i] == pred_test[i] else 0)\n",
        "\n",
        "    conf_matrix_train[real_train[i]][pred_train[i]] += 1\n",
        "    conf_matrix_test[real_test[i]][pred_test[i]] += 1"
      ],
      "execution_count": null,
      "outputs": []
    },
    {
      "cell_type": "code",
      "metadata": {
        "colab": {
          "base_uri": "https://localhost:8080/"
        },
        "id": "He-EeArbfbtJ",
        "outputId": "7fe4e153-1ba3-452e-d439-9324e0a5aef6"
      },
      "source": [
        "for i in range(4):\n",
        "    print(\"Train accuracy of class-{}: {}\".format(i, rec_train[\"hit\"][i] / rec_train[\"total\"][i]))\n",
        "print()\n",
        "for i in range(4):\n",
        "    print(\"Test accuracy of class-{}: {}\".format(i, rec_test[\"hit\"][i] / rec_test[\"total\"][i]))"
      ],
      "execution_count": null,
      "outputs": [
        {
          "output_type": "stream",
          "text": [
            "Train accuracy of class-0: 1.0\n",
            "Train accuracy of class-1: 1.0\n",
            "Train accuracy of class-2: 1.0\n",
            "Train accuracy of class-3: 1.0\n",
            "\n",
            "Test accuracy of class-0: 0.8194444444444444\n",
            "Test accuracy of class-1: 0.9861111111111112\n",
            "Test accuracy of class-2: 0.7638888888888888\n",
            "Test accuracy of class-3: 0.6944444444444444\n"
          ],
          "name": "stdout"
        }
      ]
    },
    {
      "cell_type": "markdown",
      "metadata": {
        "id": "msSuMry7o6eM"
      },
      "source": [
        "### (c)"
      ]
    },
    {
      "cell_type": "code",
      "metadata": {
        "colab": {
          "base_uri": "https://localhost:8080/",
          "height": 729
        },
        "id": "x0dxH5VBqWVU",
        "outputId": "1794ecd7-c4c2-462a-db62-6d886bca5ea4"
      },
      "source": [
        "#print(conf_matrix_train)\n",
        "plot_confusion_matrix(conf_matrix_train, \"Train Confusion Matrix\")"
      ],
      "execution_count": null,
      "outputs": [
        {
          "output_type": "display_data",
          "data": {
            "image/png": "[encoded data removed]",
            "text/plain": [
              "<Figure size 720x720 with 2 Axes>"
            ]
          },
          "metadata": {
            "tags": [],
            "needs_background": "light"
          }
        }
      ]
    },
    {
      "cell_type": "code",
      "metadata": {
        "colab": {
          "base_uri": "https://localhost:8080/",
          "height": 729
        },
        "id": "MjNjACgFsi7E",
        "outputId": "f1e3e705-1d59-4c74-ce4f-3afd2c75130c"
      },
      "source": [
        "#print(conf_matrix_test)\n",
        "plot_confusion_matrix(conf_matrix_test, \"Test Confusion Matrix\")"
      ],
      "execution_count": null,
      "outputs": [
        {
          "output_type": "display_data",
          "data": {
            "image/png": "[encoded data removed]",
            "text/plain": [
              "<Figure size 720x720 with 2 Axes>"
            ]
          },
          "metadata": {
            "tags": [],
            "needs_background": "light"
          }
        }
      ]
    },
    {
      "cell_type": "markdown",
      "metadata": {
        "id": "7_v0iyGb2ra1"
      },
      "source": [
        "## Problem 2"
      ]
    },
    {
      "cell_type": "code",
      "metadata": {
        "id": "QVF-a2wANmCA"
      },
      "source": [
        "train_raw = loadmat(DATASET_DIR + \"BCIC_S01_T.mat\")\n",
        "test_raw = loadmat(DATASET_DIR + \"BCIC_S01_E.mat\")\n",
        "trX, trY, teX, teY = train_raw[\"x_train\"], train_raw[\"y_train\"], test_raw[\"x_test\"], test_raw[\"y_test\"]\n",
        "x_train = torch.from_numpy(np.expand_dims(trX, axis=1))\n",
        "y_train = torch.from_numpy(np.reshape(trY, (trY.size, ))).long()\n",
        "x_test = torch.from_numpy(np.expand_dims(teX, axis=1))\n",
        "y_test = torch.from_numpy(np.reshape(teY, (teY.size, ))).long()\n",
        "trainset, testset = TensorDataset(x_train, y_train), TensorDataset(x_test, y_test)"
      ],
      "execution_count": 11,
      "outputs": []
    },
    {
      "cell_type": "code",
      "metadata": {
        "id": "W5QFUo-V2tqd",
        "colab": {
          "base_uri": "https://localhost:8080/"
        },
        "outputId": "26ceb560-d881-4beb-e1d2-827ce911a744"
      },
      "source": [
        "eegnet = EEGNet().to(device)\n",
        "#ld_models = {}\n",
        "for lr in [0.003, 0.001, 0.0003, 0.0001]:\n",
        "    #best_models = {}\n",
        "    for bs in [64, 32, 8, 2]:\n",
        "        print(f\"Process at learninr rate: {lr}, batch size: {bs}\")\n",
        "        trainloader = DataLoader(dataset=trainset, batch_size=bs, shuffle=True)\n",
        "        testloader = DataLoader(dataset=testset, batch_size=bs, shuffle=True)\n",
        "        model = Model(eegnet, lr=lr)\n",
        "        history = model.fit(trainloader=trainloader, validloader=testloader, \n",
        "            epochs=500, monitor=[\"acc\", \"val_acc\"], verbose=0)\n",
        "        best_model = Model.load(history[\"lastest_model_path\"])\n",
        "        best_model.save(f\"/content/drive/MyDrive/lab4/model/bs-{bs}_lr-{lr}_model.pt\")\n",
        "        #best_models[bs] = Model.load(history[\"lastest_model_path\"])\n",
        "    #ld_models[lr] = best_models"
      ],
      "execution_count": null,
      "outputs": [
        {
          "output_type": "stream",
          "text": [
            "Process at learninr rate: 0.003, batch size: 64\n",
            "Process at learninr rate: 0.003, batch size: 32\n",
            "Process at learninr rate: 0.003, batch size: 8\n",
            "Process at learninr rate: 0.003, batch size: 2\n",
            "Process at learninr rate: 0.001, batch size: 64\n",
            "Process at learninr rate: 0.001, batch size: 32\n",
            "Process at learninr rate: 0.001, batch size: 8\n",
            "Process at learninr rate: 0.001, batch size: 2\n",
            "Process at learninr rate: 0.0003, batch size: 64\n",
            "Process at learninr rate: 0.0003, batch size: 32\n",
            "Process at learninr rate: 0.0003, batch size: 8\n",
            "Process at learninr rate: 0.0003, batch size: 2\n",
            "Process at learninr rate: 0.0001, batch size: 64\n",
            "Process at learninr rate: 0.0001, batch size: 32\n",
            "Process at learninr rate: 0.0001, batch size: 8\n",
            "Process at learninr rate: 0.0001, batch size: 2\n"
          ],
          "name": "stdout"
        }
      ]
    },
    {
      "cell_type": "code",
      "metadata": {
        "id": "rtPLm8jdcL1l",
        "colab": {
          "base_uri": "https://localhost:8080/"
        },
        "outputId": "3402cf1c-152a-469f-f340-f96abe65183a"
      },
      "source": [
        "for lr in [0.003, 0.001, 0.0003, 0.0001]:\n",
        "    for bs in [64, 32, 8, 2]:\n",
        "        ld_model = Model.load(f\"/content/drive/MyDrive/lab4/model/bs-{bs}_lr-{lr}_model.pt\")\n",
        "        testloader = DataLoader(dataset=testset, batch_size=bs, shuffle=True)\n",
        "        eva_test = ld_model.evaluate(dataloader=testloader)\n",
        "        print(f\"Test Accuracy of lr={lr}, batch_size={bs}: {eva_test[1]:.4f}\")"
      ],
      "execution_count": 12,
      "outputs": [
        {
          "output_type": "stream",
          "text": [
            "Test Accuracy of lr=0.003, batch_size=64: 0.8507\n",
            "Test Accuracy of lr=0.003, batch_size=32: 0.8472\n",
            "Test Accuracy of lr=0.003, batch_size=8: 0.8507\n",
            "Test Accuracy of lr=0.003, batch_size=2: 0.7951\n",
            "Test Accuracy of lr=0.001, batch_size=64: 0.8194\n",
            "Test Accuracy of lr=0.001, batch_size=32: 0.8403\n",
            "Test Accuracy of lr=0.001, batch_size=8: 0.8507\n",
            "Test Accuracy of lr=0.001, batch_size=2: 0.8229\n",
            "Test Accuracy of lr=0.0003, batch_size=64: 0.8194\n",
            "Test Accuracy of lr=0.0003, batch_size=32: 0.8333\n",
            "Test Accuracy of lr=0.0003, batch_size=8: 0.8438\n",
            "Test Accuracy of lr=0.0003, batch_size=2: 0.8368\n",
            "Test Accuracy of lr=0.0001, batch_size=64: 0.8194\n",
            "Test Accuracy of lr=0.0001, batch_size=32: 0.8194\n",
            "Test Accuracy of lr=0.0001, batch_size=8: 0.8264\n",
            "Test Accuracy of lr=0.0001, batch_size=2: 0.8368\n"
          ],
          "name": "stdout"
        }
      ]
    },
    {
      "cell_type": "markdown",
      "metadata": {
        "id": "jnK4n4tboz_u"
      },
      "source": [
        "## Problem 3"
      ]
    },
    {
      "cell_type": "code",
      "metadata": {
        "id": "jtIsmXLVo8lE"
      },
      "source": [
        "train_raw_set = [loadmat(DATASET_DIR + f\"BCIC_S0{i}_T.mat\") for i in range(1, 10)]\n",
        "test_raw_set = [loadmat(DATASET_DIR + f\"BCIC_S0{i}_E.mat\") for i in range(1, 10)]\n",
        "\n",
        "eegnet = EEGNet().to(device)"
      ],
      "execution_count": 9,
      "outputs": []
    },
    {
      "cell_type": "markdown",
      "metadata": {
        "id": "96AYU2neo57M"
      },
      "source": [
        "### SI"
      ]
    },
    {
      "cell_type": "code",
      "metadata": {
        "id": "nkNO8CYxowqn"
      },
      "source": [
        "trX, trY = np.empty((0, 22, 562)), np.empty((0, 1))\n",
        "teX, teY = test_raw_set[0][\"x_test\"], test_raw_set[0][\"y_test\"]\n",
        "for i in range(1, 9):\n",
        "    trX = np.vstack([trX, train_raw_set[i][\"x_train\"]])\n",
        "    trX = np.vstack([trX, test_raw_set[i][\"x_test\"]])\n",
        "    trY = np.vstack([trY, train_raw_set[i][\"y_train\"]])\n",
        "    trY = np.vstack([trY, test_raw_set[i][\"y_test\"]])\n",
        "#print(trX.shape, trY.shape, teX.shape, teY.shape)\n",
        "x_train = torch.from_numpy(np.expand_dims(trX, axis=1))\n",
        "y_train = torch.from_numpy(np.reshape(trY, (trY.size, ))).long()\n",
        "x_test = torch.from_numpy(np.expand_dims(teX, axis=1))\n",
        "y_test = torch.from_numpy(np.reshape(teY, (teY.size, ))).long()\n",
        "trainset, testset = TensorDataset(x_train, y_train), TensorDataset(x_test, y_test)\n",
        "trainloader = DataLoader(dataset=trainset, batch_size=64, shuffle=True)\n",
        "testloader = DataLoader(dataset=testset, batch_size=64, shuffle=True)"
      ],
      "execution_count": 10,
      "outputs": []
    },
    {
      "cell_type": "code",
      "metadata": {
        "colab": {
          "base_uri": "https://localhost:8080/",
          "height": 1000
        },
        "id": "xvNdPygKBRwx",
        "outputId": "299206eb-f181-4007-9433-f515de9d6d7b"
      },
      "source": [
        "model = Model(eegnet, lr=0.001)\n",
        "# save checkpoint model when both trainset and validset get new max acc\n",
        "history = model.fit(trainloader=trainloader, validloader=testloader, epochs=500, monitor=[\"acc\", \"val_acc\"])\n",
        "\n",
        "plt.figure(figsize = (10, 4))\n",
        "plt.subplot(1, 2, 1)\n",
        "plt.title(\"Acc\")\n",
        "plt.plot(history[\"acc\"], color=\"red\")\n",
        "plt.plot(history[\"val_acc\"], color=\"blue\")\n",
        "plt.subplot(1, 2, 2)\n",
        "plt.title(\"Loss\")\n",
        "plt.plot(history[\"loss\"], color=\"red\")\n",
        "plt.plot(history[\"val_loss\"], color=\"blue\")\n",
        "plt.show()"
      ],
      "execution_count": 11,
      "outputs": [
        {
          "output_type": "stream",
          "text": [
            "Epoch 1/500\n",
            "72/72 [>>>>>>>>>>>>>>>>>>>>>>>>>>>>>>] 1.4395s - loss: 1.3653 - acc: 0.2928 - val_loss: 1.3802 - val_acc: 0.3646\n",
            "Epoch 10/500\n",
            "72/72 [>>>>>>>>>>>>>>>>>>>>>>>>>>>>>>] 1.0079s - loss: 1.1973 - acc: 0.5221 - val_loss: 0.9550 - val_acc: 0.7014\n",
            "Epoch 20/500\n",
            "72/72 [>>>>>>>>>>>>>>>>>>>>>>>>>>>>>>] 1.0072s - loss: 1.0742 - acc: 0.5512 - val_loss: 0.9671 - val_acc: 0.6458\n",
            "Epoch 30/500\n",
            "72/72 [>>>>>>>>>>>>>>>>>>>>>>>>>>>>>>] 1.0161s - loss: 0.9526 - acc: 0.5872 - val_loss: 0.8807 - val_acc: 0.6215\n",
            "Epoch 40/500\n",
            "72/72 [>>>>>>>>>>>>>>>>>>>>>>>>>>>>>>] 1.0210s - loss: 0.9227 - acc: 0.6061 - val_loss: 0.9498 - val_acc: 0.6111\n",
            "Epoch 50/500\n",
            "72/72 [>>>>>>>>>>>>>>>>>>>>>>>>>>>>>>] 1.0339s - loss: 0.9554 - acc: 0.6094 - val_loss: 0.7995 - val_acc: 0.6250\n",
            "Epoch 60/500\n",
            "72/72 [>>>>>>>>>>>>>>>>>>>>>>>>>>>>>>] 1.0340s - loss: 1.0056 - acc: 0.6170 - val_loss: 0.9289 - val_acc: 0.6215\n",
            "Epoch 70/500\n",
            "72/72 [>>>>>>>>>>>>>>>>>>>>>>>>>>>>>>] 1.0511s - loss: 0.8440 - acc: 0.6434 - val_loss: 0.9074 - val_acc: 0.6076\n",
            "Epoch 80/500\n",
            "72/72 [>>>>>>>>>>>>>>>>>>>>>>>>>>>>>>] 1.0431s - loss: 0.8541 - acc: 0.6330 - val_loss: 0.9184 - val_acc: 0.6007\n",
            "Epoch 90/500\n",
            "72/72 [>>>>>>>>>>>>>>>>>>>>>>>>>>>>>>] 1.0493s - loss: 0.8826 - acc: 0.6504 - val_loss: 0.8657 - val_acc: 0.6146\n",
            "Epoch 100/500\n",
            "72/72 [>>>>>>>>>>>>>>>>>>>>>>>>>>>>>>] 1.0727s - loss: 1.0468 - acc: 0.6441 - val_loss: 0.8496 - val_acc: 0.5972\n",
            "Epoch 110/500\n",
            "72/72 [>>>>>>>>>>>>>>>>>>>>>>>>>>>>>>] 1.0932s - loss: 0.8534 - acc: 0.6445 - val_loss: 0.8750 - val_acc: 0.5938\n",
            "Epoch 120/500\n",
            "72/72 [>>>>>>>>>>>>>>>>>>>>>>>>>>>>>>] 1.0815s - loss: 0.8605 - acc: 0.6619 - val_loss: 0.8020 - val_acc: 0.6250\n",
            "Epoch 130/500\n",
            "72/72 [>>>>>>>>>>>>>>>>>>>>>>>>>>>>>>] 1.0622s - loss: 0.8395 - acc: 0.6543 - val_loss: 0.8906 - val_acc: 0.6181\n",
            "Epoch 140/500\n",
            "72/72 [>>>>>>>>>>>>>>>>>>>>>>>>>>>>>>] 1.0767s - loss: 0.6844 - acc: 0.6740 - val_loss: 0.8253 - val_acc: 0.6111\n",
            "Epoch 150/500\n",
            "72/72 [>>>>>>>>>>>>>>>>>>>>>>>>>>>>>>] 1.0735s - loss: 0.7894 - acc: 0.6740 - val_loss: 0.9653 - val_acc: 0.5938\n",
            "Epoch 160/500\n",
            "72/72 [>>>>>>>>>>>>>>>>>>>>>>>>>>>>>>] 1.1102s - loss: 0.8215 - acc: 0.6569 - val_loss: 0.9445 - val_acc: 0.5556\n",
            "Epoch 170/500\n",
            "72/72 [>>>>>>>>>>>>>>>>>>>>>>>>>>>>>>] 1.0996s - loss: 0.8175 - acc: 0.6662 - val_loss: 1.0390 - val_acc: 0.5486\n",
            "Epoch 180/500\n",
            "72/72 [>>>>>>>>>>>>>>>>>>>>>>>>>>>>>>] 1.1109s - loss: 0.8890 - acc: 0.6691 - val_loss: 1.0181 - val_acc: 0.6042\n",
            "Epoch 190/500\n",
            "72/72 [>>>>>>>>>>>>>>>>>>>>>>>>>>>>>>] 1.1014s - loss: 0.8635 - acc: 0.6704 - val_loss: 0.9851 - val_acc: 0.6076\n",
            "Epoch 200/500\n",
            "72/72 [>>>>>>>>>>>>>>>>>>>>>>>>>>>>>>] 1.0914s - loss: 0.8210 - acc: 0.6762 - val_loss: 1.2231 - val_acc: 0.6076\n",
            "Epoch 210/500\n",
            "72/72 [>>>>>>>>>>>>>>>>>>>>>>>>>>>>>>] 1.0979s - loss: 0.9430 - acc: 0.6461 - val_loss: 0.9690 - val_acc: 0.5486\n",
            "Epoch 220/500\n",
            "72/72 [>>>>>>>>>>>>>>>>>>>>>>>>>>>>>>] 1.0858s - loss: 0.8453 - acc: 0.6766 - val_loss: 0.8131 - val_acc: 0.5764\n",
            "Epoch 230/500\n",
            "72/72 [>>>>>>>>>>>>>>>>>>>>>>>>>>>>>>] 1.0967s - loss: 0.9059 - acc: 0.6628 - val_loss: 1.1161 - val_acc: 0.6285\n",
            "Epoch 240/500\n",
            "72/72 [>>>>>>>>>>>>>>>>>>>>>>>>>>>>>>] 1.0901s - loss: 0.7278 - acc: 0.6589 - val_loss: 0.7019 - val_acc: 0.5451\n",
            "Epoch 250/500\n",
            "72/72 [>>>>>>>>>>>>>>>>>>>>>>>>>>>>>>] 1.0817s - loss: 0.7713 - acc: 0.6612 - val_loss: 1.0948 - val_acc: 0.5486\n",
            "Epoch 260/500\n",
            "72/72 [>>>>>>>>>>>>>>>>>>>>>>>>>>>>>>] 1.0873s - loss: 0.8364 - acc: 0.6671 - val_loss: 1.1325 - val_acc: 0.5521\n",
            "Epoch 270/500\n",
            "72/72 [>>>>>>>>>>>>>>>>>>>>>>>>>>>>>>] 1.1112s - loss: 0.8098 - acc: 0.6762 - val_loss: 1.0307 - val_acc: 0.5660\n",
            "Epoch 280/500\n",
            "72/72 [>>>>>>>>>>>>>>>>>>>>>>>>>>>>>>] 1.1018s - loss: 0.8554 - acc: 0.6812 - val_loss: 1.1349 - val_acc: 0.5868\n",
            "Epoch 290/500\n",
            "72/72 [>>>>>>>>>>>>>>>>>>>>>>>>>>>>>>] 1.0971s - loss: 0.8254 - acc: 0.6680 - val_loss: 1.0467 - val_acc: 0.5764\n",
            "Epoch 300/500\n",
            "72/72 [>>>>>>>>>>>>>>>>>>>>>>>>>>>>>>] 1.0940s - loss: 0.7480 - acc: 0.6879 - val_loss: 0.7765 - val_acc: 0.5764\n",
            "Epoch 310/500\n",
            "72/72 [>>>>>>>>>>>>>>>>>>>>>>>>>>>>>>] 1.0849s - loss: 0.8723 - acc: 0.6510 - val_loss: 1.0991 - val_acc: 0.5486\n",
            "Epoch 320/500\n",
            "72/72 [>>>>>>>>>>>>>>>>>>>>>>>>>>>>>>] 1.0660s - loss: 0.9351 - acc: 0.6721 - val_loss: 0.8165 - val_acc: 0.5833\n",
            "Epoch 330/500\n",
            "72/72 [>>>>>>>>>>>>>>>>>>>>>>>>>>>>>>] 1.0770s - loss: 0.9068 - acc: 0.6708 - val_loss: 0.8010 - val_acc: 0.5799\n",
            "Epoch 340/500\n",
            "72/72 [>>>>>>>>>>>>>>>>>>>>>>>>>>>>>>] 1.0646s - loss: 0.8800 - acc: 0.6840 - val_loss: 0.9963 - val_acc: 0.5660\n",
            "Epoch 350/500\n",
            "72/72 [>>>>>>>>>>>>>>>>>>>>>>>>>>>>>>] 1.0677s - loss: 0.9082 - acc: 0.6662 - val_loss: 0.8709 - val_acc: 0.5069\n",
            "Epoch 360/500\n",
            "72/72 [>>>>>>>>>>>>>>>>>>>>>>>>>>>>>>] 1.0767s - loss: 0.8748 - acc: 0.6771 - val_loss: 1.0799 - val_acc: 0.5521\n",
            "Epoch 370/500\n",
            "72/72 [>>>>>>>>>>>>>>>>>>>>>>>>>>>>>>] 1.0825s - loss: 0.7991 - acc: 0.6953 - val_loss: 1.4264 - val_acc: 0.5799\n",
            "Epoch 380/500\n",
            "72/72 [>>>>>>>>>>>>>>>>>>>>>>>>>>>>>>] 1.0667s - loss: 0.8446 - acc: 0.6766 - val_loss: 1.0956 - val_acc: 0.5417\n",
            "Epoch 390/500\n",
            "72/72 [>>>>>>>>>>>>>>>>>>>>>>>>>>>>>>] 1.0614s - loss: 0.9525 - acc: 0.6751 - val_loss: 1.0936 - val_acc: 0.5590\n",
            "Epoch 400/500\n",
            "72/72 [>>>>>>>>>>>>>>>>>>>>>>>>>>>>>>] 1.0728s - loss: 0.8090 - acc: 0.6819 - val_loss: 0.8904 - val_acc: 0.5382\n",
            "Epoch 410/500\n",
            "72/72 [>>>>>>>>>>>>>>>>>>>>>>>>>>>>>>] 1.0641s - loss: 0.7477 - acc: 0.6784 - val_loss: 1.1847 - val_acc: 0.5625\n",
            "Epoch 420/500\n",
            "72/72 [>>>>>>>>>>>>>>>>>>>>>>>>>>>>>>] 1.0578s - loss: 0.8025 - acc: 0.6814 - val_loss: 1.3281 - val_acc: 0.5417\n",
            "Epoch 430/500\n",
            "72/72 [>>>>>>>>>>>>>>>>>>>>>>>>>>>>>>] 1.0645s - loss: 0.9508 - acc: 0.6834 - val_loss: 1.2588 - val_acc: 0.5625\n",
            "Epoch 440/500\n",
            "72/72 [>>>>>>>>>>>>>>>>>>>>>>>>>>>>>>] 1.0682s - loss: 0.7620 - acc: 0.6931 - val_loss: 1.1668 - val_acc: 0.5729\n",
            "Epoch 450/500\n",
            "72/72 [>>>>>>>>>>>>>>>>>>>>>>>>>>>>>>] 1.0652s - loss: 0.8493 - acc: 0.6790 - val_loss: 1.1485 - val_acc: 0.5625\n",
            "Epoch 460/500\n",
            "72/72 [>>>>>>>>>>>>>>>>>>>>>>>>>>>>>>] 1.0565s - loss: 0.8946 - acc: 0.6693 - val_loss: 1.4320 - val_acc: 0.5174\n",
            "Epoch 470/500\n",
            "72/72 [>>>>>>>>>>>>>>>>>>>>>>>>>>>>>>] 1.0688s - loss: 0.8432 - acc: 0.6873 - val_loss: 1.3976 - val_acc: 0.5486\n",
            "Epoch 480/500\n",
            "72/72 [>>>>>>>>>>>>>>>>>>>>>>>>>>>>>>] 1.0590s - loss: 0.7688 - acc: 0.6673 - val_loss: 1.1378 - val_acc: 0.5521\n",
            "Epoch 490/500\n",
            "72/72 [>>>>>>>>>>>>>>>>>>>>>>>>>>>>>>] 1.0567s - loss: 0.9039 - acc: 0.6866 - val_loss: 0.7394 - val_acc: 0.5347\n",
            "Epoch 500/500\n",
            "72/72 [>>>>>>>>>>>>>>>>>>>>>>>>>>>>>>] 1.0770s - loss: 0.8658 - acc: 0.6619 - val_loss: 0.9985 - val_acc: 0.5312\n"
          ],
          "name": "stdout"
        },
        {
          "output_type": "display_data",
          "data": {
            "image/png": "[encoded data removed]",
            "text/plain": [
              "<Figure size 720x288 with 2 Axes>"
            ]
          },
          "metadata": {
            "tags": [],
            "needs_background": "light"
          }
        }
      ]
    },
    {
      "cell_type": "code",
      "metadata": {
        "colab": {
          "base_uri": "https://localhost:8080/",
          "height": 813
        },
        "id": "6QbxJml1Ex-s",
        "outputId": "820b2e7d-1f51-4690-a39e-97302bf2b663"
      },
      "source": [
        "# load model\n",
        "ld_model = Model.load(history[\"lastest_model_path\"])\n",
        "eva_test = ld_model.evaluate(dataloader=testloader)\n",
        "print(f\"Test Accuracy: {eva_test[1]:.4f}\\tTest Loss: {eva_test[0]:.4f}\")\n",
        "rec_test = {\"total\": [0, 0, 0, 0], \"hit\": [0, 0, 0, 0]}\n",
        "conf_matrix_test = np.zeros(shape=(4, 4), dtype=\"uint8\")\n",
        "\n",
        "real_test = teY.reshape(teY.size)\n",
        "pred_test = ld_model.predict(dataset=testset)\n",
        "for i in range(real_test.size):\n",
        "    rec_test[\"total\"][real_test[i]] += 1\n",
        "    rec_test[\"hit\"][real_test[i]] += (1 if real_test[i] == pred_test[i] else 0)\n",
        "    conf_matrix_test[real_test[i]][pred_test[i]] += 1\n",
        "for i in range(4):\n",
        "    print(\"Test accuracy of class-{}: {}\".format(i, rec_test[\"hit\"][i] / rec_test[\"total\"][i]))\n",
        "plot_confusion_matrix(conf_matrix_test, \"Test Confusion Matrix\")"
      ],
      "execution_count": 16,
      "outputs": [
        {
          "output_type": "stream",
          "text": [
            "Test Accuracy: 0.7014\tTest Loss: 0.9979\n",
            "Test accuracy of class-0: 0.875\n",
            "Test accuracy of class-1: 0.75\n",
            "Test accuracy of class-2: 0.4861111111111111\n",
            "Test accuracy of class-3: 0.6944444444444444\n"
          ],
          "name": "stdout"
        },
        {
          "output_type": "display_data",
          "data": {
            "image/png": "[encoded data removed]",
            "text/plain": [
              "<Figure size 720x720 with 2 Axes>"
            ]
          },
          "metadata": {
            "tags": [],
            "needs_background": "light"
          }
        }
      ]
    },
    {
      "cell_type": "markdown",
      "metadata": {
        "id": "I7oGuccvJufk"
      },
      "source": [
        "### SD"
      ]
    },
    {
      "cell_type": "code",
      "metadata": {
        "id": "cYXWDJo_JwFn"
      },
      "source": [
        "trX, trY = np.empty((0, 22, 562)), np.empty((0, 1))\n",
        "teX, teY = test_raw_set[0][\"x_test\"], test_raw_set[0][\"y_test\"]\n",
        "for i in range(1, 9):\n",
        "    trX = np.vstack([trX, train_raw_set[i][\"x_train\"]])\n",
        "    trX = np.vstack([trX, test_raw_set[i][\"x_test\"]])\n",
        "    trY = np.vstack([trY, train_raw_set[i][\"y_train\"]])\n",
        "    trY = np.vstack([trY, test_raw_set[i][\"y_test\"]])\n",
        "trX = np.vstack([trX, train_raw_set[0][\"x_train\"]])\n",
        "trY = np.vstack([trY, train_raw_set[0][\"y_train\"]])\n",
        "x_train = torch.from_numpy(np.expand_dims(trX, axis=1))\n",
        "y_train = torch.from_numpy(np.reshape(trY, (trY.size, ))).long()\n",
        "x_test = torch.from_numpy(np.expand_dims(teX, axis=1))\n",
        "y_test = torch.from_numpy(np.reshape(teY, (teY.size, ))).long()\n",
        "trainset, testset = TensorDataset(x_train, y_train), TensorDataset(x_test, y_test)\n",
        "trainloader = DataLoader(dataset=trainset, batch_size=64, shuffle=True)\n",
        "testloader = DataLoader(dataset=testset, batch_size=64, shuffle=True)"
      ],
      "execution_count": 10,
      "outputs": []
    },
    {
      "cell_type": "code",
      "metadata": {
        "colab": {
          "base_uri": "https://localhost:8080/",
          "height": 1000
        },
        "id": "_lqyeCjtfoH3",
        "outputId": "652b148d-ce54-4326-9a69-a4a43d1610e8"
      },
      "source": [
        "model = Model(eegnet, lr=0.001)\n",
        "# save checkpoint model when both trainset and validset get new max acc\n",
        "history = model.fit(trainloader=trainloader, validloader=testloader, epochs=500, monitor=[\"acc\", \"val_acc\"])\n",
        "\n",
        "plt.figure(figsize = (10, 4))\n",
        "plt.subplot(1, 2, 1)\n",
        "plt.title(\"Acc\")\n",
        "plt.plot(history[\"acc\"], color=\"red\")\n",
        "plt.plot(history[\"val_acc\"], color=\"blue\")\n",
        "plt.subplot(1, 2, 2)\n",
        "plt.title(\"Loss\")\n",
        "plt.plot(history[\"loss\"], color=\"red\")\n",
        "plt.plot(history[\"val_loss\"], color=\"blue\")\n",
        "plt.show()"
      ],
      "execution_count": 11,
      "outputs": [
        {
          "output_type": "stream",
          "text": [
            "Epoch 1/500\n",
            "77/77 [>>>>>>>>>>>>>>>>>>>>>>>>>>>>>>] 1.5495s - loss: 1.3612 - acc: 0.3170 - val_loss: 1.3515 - val_acc: 0.3229\n",
            "Epoch 10/500\n",
            "77/77 [>>>>>>>>>>>>>>>>>>>>>>>>>>>>>>] 1.0912s - loss: 1.1692 - acc: 0.5339 - val_loss: 0.8851 - val_acc: 0.6840\n",
            "Epoch 20/500\n",
            "77/77 [>>>>>>>>>>>>>>>>>>>>>>>>>>>>>>] 1.0782s - loss: 1.1196 - acc: 0.5576 - val_loss: 0.8170 - val_acc: 0.7118\n",
            "Epoch 30/500\n",
            "77/77 [>>>>>>>>>>>>>>>>>>>>>>>>>>>>>>] 1.1081s - loss: 1.0529 - acc: 0.5984 - val_loss: 0.7975 - val_acc: 0.6979\n",
            "Epoch 40/500\n",
            "77/77 [>>>>>>>>>>>>>>>>>>>>>>>>>>>>>>] 1.1112s - loss: 1.0295 - acc: 0.6127 - val_loss: 0.7855 - val_acc: 0.6840\n",
            "Epoch 50/500\n",
            "77/77 [>>>>>>>>>>>>>>>>>>>>>>>>>>>>>>] 1.1096s - loss: 1.0375 - acc: 0.6203 - val_loss: 0.7904 - val_acc: 0.6875\n",
            "Epoch 60/500\n",
            "77/77 [>>>>>>>>>>>>>>>>>>>>>>>>>>>>>>] 1.1010s - loss: 0.8377 - acc: 0.6174 - val_loss: 0.6726 - val_acc: 0.7188\n",
            "Epoch 70/500\n",
            "77/77 [>>>>>>>>>>>>>>>>>>>>>>>>>>>>>>] 1.1218s - loss: 0.7242 - acc: 0.6293 - val_loss: 0.6888 - val_acc: 0.7222\n",
            "Epoch 80/500\n",
            "77/77 [>>>>>>>>>>>>>>>>>>>>>>>>>>>>>>] 1.1025s - loss: 0.5985 - acc: 0.6360 - val_loss: 0.8150 - val_acc: 0.7257\n",
            "Epoch 90/500\n",
            "77/77 [>>>>>>>>>>>>>>>>>>>>>>>>>>>>>>] 1.1056s - loss: 0.8937 - acc: 0.6228 - val_loss: 0.7344 - val_acc: 0.7083\n",
            "Epoch 100/500\n",
            "77/77 [>>>>>>>>>>>>>>>>>>>>>>>>>>>>>>] 1.1120s - loss: 0.8254 - acc: 0.6528 - val_loss: 0.7025 - val_acc: 0.7465\n",
            "Epoch 110/500\n",
            "77/77 [>>>>>>>>>>>>>>>>>>>>>>>>>>>>>>] 1.1024s - loss: 0.9559 - acc: 0.6530 - val_loss: 0.6641 - val_acc: 0.7153\n",
            "Epoch 120/500\n",
            "77/77 [>>>>>>>>>>>>>>>>>>>>>>>>>>>>>>] 1.1074s - loss: 0.9163 - acc: 0.6232 - val_loss: 0.6725 - val_acc: 0.6944\n",
            "Epoch 130/500\n",
            "77/77 [>>>>>>>>>>>>>>>>>>>>>>>>>>>>>>] 1.0981s - loss: 0.9837 - acc: 0.6309 - val_loss: 0.7082 - val_acc: 0.7083\n",
            "Epoch 140/500\n",
            "77/77 [>>>>>>>>>>>>>>>>>>>>>>>>>>>>>>] 1.1069s - loss: 0.7646 - acc: 0.6516 - val_loss: 0.6894 - val_acc: 0.7188\n",
            "Epoch 150/500\n",
            "77/77 [>>>>>>>>>>>>>>>>>>>>>>>>>>>>>>] 1.0963s - loss: 0.8187 - acc: 0.6656 - val_loss: 0.6592 - val_acc: 0.7188\n",
            "Epoch 160/500\n",
            "77/77 [>>>>>>>>>>>>>>>>>>>>>>>>>>>>>>] 1.1284s - loss: 0.7578 - acc: 0.6513 - val_loss: 0.6017 - val_acc: 0.7118\n",
            "Epoch 170/500\n",
            "77/77 [>>>>>>>>>>>>>>>>>>>>>>>>>>>>>>] 1.1263s - loss: 1.0214 - acc: 0.6426 - val_loss: 0.6874 - val_acc: 0.7083\n",
            "Epoch 180/500\n",
            "77/77 [>>>>>>>>>>>>>>>>>>>>>>>>>>>>>>] 1.1309s - loss: 0.8221 - acc: 0.6630 - val_loss: 0.6302 - val_acc: 0.7257\n",
            "Epoch 190/500\n",
            "77/77 [>>>>>>>>>>>>>>>>>>>>>>>>>>>>>>] 1.1249s - loss: 0.7898 - acc: 0.6859 - val_loss: 0.6625 - val_acc: 0.7118\n",
            "Epoch 200/500\n",
            "77/77 [>>>>>>>>>>>>>>>>>>>>>>>>>>>>>>] 1.1200s - loss: 0.8254 - acc: 0.6536 - val_loss: 0.6853 - val_acc: 0.7083\n",
            "Epoch 210/500\n",
            "77/77 [>>>>>>>>>>>>>>>>>>>>>>>>>>>>>>] 1.1041s - loss: 1.0292 - acc: 0.6740 - val_loss: 0.7288 - val_acc: 0.7326\n",
            "Epoch 220/500\n",
            "77/77 [>>>>>>>>>>>>>>>>>>>>>>>>>>>>>>] 1.1188s - loss: 0.8702 - acc: 0.6213 - val_loss: 0.6289 - val_acc: 0.7083\n",
            "Epoch 230/500\n",
            "77/77 [>>>>>>>>>>>>>>>>>>>>>>>>>>>>>>] 1.1121s - loss: 0.8590 - acc: 0.6859 - val_loss: 0.6482 - val_acc: 0.7014\n",
            "Epoch 240/500\n",
            "77/77 [>>>>>>>>>>>>>>>>>>>>>>>>>>>>>>] 1.1254s - loss: 1.1100 - acc: 0.6844 - val_loss: 0.7296 - val_acc: 0.7049\n",
            "Epoch 250/500\n",
            "77/77 [>>>>>>>>>>>>>>>>>>>>>>>>>>>>>>] 1.1198s - loss: 0.7910 - acc: 0.6446 - val_loss: 0.6678 - val_acc: 0.7118\n",
            "Epoch 260/500\n",
            "77/77 [>>>>>>>>>>>>>>>>>>>>>>>>>>>>>>] 1.1128s - loss: 0.8523 - acc: 0.6732 - val_loss: 0.5703 - val_acc: 0.7361\n",
            "Epoch 270/500\n",
            "77/77 [>>>>>>>>>>>>>>>>>>>>>>>>>>>>>>] 1.1212s - loss: 0.9250 - acc: 0.6642 - val_loss: 0.5760 - val_acc: 0.7292\n",
            "Epoch 280/500\n",
            "77/77 [>>>>>>>>>>>>>>>>>>>>>>>>>>>>>>] 1.1252s - loss: 0.8662 - acc: 0.6902 - val_loss: 0.6162 - val_acc: 0.7396\n",
            "Epoch 290/500\n",
            "77/77 [>>>>>>>>>>>>>>>>>>>>>>>>>>>>>>] 1.1006s - loss: 0.9296 - acc: 0.6685 - val_loss: 0.6259 - val_acc: 0.7326\n",
            "Epoch 300/500\n",
            "77/77 [>>>>>>>>>>>>>>>>>>>>>>>>>>>>>>] 1.1045s - loss: 0.7165 - acc: 0.7124 - val_loss: 0.6769 - val_acc: 0.7535\n",
            "Epoch 310/500\n",
            "77/77 [>>>>>>>>>>>>>>>>>>>>>>>>>>>>>>] 1.1043s - loss: 0.7187 - acc: 0.6869 - val_loss: 0.5636 - val_acc: 0.7326\n",
            "Epoch 320/500\n",
            "77/77 [>>>>>>>>>>>>>>>>>>>>>>>>>>>>>>] 1.0982s - loss: 0.7458 - acc: 0.6942 - val_loss: 0.6269 - val_acc: 0.7465\n",
            "Epoch 330/500\n",
            "77/77 [>>>>>>>>>>>>>>>>>>>>>>>>>>>>>>] 1.1064s - loss: 0.9342 - acc: 0.6989 - val_loss: 0.5875 - val_acc: 0.7361\n",
            "Epoch 340/500\n",
            "77/77 [>>>>>>>>>>>>>>>>>>>>>>>>>>>>>>] 1.1059s - loss: 0.7330 - acc: 0.6846 - val_loss: 0.6804 - val_acc: 0.7500\n",
            "Epoch 350/500\n",
            "77/77 [>>>>>>>>>>>>>>>>>>>>>>>>>>>>>>] 1.1120s - loss: 0.8541 - acc: 0.6934 - val_loss: 0.7234 - val_acc: 0.7396\n",
            "Epoch 360/500\n",
            "77/77 [>>>>>>>>>>>>>>>>>>>>>>>>>>>>>>] 1.0902s - loss: 0.8147 - acc: 0.6654 - val_loss: 0.4915 - val_acc: 0.7153\n",
            "Epoch 370/500\n",
            "77/77 [>>>>>>>>>>>>>>>>>>>>>>>>>>>>>>] 1.1107s - loss: 0.9017 - acc: 0.7016 - val_loss: 0.5986 - val_acc: 0.7188\n",
            "Epoch 380/500\n",
            "77/77 [>>>>>>>>>>>>>>>>>>>>>>>>>>>>>>] 1.0976s - loss: 0.8773 - acc: 0.6424 - val_loss: 0.5902 - val_acc: 0.6979\n",
            "Epoch 390/500\n",
            "77/77 [>>>>>>>>>>>>>>>>>>>>>>>>>>>>>>] 1.1026s - loss: 0.8431 - acc: 0.6861 - val_loss: 0.5718 - val_acc: 0.7257\n",
            "Epoch 400/500\n",
            "77/77 [>>>>>>>>>>>>>>>>>>>>>>>>>>>>>>] 1.1152s - loss: 0.7930 - acc: 0.6873 - val_loss: 0.6188 - val_acc: 0.7361\n",
            "Epoch 410/500\n",
            "77/77 [>>>>>>>>>>>>>>>>>>>>>>>>>>>>>>] 1.1046s - loss: 0.6336 - acc: 0.7049 - val_loss: 0.5254 - val_acc: 0.7535\n",
            "Epoch 420/500\n",
            "77/77 [>>>>>>>>>>>>>>>>>>>>>>>>>>>>>>] 1.1034s - loss: 0.6565 - acc: 0.6842 - val_loss: 0.7135 - val_acc: 0.7257\n",
            "Epoch 430/500\n",
            "77/77 [>>>>>>>>>>>>>>>>>>>>>>>>>>>>>>] 1.1167s - loss: 0.7907 - acc: 0.7002 - val_loss: 0.4983 - val_acc: 0.7569\n",
            "Epoch 440/500\n",
            "77/77 [>>>>>>>>>>>>>>>>>>>>>>>>>>>>>>] 1.1029s - loss: 0.6938 - acc: 0.7110 - val_loss: 0.5179 - val_acc: 0.7361\n",
            "Epoch 450/500\n",
            "77/77 [>>>>>>>>>>>>>>>>>>>>>>>>>>>>>>] 1.1009s - loss: 0.9256 - acc: 0.6808 - val_loss: 0.5689 - val_acc: 0.7049\n",
            "Epoch 460/500\n",
            "77/77 [>>>>>>>>>>>>>>>>>>>>>>>>>>>>>>] 1.1060s - loss: 0.7074 - acc: 0.7200 - val_loss: 0.6756 - val_acc: 0.7639\n",
            "Epoch 470/500\n",
            "77/77 [>>>>>>>>>>>>>>>>>>>>>>>>>>>>>>] 1.1077s - loss: 0.6897 - acc: 0.6930 - val_loss: 0.6506 - val_acc: 0.7292\n",
            "Epoch 480/500\n",
            "77/77 [>>>>>>>>>>>>>>>>>>>>>>>>>>>>>>] 1.1061s - loss: 0.8708 - acc: 0.6730 - val_loss: 0.5367 - val_acc: 0.6840\n",
            "Epoch 490/500\n",
            "77/77 [>>>>>>>>>>>>>>>>>>>>>>>>>>>>>>] 1.1087s - loss: 0.5481 - acc: 0.7179 - val_loss: 0.6120 - val_acc: 0.7396\n",
            "Epoch 500/500\n",
            "77/77 [>>>>>>>>>>>>>>>>>>>>>>>>>>>>>>] 1.0929s - loss: 0.8724 - acc: 0.6934 - val_loss: 0.5107 - val_acc: 0.7083\n"
          ],
          "name": "stdout"
        },
        {
          "output_type": "display_data",
          "data": {
            "image/png": "[encoded data removed]",
            "text/plain": [
              "<Figure size 720x288 with 2 Axes>"
            ]
          },
          "metadata": {
            "tags": [],
            "needs_background": "light"
          }
        }
      ]
    },
    {
      "cell_type": "code",
      "metadata": {
        "colab": {
          "base_uri": "https://localhost:8080/",
          "height": 813
        },
        "id": "f6igecUDfp3n",
        "outputId": "a9903d07-08ab-4a6d-c214-0114fc52c955"
      },
      "source": [
        "# load model\n",
        "ld_model = Model.load(history[\"lastest_model_path\"])\n",
        "eva_test = ld_model.evaluate(dataloader=testloader)\n",
        "print(f\"Test Accuracy: {eva_test[1]:.4f}\\tTest Loss: {eva_test[0]:.4f}\")\n",
        "rec_test = {\"total\": [0, 0, 0, 0], \"hit\": [0, 0, 0, 0]}\n",
        "conf_matrix_test = np.zeros(shape=(4, 4), dtype=\"uint8\")\n",
        "\n",
        "real_test = teY.reshape(teY.size)\n",
        "pred_test = ld_model.predict(dataset=testset)\n",
        "for i in range(real_test.size):\n",
        "    rec_test[\"total\"][real_test[i]] += 1\n",
        "    rec_test[\"hit\"][real_test[i]] += (1 if real_test[i] == pred_test[i] else 0)\n",
        "    conf_matrix_test[real_test[i]][pred_test[i]] += 1\n",
        "for i in range(4):\n",
        "    print(\"Test accuracy of class-{}: {}\".format(i, rec_test[\"hit\"][i] / rec_test[\"total\"][i]))\n",
        "plot_confusion_matrix(conf_matrix_test, \"Test Confusion Matrix\")"
      ],
      "execution_count": 12,
      "outputs": [
        {
          "output_type": "stream",
          "text": [
            "Test Accuracy: 0.7743\tTest Loss: 0.5483\n",
            "Test accuracy of class-0: 0.9027777777777778\n",
            "Test accuracy of class-1: 0.9583333333333334\n",
            "Test accuracy of class-2: 0.8472222222222222\n",
            "Test accuracy of class-3: 0.3888888888888889\n"
          ],
          "name": "stdout"
        },
        {
          "output_type": "display_data",
          "data": {
            "image/png": "[encoded data removed]",
            "text/plain": [
              "<Figure size 720x720 with 2 Axes>"
            ]
          },
          "metadata": {
            "tags": [],
            "needs_background": "light"
          }
        }
      ]
    },
    {
      "cell_type": "markdown",
      "metadata": {
        "id": "_3NRutiFi7vT"
      },
      "source": [
        "### SI + FT"
      ]
    },
    {
      "cell_type": "code",
      "metadata": {
        "id": "9MYY8RXwi9cb"
      },
      "source": [
        "trX, trY = np.empty((0, 22, 562)), np.empty((0, 1))\n",
        "teX, teY = test_raw_set[0][\"x_test\"], test_raw_set[0][\"y_test\"]\n",
        "for i in range(1, 9):\n",
        "    trX = np.vstack([trX, train_raw_set[i][\"x_train\"]])\n",
        "    trX = np.vstack([trX, test_raw_set[i][\"x_test\"]])\n",
        "    trY = np.vstack([trY, train_raw_set[i][\"y_train\"]])\n",
        "    trY = np.vstack([trY, test_raw_set[i][\"y_test\"]])\n",
        "#print(trX.shape, trY.shape, teX.shape, teY.shape)\n",
        "x_train = torch.from_numpy(np.expand_dims(trX, axis=1))\n",
        "y_train = torch.from_numpy(np.reshape(trY, (trY.size, ))).long()\n",
        "x_test = torch.from_numpy(np.expand_dims(teX, axis=1))\n",
        "y_test = torch.from_numpy(np.reshape(teY, (teY.size, ))).long()\n",
        "trainset, testset = TensorDataset(x_train, y_train), TensorDataset(x_test, y_test)\n",
        "trainloader = DataLoader(dataset=trainset, batch_size=64, shuffle=True)\n",
        "testloader = DataLoader(dataset=testset, batch_size=64, shuffle=True)"
      ],
      "execution_count": 31,
      "outputs": []
    },
    {
      "cell_type": "code",
      "metadata": {
        "colab": {
          "base_uri": "https://localhost:8080/"
        },
        "id": "zPUpXbtNlBJ3",
        "outputId": "b74e4029-6bfe-44b9-f9e4-aff65eb1ebb9"
      },
      "source": [
        "model = Model(eegnet, lr=0.001)\n",
        "# save checkpoint model when both trainset and validset get new max acc\n",
        "history = model.fit(trainloader=trainloader, validloader=testloader, epochs=500, monitor=[\"acc\", \"val_acc\"])\n",
        "# save pre-trained model\n",
        "ld_model = Model.load(history[\"lastest_model_path\"])\n",
        "ld_model.save(\"./model/pre-trained_si_model.pt\")"
      ],
      "execution_count": 32,
      "outputs": [
        {
          "output_type": "stream",
          "text": [
            "Epoch 1/500\n",
            "72/72 [>>>>>>>>>>>>>>>>>>>>>>>>>>>>>>] 1.1575s - loss: 0.7297 - acc: 0.7413 - val_loss: 1.0037 - val_acc: 0.6111\n",
            "Epoch 10/500\n",
            "72/72 [>>>>>>>>>>>>>>>>>>>>>>>>>>>>>>] 1.0803s - loss: 0.6326 - acc: 0.7574 - val_loss: 1.1724 - val_acc: 0.6181\n",
            "Epoch 20/500\n",
            "72/72 [>>>>>>>>>>>>>>>>>>>>>>>>>>>>>>] 1.0690s - loss: 0.8383 - acc: 0.7504 - val_loss: 0.6821 - val_acc: 0.6701\n",
            "Epoch 30/500\n",
            "72/72 [>>>>>>>>>>>>>>>>>>>>>>>>>>>>>>] 1.0500s - loss: 0.5988 - acc: 0.7600 - val_loss: 0.9746 - val_acc: 0.6701\n",
            "Epoch 40/500\n",
            "72/72 [>>>>>>>>>>>>>>>>>>>>>>>>>>>>>>] 1.0456s - loss: 0.6284 - acc: 0.7598 - val_loss: 0.8382 - val_acc: 0.6493\n",
            "Epoch 50/500\n",
            "72/72 [>>>>>>>>>>>>>>>>>>>>>>>>>>>>>>] 1.0477s - loss: 0.6478 - acc: 0.7470 - val_loss: 0.9590 - val_acc: 0.6528\n",
            "Epoch 60/500\n",
            "72/72 [>>>>>>>>>>>>>>>>>>>>>>>>>>>>>>] 1.0603s - loss: 0.7507 - acc: 0.7502 - val_loss: 1.0276 - val_acc: 0.5972\n",
            "Epoch 70/500\n",
            "72/72 [>>>>>>>>>>>>>>>>>>>>>>>>>>>>>>] 1.0533s - loss: 0.6529 - acc: 0.7441 - val_loss: 0.7881 - val_acc: 0.6215\n",
            "Epoch 80/500\n",
            "72/72 [>>>>>>>>>>>>>>>>>>>>>>>>>>>>>>] 1.0530s - loss: 0.6780 - acc: 0.7433 - val_loss: 1.2617 - val_acc: 0.6042\n",
            "Epoch 90/500\n",
            "72/72 [>>>>>>>>>>>>>>>>>>>>>>>>>>>>>>] 1.0550s - loss: 0.6809 - acc: 0.7209 - val_loss: 0.9499 - val_acc: 0.5590\n",
            "Epoch 100/500\n",
            "72/72 [>>>>>>>>>>>>>>>>>>>>>>>>>>>>>>] 1.0518s - loss: 0.6136 - acc: 0.7650 - val_loss: 0.9162 - val_acc: 0.6458\n",
            "Epoch 110/500\n",
            "72/72 [>>>>>>>>>>>>>>>>>>>>>>>>>>>>>>] 1.0547s - loss: 0.5750 - acc: 0.7600 - val_loss: 0.8791 - val_acc: 0.6528\n",
            "Epoch 120/500\n",
            "72/72 [>>>>>>>>>>>>>>>>>>>>>>>>>>>>>>] 1.0478s - loss: 0.6903 - acc: 0.7632 - val_loss: 0.7047 - val_acc: 0.6736\n",
            "Epoch 130/500\n",
            "72/72 [>>>>>>>>>>>>>>>>>>>>>>>>>>>>>>] 1.0461s - loss: 0.6413 - acc: 0.7546 - val_loss: 1.1514 - val_acc: 0.6319\n",
            "Epoch 140/500\n",
            "72/72 [>>>>>>>>>>>>>>>>>>>>>>>>>>>>>>] 1.0388s - loss: 0.5971 - acc: 0.7602 - val_loss: 0.8147 - val_acc: 0.6285\n",
            "Epoch 150/500\n",
            "72/72 [>>>>>>>>>>>>>>>>>>>>>>>>>>>>>>] 1.0462s - loss: 0.7103 - acc: 0.7630 - val_loss: 0.9643 - val_acc: 0.6458\n",
            "Epoch 160/500\n",
            "72/72 [>>>>>>>>>>>>>>>>>>>>>>>>>>>>>>] 1.0557s - loss: 0.5299 - acc: 0.7537 - val_loss: 0.8154 - val_acc: 0.6181\n",
            "Epoch 170/500\n",
            "72/72 [>>>>>>>>>>>>>>>>>>>>>>>>>>>>>>] 1.0439s - loss: 0.7298 - acc: 0.7470 - val_loss: 0.9315 - val_acc: 0.6007\n",
            "Epoch 180/500\n",
            "72/72 [>>>>>>>>>>>>>>>>>>>>>>>>>>>>>>] 1.0532s - loss: 0.7155 - acc: 0.7706 - val_loss: 0.8127 - val_acc: 0.6597\n",
            "Epoch 190/500\n",
            "72/72 [>>>>>>>>>>>>>>>>>>>>>>>>>>>>>>] 1.0491s - loss: 0.6270 - acc: 0.7524 - val_loss: 0.9456 - val_acc: 0.6007\n",
            "Epoch 200/500\n",
            "72/72 [>>>>>>>>>>>>>>>>>>>>>>>>>>>>>>] 1.0598s - loss: 0.7206 - acc: 0.7387 - val_loss: 0.6391 - val_acc: 0.6250\n",
            "Epoch 210/500\n",
            "72/72 [>>>>>>>>>>>>>>>>>>>>>>>>>>>>>>] 1.0524s - loss: 0.6345 - acc: 0.7602 - val_loss: 0.9549 - val_acc: 0.6354\n",
            "Epoch 220/500\n",
            "72/72 [>>>>>>>>>>>>>>>>>>>>>>>>>>>>>>] 1.0561s - loss: 0.7199 - acc: 0.7487 - val_loss: 0.9303 - val_acc: 0.6736\n",
            "Epoch 230/500\n",
            "72/72 [>>>>>>>>>>>>>>>>>>>>>>>>>>>>>>] 1.0567s - loss: 0.5993 - acc: 0.7509 - val_loss: 0.7799 - val_acc: 0.6215\n",
            "Epoch 240/500\n",
            "72/72 [>>>>>>>>>>>>>>>>>>>>>>>>>>>>>>] 1.0557s - loss: 0.7347 - acc: 0.7721 - val_loss: 0.8493 - val_acc: 0.6424\n",
            "Epoch 250/500\n",
            "72/72 [>>>>>>>>>>>>>>>>>>>>>>>>>>>>>>] 1.0550s - loss: 0.6459 - acc: 0.7606 - val_loss: 0.8489 - val_acc: 0.6424\n",
            "Epoch 260/500\n",
            "72/72 [>>>>>>>>>>>>>>>>>>>>>>>>>>>>>>] 1.0809s - loss: 0.5531 - acc: 0.7619 - val_loss: 0.7091 - val_acc: 0.6493\n",
            "Epoch 270/500\n",
            "72/72 [>>>>>>>>>>>>>>>>>>>>>>>>>>>>>>] 1.0616s - loss: 0.8292 - acc: 0.7424 - val_loss: 0.9198 - val_acc: 0.6042\n",
            "Epoch 280/500\n",
            "72/72 [>>>>>>>>>>>>>>>>>>>>>>>>>>>>>>] 1.0557s - loss: 0.6338 - acc: 0.7520 - val_loss: 0.8517 - val_acc: 0.6181\n",
            "Epoch 290/500\n",
            "72/72 [>>>>>>>>>>>>>>>>>>>>>>>>>>>>>>] 1.0492s - loss: 0.5867 - acc: 0.7674 - val_loss: 1.0607 - val_acc: 0.6458\n",
            "Epoch 300/500\n",
            "72/72 [>>>>>>>>>>>>>>>>>>>>>>>>>>>>>>] 1.0450s - loss: 0.7882 - acc: 0.7658 - val_loss: 0.9310 - val_acc: 0.6424\n",
            "Epoch 310/500\n",
            "72/72 [>>>>>>>>>>>>>>>>>>>>>>>>>>>>>>] 1.0505s - loss: 0.5924 - acc: 0.7654 - val_loss: 1.0345 - val_acc: 0.6528\n",
            "Epoch 320/500\n",
            "72/72 [>>>>>>>>>>>>>>>>>>>>>>>>>>>>>>] 1.0546s - loss: 0.6044 - acc: 0.7556 - val_loss: 0.8859 - val_acc: 0.6354\n",
            "Epoch 330/500\n",
            "72/72 [>>>>>>>>>>>>>>>>>>>>>>>>>>>>>>] 1.0488s - loss: 0.7285 - acc: 0.7578 - val_loss: 0.8320 - val_acc: 0.6285\n",
            "Epoch 340/500\n",
            "72/72 [>>>>>>>>>>>>>>>>>>>>>>>>>>>>>>] 1.0523s - loss: 0.7038 - acc: 0.7650 - val_loss: 0.6684 - val_acc: 0.6528\n",
            "Epoch 350/500\n",
            "72/72 [>>>>>>>>>>>>>>>>>>>>>>>>>>>>>>] 1.0473s - loss: 0.5591 - acc: 0.7663 - val_loss: 0.6731 - val_acc: 0.6701\n",
            "Epoch 360/500\n",
            "72/72 [>>>>>>>>>>>>>>>>>>>>>>>>>>>>>>] 1.0564s - loss: 0.5944 - acc: 0.7550 - val_loss: 0.7563 - val_acc: 0.6424\n",
            "Epoch 370/500\n",
            "72/72 [>>>>>>>>>>>>>>>>>>>>>>>>>>>>>>] 1.0647s - loss: 0.4985 - acc: 0.7739 - val_loss: 0.7207 - val_acc: 0.6701\n",
            "Epoch 380/500\n",
            "72/72 [>>>>>>>>>>>>>>>>>>>>>>>>>>>>>>] 1.0462s - loss: 0.6949 - acc: 0.7470 - val_loss: 0.8505 - val_acc: 0.6181\n",
            "Epoch 390/500\n",
            "72/72 [>>>>>>>>>>>>>>>>>>>>>>>>>>>>>>] 1.0507s - loss: 0.6817 - acc: 0.7582 - val_loss: 0.7104 - val_acc: 0.6042\n",
            "Epoch 400/500\n",
            "72/72 [>>>>>>>>>>>>>>>>>>>>>>>>>>>>>>] 1.0546s - loss: 0.6217 - acc: 0.7431 - val_loss: 0.7564 - val_acc: 0.6007\n",
            "Epoch 410/500\n",
            "72/72 [>>>>>>>>>>>>>>>>>>>>>>>>>>>>>>] 1.0525s - loss: 0.6529 - acc: 0.7552 - val_loss: 0.6016 - val_acc: 0.6528\n",
            "Epoch 420/500\n",
            "72/72 [>>>>>>>>>>>>>>>>>>>>>>>>>>>>>>] 1.0648s - loss: 0.7453 - acc: 0.7493 - val_loss: 0.9243 - val_acc: 0.6111\n",
            "Epoch 430/500\n",
            "72/72 [>>>>>>>>>>>>>>>>>>>>>>>>>>>>>>] 1.0488s - loss: 0.6003 - acc: 0.7773 - val_loss: 0.8786 - val_acc: 0.6458\n",
            "Epoch 440/500\n",
            "72/72 [>>>>>>>>>>>>>>>>>>>>>>>>>>>>>>] 1.0517s - loss: 0.6558 - acc: 0.7784 - val_loss: 0.8859 - val_acc: 0.6736\n",
            "Epoch 450/500\n",
            "72/72 [>>>>>>>>>>>>>>>>>>>>>>>>>>>>>>] 1.0585s - loss: 0.6274 - acc: 0.7556 - val_loss: 0.8799 - val_acc: 0.6215\n",
            "Epoch 460/500\n",
            "72/72 [>>>>>>>>>>>>>>>>>>>>>>>>>>>>>>] 1.0495s - loss: 0.6542 - acc: 0.7635 - val_loss: 0.9437 - val_acc: 0.6424\n",
            "Epoch 470/500\n",
            "72/72 [>>>>>>>>>>>>>>>>>>>>>>>>>>>>>>] 1.0469s - loss: 0.5393 - acc: 0.7741 - val_loss: 0.6951 - val_acc: 0.6528\n",
            "Epoch 480/500\n",
            "72/72 [>>>>>>>>>>>>>>>>>>>>>>>>>>>>>>] 1.0501s - loss: 0.6908 - acc: 0.7431 - val_loss: 0.8861 - val_acc: 0.6458\n",
            "Epoch 490/500\n",
            "72/72 [>>>>>>>>>>>>>>>>>>>>>>>>>>>>>>] 1.0490s - loss: 0.7007 - acc: 0.7784 - val_loss: 0.6215 - val_acc: 0.6319\n",
            "Epoch 500/500\n",
            "72/72 [>>>>>>>>>>>>>>>>>>>>>>>>>>>>>>] 1.0505s - loss: 0.5693 - acc: 0.7648 - val_loss: 0.7074 - val_acc: 0.6285\n"
          ],
          "name": "stdout"
        }
      ]
    },
    {
      "cell_type": "code",
      "metadata": {
        "id": "ix8MWRO3zq71"
      },
      "source": [
        "\"\"\" fine tune \"\"\"\n",
        "trX = train_raw_set[0][\"x_train\"]\n",
        "trY = train_raw_set[0][\"y_train\"]\n",
        "x_train = torch.from_numpy(np.expand_dims(trX, axis=1))\n",
        "y_train = torch.from_numpy(np.reshape(trY, (trY.size, ))).long()\n",
        "trainset = TensorDataset(x_train, y_train)\n",
        "trainloader = DataLoader(dataset=trainset, batch_size=64, shuffle=True)"
      ],
      "execution_count": 33,
      "outputs": []
    },
    {
      "cell_type": "code",
      "metadata": {
        "colab": {
          "base_uri": "https://localhost:8080/"
        },
        "id": "rU7gDx6AtjZK",
        "outputId": "6a00b4f1-3545-4dcf-ecfa-6ee886eaa788"
      },
      "source": [
        "torch_model = torch.load(\"./model/pre-trained_si_model.pt\")\n",
        "for param in torch_model.parameters():\n",
        "    param.requires_grad = False\n",
        "torch_model.classifier = nn.Linear(torch_model.classifier.in_features, 4)\n",
        "ft_model = torch_model.to(device)\n",
        "summary(ft_model, (1, 22, 562))"
      ],
      "execution_count": 34,
      "outputs": [
        {
          "output_type": "stream",
          "text": [
            "----------------------------------------------------------------\n",
            "        Layer (type)               Output Shape         Param #\n",
            "================================================================\n",
            "            Conv2d-1           [-1, 8, 22, 563]             512\n",
            "       BatchNorm2d-2           [-1, 8, 22, 563]              16\n",
            "            Conv2d-3           [-1, 16, 1, 563]             352\n",
            "       BatchNorm2d-4           [-1, 16, 1, 563]              32\n",
            "               ELU-5           [-1, 16, 1, 563]               0\n",
            "         AvgPool2d-6           [-1, 16, 1, 140]               0\n",
            "           Dropout-7           [-1, 16, 1, 140]               0\n",
            "            Conv2d-8           [-1, 16, 1, 141]             256\n",
            "            Conv2d-9           [-1, 16, 1, 141]             256\n",
            "      BatchNorm2d-10           [-1, 16, 1, 141]              32\n",
            "              ELU-11           [-1, 16, 1, 141]               0\n",
            "        AvgPool2d-12            [-1, 16, 1, 17]               0\n",
            "          Dropout-13            [-1, 16, 1, 17]               0\n",
            "           Linear-14                    [-1, 4]           1,092\n",
            "================================================================\n",
            "Total params: 2,548\n",
            "Trainable params: 1,092\n",
            "Non-trainable params: 1,456\n",
            "----------------------------------------------------------------\n",
            "Input size (MB): 0.05\n",
            "Forward/backward pass size (MB): 1.83\n",
            "Params size (MB): 0.01\n",
            "Estimated Total Size (MB): 1.88\n",
            "----------------------------------------------------------------\n"
          ],
          "name": "stdout"
        }
      ]
    },
    {
      "cell_type": "code",
      "metadata": {
        "colab": {
          "base_uri": "https://localhost:8080/"
        },
        "id": "_rO9m2Ylz7fb",
        "outputId": "6304945b-dd09-4a5d-f75e-334d3b0b5b4d"
      },
      "source": [
        "model = Model(ft_model, lr=0.001)\n",
        "model.optimizer = optim.Adam(ft_model.classifier.parameters(), lr=0.001)\n",
        "history = model.fit(trainloader=trainloader, validloader=testloader, epochs=500, monitor=[\"acc\", \"val_acc\"])"
      ],
      "execution_count": 35,
      "outputs": [
        {
          "output_type": "stream",
          "text": [
            "Epoch 1/500\n",
            "5/5 [>>>>>>>>>>>>>>>>>>>>>>>>>>>>>>] 0.2458s - loss: 1.3232 - acc: 0.4549 - val_loss: 1.3574 - val_acc: 0.3819\n",
            "Epoch 10/500\n",
            "5/5 [>>>>>>>>>>>>>>>>>>>>>>>>>>>>>>] 0.2284s - loss: 1.1070 - acc: 0.7396 - val_loss: 1.1640 - val_acc: 0.6389\n",
            "Epoch 20/500\n",
            "5/5 [>>>>>>>>>>>>>>>>>>>>>>>>>>>>>>] 0.2202s - loss: 0.9672 - acc: 0.7882 - val_loss: 0.9821 - val_acc: 0.7014\n",
            "Epoch 30/500\n",
            "5/5 [>>>>>>>>>>>>>>>>>>>>>>>>>>>>>>] 0.2167s - loss: 0.8788 - acc: 0.8229 - val_loss: 0.8658 - val_acc: 0.7014\n",
            "Epoch 40/500\n",
            "5/5 [>>>>>>>>>>>>>>>>>>>>>>>>>>>>>>] 0.2243s - loss: 0.7575 - acc: 0.8368 - val_loss: 0.7695 - val_acc: 0.7049\n",
            "Epoch 50/500\n",
            "5/5 [>>>>>>>>>>>>>>>>>>>>>>>>>>>>>>] 0.2266s - loss: 0.7184 - acc: 0.8507 - val_loss: 0.8553 - val_acc: 0.7222\n",
            "Epoch 60/500\n",
            "5/5 [>>>>>>>>>>>>>>>>>>>>>>>>>>>>>>] 0.2319s - loss: 0.5817 - acc: 0.8576 - val_loss: 0.7586 - val_acc: 0.7292\n",
            "Epoch 70/500\n",
            "5/5 [>>>>>>>>>>>>>>>>>>>>>>>>>>>>>>] 0.2300s - loss: 0.6727 - acc: 0.8681 - val_loss: 0.7701 - val_acc: 0.7292\n",
            "Epoch 80/500\n",
            "5/5 [>>>>>>>>>>>>>>>>>>>>>>>>>>>>>>] 0.2289s - loss: 0.6147 - acc: 0.8785 - val_loss: 0.7169 - val_acc: 0.7326\n",
            "Epoch 90/500\n",
            "5/5 [>>>>>>>>>>>>>>>>>>>>>>>>>>>>>>] 0.2290s - loss: 0.5483 - acc: 0.8715 - val_loss: 0.7273 - val_acc: 0.7188\n",
            "Epoch 100/500\n",
            "5/5 [>>>>>>>>>>>>>>>>>>>>>>>>>>>>>>] 0.2280s - loss: 0.5445 - acc: 0.8750 - val_loss: 0.8696 - val_acc: 0.7326\n",
            "Epoch 110/500\n",
            "5/5 [>>>>>>>>>>>>>>>>>>>>>>>>>>>>>>] 0.2208s - loss: 0.5790 - acc: 0.8750 - val_loss: 0.6914 - val_acc: 0.7292\n",
            "Epoch 120/500\n",
            "5/5 [>>>>>>>>>>>>>>>>>>>>>>>>>>>>>>] 0.2342s - loss: 0.5118 - acc: 0.8715 - val_loss: 0.7017 - val_acc: 0.7222\n",
            "Epoch 130/500\n",
            "5/5 [>>>>>>>>>>>>>>>>>>>>>>>>>>>>>>] 0.2449s - loss: 0.5710 - acc: 0.8750 - val_loss: 0.7440 - val_acc: 0.7118\n",
            "Epoch 140/500\n",
            "5/5 [>>>>>>>>>>>>>>>>>>>>>>>>>>>>>>] 0.2243s - loss: 0.5210 - acc: 0.8819 - val_loss: 0.6582 - val_acc: 0.7257\n",
            "Epoch 150/500\n",
            "5/5 [>>>>>>>>>>>>>>>>>>>>>>>>>>>>>>] 0.2205s - loss: 0.4991 - acc: 0.8819 - val_loss: 0.6801 - val_acc: 0.7188\n",
            "Epoch 160/500\n",
            "5/5 [>>>>>>>>>>>>>>>>>>>>>>>>>>>>>>] 0.2281s - loss: 0.4516 - acc: 0.8819 - val_loss: 0.5494 - val_acc: 0.7188\n",
            "Epoch 170/500\n",
            "5/5 [>>>>>>>>>>>>>>>>>>>>>>>>>>>>>>] 0.2259s - loss: 0.4816 - acc: 0.8889 - val_loss: 0.6230 - val_acc: 0.7222\n",
            "Epoch 180/500\n",
            "5/5 [>>>>>>>>>>>>>>>>>>>>>>>>>>>>>>] 0.2255s - loss: 0.4429 - acc: 0.8958 - val_loss: 0.7350 - val_acc: 0.7153\n",
            "Epoch 190/500\n",
            "5/5 [>>>>>>>>>>>>>>>>>>>>>>>>>>>>>>] 0.2320s - loss: 0.5015 - acc: 0.8993 - val_loss: 0.6122 - val_acc: 0.7118\n",
            "Epoch 200/500\n",
            "5/5 [>>>>>>>>>>>>>>>>>>>>>>>>>>>>>>] 0.2221s - loss: 0.3470 - acc: 0.8889 - val_loss: 0.6417 - val_acc: 0.7153\n",
            "Epoch 210/500\n",
            "5/5 [>>>>>>>>>>>>>>>>>>>>>>>>>>>>>>] 0.2255s - loss: 0.3037 - acc: 0.8889 - val_loss: 0.5437 - val_acc: 0.7153\n",
            "Epoch 220/500\n",
            "5/5 [>>>>>>>>>>>>>>>>>>>>>>>>>>>>>>] 0.2215s - loss: 0.4443 - acc: 0.9132 - val_loss: 0.6289 - val_acc: 0.7222\n",
            "Epoch 230/500\n",
            "5/5 [>>>>>>>>>>>>>>>>>>>>>>>>>>>>>>] 0.2278s - loss: 0.4347 - acc: 0.9097 - val_loss: 0.6234 - val_acc: 0.7118\n",
            "Epoch 240/500\n",
            "5/5 [>>>>>>>>>>>>>>>>>>>>>>>>>>>>>>] 0.2218s - loss: 0.4317 - acc: 0.9132 - val_loss: 0.6587 - val_acc: 0.7083\n",
            "Epoch 250/500\n",
            "5/5 [>>>>>>>>>>>>>>>>>>>>>>>>>>>>>>] 0.2239s - loss: 0.4080 - acc: 0.9236 - val_loss: 0.6720 - val_acc: 0.7118\n",
            "Epoch 260/500\n",
            "5/5 [>>>>>>>>>>>>>>>>>>>>>>>>>>>>>>] 0.2198s - loss: 0.3192 - acc: 0.9236 - val_loss: 0.6941 - val_acc: 0.7118\n",
            "Epoch 270/500\n",
            "5/5 [>>>>>>>>>>>>>>>>>>>>>>>>>>>>>>] 0.2270s - loss: 0.3918 - acc: 0.9236 - val_loss: 0.5190 - val_acc: 0.7083\n",
            "Epoch 280/500\n",
            "5/5 [>>>>>>>>>>>>>>>>>>>>>>>>>>>>>>] 0.2209s - loss: 0.4222 - acc: 0.9271 - val_loss: 0.8488 - val_acc: 0.7083\n",
            "Epoch 290/500\n",
            "5/5 [>>>>>>>>>>>>>>>>>>>>>>>>>>>>>>] 0.2241s - loss: 0.3611 - acc: 0.9236 - val_loss: 0.4502 - val_acc: 0.7083\n",
            "Epoch 300/500\n",
            "5/5 [>>>>>>>>>>>>>>>>>>>>>>>>>>>>>>] 0.2265s - loss: 0.4150 - acc: 0.9271 - val_loss: 0.7163 - val_acc: 0.7049\n",
            "Epoch 310/500\n",
            "5/5 [>>>>>>>>>>>>>>>>>>>>>>>>>>>>>>] 0.2292s - loss: 0.4036 - acc: 0.9201 - val_loss: 0.6163 - val_acc: 0.7083\n",
            "Epoch 320/500\n",
            "5/5 [>>>>>>>>>>>>>>>>>>>>>>>>>>>>>>] 0.2173s - loss: 0.3813 - acc: 0.9236 - val_loss: 0.6631 - val_acc: 0.7222\n",
            "Epoch 330/500\n",
            "5/5 [>>>>>>>>>>>>>>>>>>>>>>>>>>>>>>] 0.2165s - loss: 0.3244 - acc: 0.9236 - val_loss: 0.5269 - val_acc: 0.7118\n",
            "Epoch 340/500\n",
            "5/5 [>>>>>>>>>>>>>>>>>>>>>>>>>>>>>>] 0.2244s - loss: 0.3613 - acc: 0.9306 - val_loss: 0.4975 - val_acc: 0.7153\n",
            "Epoch 350/500\n",
            "5/5 [>>>>>>>>>>>>>>>>>>>>>>>>>>>>>>] 0.2231s - loss: 0.3194 - acc: 0.9375 - val_loss: 0.5994 - val_acc: 0.7222\n",
            "Epoch 360/500\n",
            "5/5 [>>>>>>>>>>>>>>>>>>>>>>>>>>>>>>] 0.2178s - loss: 0.3813 - acc: 0.9306 - val_loss: 0.6861 - val_acc: 0.7222\n",
            "Epoch 370/500\n",
            "5/5 [>>>>>>>>>>>>>>>>>>>>>>>>>>>>>>] 0.2161s - loss: 0.2602 - acc: 0.9340 - val_loss: 0.6423 - val_acc: 0.7118\n",
            "Epoch 380/500\n",
            "5/5 [>>>>>>>>>>>>>>>>>>>>>>>>>>>>>>] 0.2210s - loss: 0.2445 - acc: 0.9340 - val_loss: 0.6475 - val_acc: 0.7188\n",
            "Epoch 390/500\n",
            "5/5 [>>>>>>>>>>>>>>>>>>>>>>>>>>>>>>] 0.2303s - loss: 0.2705 - acc: 0.9306 - val_loss: 0.9701 - val_acc: 0.7222\n",
            "Epoch 400/500\n",
            "5/5 [>>>>>>>>>>>>>>>>>>>>>>>>>>>>>>] 0.2177s - loss: 0.3037 - acc: 0.9271 - val_loss: 0.6663 - val_acc: 0.7118\n",
            "Epoch 410/500\n",
            "5/5 [>>>>>>>>>>>>>>>>>>>>>>>>>>>>>>] 0.2229s - loss: 0.4212 - acc: 0.9271 - val_loss: 0.4409 - val_acc: 0.7222\n",
            "Epoch 420/500\n",
            "5/5 [>>>>>>>>>>>>>>>>>>>>>>>>>>>>>>] 0.2188s - loss: 0.2570 - acc: 0.9306 - val_loss: 0.5697 - val_acc: 0.7222\n",
            "Epoch 430/500\n",
            "5/5 [>>>>>>>>>>>>>>>>>>>>>>>>>>>>>>] 0.2399s - loss: 0.3846 - acc: 0.9340 - val_loss: 0.5270 - val_acc: 0.7188\n",
            "Epoch 440/500\n",
            "5/5 [>>>>>>>>>>>>>>>>>>>>>>>>>>>>>>] 0.2305s - loss: 0.3230 - acc: 0.9340 - val_loss: 0.9417 - val_acc: 0.7257\n",
            "Epoch 450/500\n",
            "5/5 [>>>>>>>>>>>>>>>>>>>>>>>>>>>>>>] 0.2240s - loss: 0.2439 - acc: 0.9340 - val_loss: 0.6070 - val_acc: 0.7257\n",
            "Epoch 460/500\n",
            "5/5 [>>>>>>>>>>>>>>>>>>>>>>>>>>>>>>] 0.2255s - loss: 0.3387 - acc: 0.9306 - val_loss: 0.7119 - val_acc: 0.7188\n",
            "Epoch 470/500\n",
            "5/5 [>>>>>>>>>>>>>>>>>>>>>>>>>>>>>>] 0.2232s - loss: 0.2863 - acc: 0.9375 - val_loss: 0.6066 - val_acc: 0.7153\n",
            "Epoch 480/500\n",
            "5/5 [>>>>>>>>>>>>>>>>>>>>>>>>>>>>>>] 0.2262s - loss: 0.3100 - acc: 0.9410 - val_loss: 0.6332 - val_acc: 0.7153\n",
            "Epoch 490/500\n",
            "5/5 [>>>>>>>>>>>>>>>>>>>>>>>>>>>>>>] 0.2209s - loss: 0.3171 - acc: 0.9410 - val_loss: 0.6892 - val_acc: 0.7188\n",
            "Epoch 500/500\n",
            "5/5 [>>>>>>>>>>>>>>>>>>>>>>>>>>>>>>] 0.2269s - loss: 0.2544 - acc: 0.9410 - val_loss: 0.6943 - val_acc: 0.7188\n"
          ],
          "name": "stdout"
        }
      ]
    },
    {
      "cell_type": "code",
      "metadata": {
        "colab": {
          "base_uri": "https://localhost:8080/",
          "height": 813
        },
        "id": "27vcfaKslDSw",
        "outputId": "2773df48-0f51-44b4-9f19-7702d889ee2d"
      },
      "source": [
        "# load model\n",
        "ld_model = Model.load(history[\"lastest_model_path\"])\n",
        "eva_test = ld_model.evaluate(dataloader=testloader)\n",
        "print(f\"Test Accuracy: {eva_test[1]:.4f}\\tTest Loss: {eva_test[0]:.4f}\")\n",
        "rec_test = {\"total\": [0, 0, 0, 0], \"hit\": [0, 0, 0, 0]}\n",
        "conf_matrix_test = np.zeros(shape=(4, 4), dtype=\"uint8\")\n",
        "\n",
        "real_test = teY.reshape(teY.size)\n",
        "pred_test = ld_model.predict(dataset=testset)\n",
        "for i in range(real_test.size):\n",
        "    rec_test[\"total\"][real_test[i]] += 1\n",
        "    rec_test[\"hit\"][real_test[i]] += (1 if real_test[i] == pred_test[i] else 0)\n",
        "    conf_matrix_test[real_test[i]][pred_test[i]] += 1\n",
        "for i in range(4):\n",
        "    print(\"Test accuracy of class-{}: {}\".format(i, rec_test[\"hit\"][i] / rec_test[\"total\"][i]))\n",
        "plot_confusion_matrix(conf_matrix_test, \"Test Confusion Matrix\")"
      ],
      "execution_count": 36,
      "outputs": [
        {
          "output_type": "stream",
          "text": [
            "Test Accuracy: 0.7361\tTest Loss: 0.8017\n",
            "Test accuracy of class-0: 0.8333333333333334\n",
            "Test accuracy of class-1: 0.875\n",
            "Test accuracy of class-2: 0.8611111111111112\n",
            "Test accuracy of class-3: 0.375\n"
          ],
          "name": "stdout"
        },
        {
          "output_type": "display_data",
          "data": {
            "image/png": "[encoded data removed]",
            "text/plain": [
              "<Figure size 720x720 with 2 Axes>"
            ]
          },
          "metadata": {
            "tags": [],
            "needs_background": "light"
          }
        }
      ]
    }
  ]
}